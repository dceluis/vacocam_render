{
 "cells": [
  {
   "cell_type": "code",
   "execution_count": null,
   "id": "5e06fcb0-3e13-46ca-ae91-ad0a7873cbb5",
   "metadata": {
    "execution": {
     "iopub.execute_input": "2023-12-15T05:51:00.611973Z",
     "iopub.status.busy": "2023-12-15T05:51:00.611618Z",
     "iopub.status.idle": "2023-12-15T05:51:04.304351Z",
     "shell.execute_reply": "2023-12-15T05:51:04.303415Z",
     "shell.execute_reply.started": "2023-12-15T05:51:00.611943Z"
    }
   },
   "outputs": [],
   "source": [
    "!python -m pip install ultralytics sahi==0.11.15 ipython==8.5.0 ffmpeg-python wandb==0.16.1"
   ]
  },
  {
   "cell_type": "code",
   "execution_count": 1,
   "id": "8e507d15-f8f3-40dc-a100-6a922b1811c9",
   "metadata": {
    "execution": {
     "iopub.execute_input": "2023-12-15T05:51:04.306467Z",
     "iopub.status.busy": "2023-12-15T05:51:04.306102Z",
     "iopub.status.idle": "2023-12-15T05:51:04.315778Z",
     "shell.execute_reply": "2023-12-15T05:51:04.314687Z",
     "shell.execute_reply.started": "2023-12-15T05:51:04.306433Z"
    }
   },
   "outputs": [
    {
     "name": "stdout",
     "output_type": "stream",
     "text": [
      "['/home/luis/workspace/vacocam/source/prerender.mp4']\n"
     ]
    }
   ],
   "source": [
    "import os\n",
    "\n",
    "directory_path = \"/home/luis/workspace/vacocam_render/source\"\n",
    "\n",
    "entries = os.listdir(directory_path)\n",
    "\n",
    "file_paths = sorted([os.path.join(directory_path, entry) for entry in entries if os.path.isfile(os.path.join(directory_path, entry)) and entry.endswith('.mp4')])\n",
    "\n",
    "print(file_paths)\n",
    "\n",
    "args = ' '.join(f'\"{path}\"' for path in file_paths)"
   ]
  },
  {
   "cell_type": "code",
   "execution_count": 2,
   "id": "6f20abb4-dc12-47b3-9343-81dcd34f8fd4",
   "metadata": {
    "execution": {
     "iopub.execute_input": "2023-12-15T05:51:04.317212Z",
     "iopub.status.busy": "2023-12-15T05:51:04.316965Z",
     "iopub.status.idle": "2023-12-15T06:02:22.084843Z",
     "shell.execute_reply": "2023-12-15T06:02:22.083657Z",
     "shell.execute_reply.started": "2023-12-15T05:51:04.317187Z"
    }
   },
   "outputs": [
    {
     "name": "stdout",
     "output_type": "stream",
     "text": [
      "python track.py --tracking=vacocam \"\"/home/luis/workspace/vacocam/source/prerender.mp4\"\"\n"
     ]
    }
   ],
   "source": [
    "command = f'track.py --tracking=declustered \"{args}\"'\n",
    "\n",
    "print(f\"%run {command}\")\n",
    "\n",
    "%run $command"
   ]
  },
  {
   "cell_type": "code",
   "execution_count": null,
   "id": "3b96f63a",
   "metadata": {},
   "outputs": [
    {
     "name": "stdout",
     "output_type": "stream",
     "text": [
      "python track.py --tracking=vacocam \"\"/home/luis/workspace/vacocam/source/prerender.mp4\"\"\n"
     ]
    }
   ],
   "source": [
    "command = f'track.py --tracking=vacocam \"{args}\"'\n",
    "\n",
    "print(f\"%run {command}\")\n",
    "\n",
    "%run $command"
   ]
  }
 ],
 "metadata": {
  "kernelspec": {
   "display_name": "Python 3 (ipykernel)",
   "language": "python",
   "name": "python3"
  },
  "language_info": {
   "codemirror_mode": {
    "name": "ipython",
    "version": 3
   },
   "file_extension": ".py",
   "mimetype": "text/x-python",
   "name": "python",
   "nbconvert_exporter": "python",
   "pygments_lexer": "ipython3",
   "version": "3.9.16"
  }
 },
 "nbformat": 4,
 "nbformat_minor": 5
}
