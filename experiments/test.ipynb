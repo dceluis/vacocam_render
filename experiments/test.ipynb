{
 "cells": [
  {
   "cell_type": "code",
   "execution_count": 6,
   "id": "7ebe1494-ae8e-4ea1-91f1-d56a44652ecd",
   "metadata": {
    "execution": {
     "iopub.execute_input": "2023-11-28T06:13:08.405698Z",
     "iopub.status.busy": "2023-11-28T06:13:08.404883Z",
     "iopub.status.idle": "2023-11-28T06:13:12.977793Z",
     "shell.execute_reply": "2023-11-28T06:13:12.977065Z",
     "shell.execute_reply.started": "2023-11-28T06:13:08.405659Z"
    }
   },
   "outputs": [
    {
     "data": {
      "text/html": [
       "Finishing last run (ID:h2s8njnc) before initializing another..."
      ],
      "text/plain": [
       "<IPython.core.display.HTML object>"
      ]
     },
     "metadata": {},
     "output_type": "display_data"
    },
    {
     "name": "stderr",
     "output_type": "stream",
     "text": [
      "wandb: WARNING No requirements.txt found, not creating job artifact. See https://docs.wandb.ai/guides/launch/create-job\n"
     ]
    },
    {
     "data": {
      "application/vnd.jupyter.widget-view+json": {
       "model_id": "33e8e5f67f4846c0bd944ef1c15e4fb5",
       "version_major": 2,
       "version_minor": 0
      },
      "text/plain": [
       "VBox(children=(Label(value='0.000 MB of 0.000 MB uploaded\\r'), FloatProgress(value=0.0, max=1.0)))"
      ]
     },
     "metadata": {},
     "output_type": "display_data"
    },
    {
     "data": {
      "text/html": [
       " View run <strong style=\"color:#cdcd00\">eager-water-1</strong> at: <a href='https://wandb.ai/dceluis/notebooks/runs/h2s8njnc' target=\"_blank\">https://wandb.ai/dceluis/notebooks/runs/h2s8njnc</a><br/>Synced 2 W&B file(s), 0 media file(s), 0 artifact file(s) and 0 other file(s)"
      ],
      "text/plain": [
       "<IPython.core.display.HTML object>"
      ]
     },
     "metadata": {},
     "output_type": "display_data"
    },
    {
     "data": {
      "text/html": [
       "Find logs at: <code>./wandb/run-20231128_061157-h2s8njnc/logs</code>"
      ],
      "text/plain": [
       "<IPython.core.display.HTML object>"
      ]
     },
     "metadata": {},
     "output_type": "display_data"
    },
    {
     "data": {
      "text/html": [
       "Successfully finished last run (ID:h2s8njnc). Initializing new run:<br/>"
      ],
      "text/plain": [
       "<IPython.core.display.HTML object>"
      ]
     },
     "metadata": {},
     "output_type": "display_data"
    },
    {
     "data": {
      "application/vnd.jupyter.widget-view+json": {
       "model_id": "1d7292b75d904627a06717ea642e5819",
       "version_major": 2,
       "version_minor": 0
      },
      "text/plain": [
       "VBox(children=(Label(value='Waiting for wandb.init()...\\r'), FloatProgress(value=0.011113438393092819, max=1.0…"
      ]
     },
     "metadata": {},
     "output_type": "display_data"
    },
    {
     "data": {
      "text/html": [
       "Tracking run with wandb version 0.16.0"
      ],
      "text/plain": [
       "<IPython.core.display.HTML object>"
      ]
     },
     "metadata": {},
     "output_type": "display_data"
    },
    {
     "data": {
      "text/html": [
       "Run data is saved locally in <code>/notebooks/wandb/run-20231128_061308-h2s8njnc</code>"
      ],
      "text/plain": [
       "<IPython.core.display.HTML object>"
      ]
     },
     "metadata": {},
     "output_type": "display_data"
    },
    {
     "data": {
      "text/html": [
       "Resuming run <strong><a href='https://wandb.ai/dceluis/YOLOv8/runs/h2s8njnc' target=\"_blank\">scarlet-pyramid-99</a></strong> to <a href='https://wandb.ai/dceluis/YOLOv8' target=\"_blank\">Weights & Biases</a> (<a href='https://wandb.me/run' target=\"_blank\">docs</a>)<br/>"
      ],
      "text/plain": [
       "<IPython.core.display.HTML object>"
      ]
     },
     "metadata": {},
     "output_type": "display_data"
    },
    {
     "data": {
      "text/html": [
       " View project at <a href='https://wandb.ai/dceluis/YOLOv8' target=\"_blank\">https://wandb.ai/dceluis/YOLOv8</a>"
      ],
      "text/plain": [
       "<IPython.core.display.HTML object>"
      ]
     },
     "metadata": {},
     "output_type": "display_data"
    },
    {
     "data": {
      "text/html": [
       " View run at <a href='https://wandb.ai/dceluis/YOLOv8/runs/h2s8njnc' target=\"_blank\">https://wandb.ai/dceluis/YOLOv8/runs/h2s8njnc</a>"
      ],
      "text/plain": [
       "<IPython.core.display.HTML object>"
      ]
     },
     "metadata": {},
     "output_type": "display_data"
    }
   ],
   "source": [
    "import wandb\n",
    "\n",
    "run = wandb.init(id=\"488kvfd4\", resume=\"allow\", project=\"YOLOv8\")"
   ]
  },
  {
   "cell_type": "code",
   "execution_count": 9,
   "id": "3c69842b-9f7e-48b3-9aca-63218dc9f90d",
   "metadata": {
    "execution": {
     "iopub.execute_input": "2023-11-28T06:17:32.375720Z",
     "iopub.status.busy": "2023-11-28T06:17:32.375019Z",
     "iopub.status.idle": "2023-11-28T06:17:33.617399Z",
     "shell.execute_reply": "2023-11-28T06:17:33.616547Z",
     "shell.execute_reply.started": "2023-11-28T06:17:32.375692Z"
    }
   },
   "outputs": [
    {
     "data": {
      "text/plain": [
       "<Artifact vacocam_model>"
      ]
     },
     "execution_count": 9,
     "metadata": {},
     "output_type": "execute_result"
    }
   ],
   "source": [
    "saved_artifact = run.use_artifact(\"vacocam_model:latest\")\n",
    "\n",
    "draft_artifact = saved_artifact.new_draft()\n",
    "\n",
    "try:\n",
    "    draft_artifact.remove(\"best.pt\")\n",
    "except FileNotFoundError:\n",
    "    pass\n",
    "\n",
    "try:\n",
    "    draft_artifact.remove(\"last.pt\")\n",
    "except FileNotFoundError:\n",
    "    pass\n",
    "\n",
    "draft_artifact.add_file(\"/notebooks/runs/detect/train8/weights/best.pt\")\n",
    "draft_artifact.add_file(\"/notebooks/runs/detect/train8/weights/last.pt\")\n",
    "\n",
    "run.log_artifact(draft_artifact, aliases=[f\"run_{run.id}\"])"
   ]
  },
  {
   "cell_type": "code",
   "execution_count": 10,
   "id": "78a9cede-8beb-40ba-9a3e-8b6d9085f1e5",
   "metadata": {
    "execution": {
     "iopub.execute_input": "2023-11-28T06:17:37.038937Z",
     "iopub.status.busy": "2023-11-28T06:17:37.038092Z",
     "iopub.status.idle": "2023-11-28T06:17:39.797218Z",
     "shell.execute_reply": "2023-11-28T06:17:39.796315Z",
     "shell.execute_reply.started": "2023-11-28T06:17:37.038901Z"
    }
   },
   "outputs": [
    {
     "name": "stderr",
     "output_type": "stream",
     "text": [
      "wandb: WARNING No requirements.txt found, not creating job artifact. See https://docs.wandb.ai/guides/launch/create-job\n"
     ]
    },
    {
     "data": {
      "application/vnd.jupyter.widget-view+json": {
       "model_id": "9252cbefedda46f18f1e972e426e162e",
       "version_major": 2,
       "version_minor": 0
      },
      "text/plain": [
       "VBox(children=(Label(value='99.356 MB of 99.356 MB uploaded\\r'), FloatProgress(value=1.0, max=1.0)))"
      ]
     },
     "metadata": {},
     "output_type": "display_data"
    },
    {
     "data": {
      "text/html": [
       "<style>\n",
       "    table.wandb td:nth-child(1) { padding: 0 10px; text-align: left ; width: auto;} td:nth-child(2) {text-align: left ; width: 100%}\n",
       "    .wandb-row { display: flex; flex-direction: row; flex-wrap: wrap; justify-content: flex-start; width: 100% }\n",
       "    .wandb-col { display: flex; flex-direction: column; flex-basis: 100%; flex: 1; padding: 10px; }\n",
       "    </style>\n",
       "<div class=\"wandb-row\"><div class=\"wandb-col\"><h3>Run summary:</h3><br/><table class=\"wandb\"><tr><td>lr/pg0</td><td>4e-05</td></tr><tr><td>lr/pg1</td><td>4e-05</td></tr><tr><td>lr/pg2</td><td>4e-05</td></tr><tr><td>metrics/mAP50(B)</td><td>0.78261</td></tr><tr><td>metrics/mAP50-95(B)</td><td>0.56039</td></tr><tr><td>metrics/precision(B)</td><td>0.95445</td></tr><tr><td>metrics/recall(B)</td><td>0.64</td></tr><tr><td>model/GFLOPs</td><td>0</td></tr><tr><td>model/parameters</td><td>25856899</td></tr><tr><td>model/speed_PyTorch(ms)</td><td>6.864</td></tr><tr><td>train/box_loss</td><td>0.5631</td></tr><tr><td>train/cls_loss</td><td>0.28044</td></tr><tr><td>train/dfl_loss</td><td>0.78966</td></tr><tr><td>val/box_loss</td><td>0.99287</td></tr><tr><td>val/cls_loss</td><td>0.93328</td></tr><tr><td>val/dfl_loss</td><td>0.80637</td></tr></table><br/></div></div>"
      ],
      "text/plain": [
       "<IPython.core.display.HTML object>"
      ]
     },
     "metadata": {},
     "output_type": "display_data"
    },
    {
     "data": {
      "text/html": [
       " View run <strong style=\"color:#cdcd00\">scarlet-pyramid-99</strong> at: <a href='https://wandb.ai/dceluis/YOLOv8/runs/h2s8njnc' target=\"_blank\">https://wandb.ai/dceluis/YOLOv8/runs/h2s8njnc</a><br/>Synced 2 W&B file(s), 0 media file(s), 2 artifact file(s) and 0 other file(s)"
      ],
      "text/plain": [
       "<IPython.core.display.HTML object>"
      ]
     },
     "metadata": {},
     "output_type": "display_data"
    },
    {
     "data": {
      "text/html": [
       "Find logs at: <code>./wandb/run-20231128_061308-h2s8njnc/logs</code>"
      ],
      "text/plain": [
       "<IPython.core.display.HTML object>"
      ]
     },
     "metadata": {},
     "output_type": "display_data"
    }
   ],
   "source": [
    "run.finish()"
   ]
  }
 ],
 "metadata": {
  "kernelspec": {
   "display_name": "Python 3 (ipykernel)",
   "language": "python",
   "name": "python3"
  },
  "language_info": {
   "codemirror_mode": {
    "name": "ipython",
    "version": 3
   },
   "file_extension": ".py",
   "mimetype": "text/x-python",
   "name": "python",
   "nbconvert_exporter": "python",
   "pygments_lexer": "ipython3",
   "version": "3.9.16"
  }
 },
 "nbformat": 4,
 "nbformat_minor": 5
}
