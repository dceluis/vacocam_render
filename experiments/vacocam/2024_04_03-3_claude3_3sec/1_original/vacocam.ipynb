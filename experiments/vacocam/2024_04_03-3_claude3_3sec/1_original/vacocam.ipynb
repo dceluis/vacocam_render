{
 "cells": [
  {
   "cell_type": "code",
   "execution_count": 1,
   "metadata": {},
   "outputs": [
    {
     "name": "stdout",
     "output_type": "stream",
     "text": [
      "Requirement already satisfied: line_profiler[ipython] in /home/luis/workspace/vacocam_render/venv/lib/python3.9/site-packages (4.0.3)\n",
      "Requirement already satisfied: ipython==8.5.0 in /home/luis/workspace/vacocam_render/venv/lib/python3.9/site-packages (8.5.0)\n",
      "Requirement already satisfied: ffmpeg-python in /home/luis/workspace/vacocam_render/venv/lib/python3.9/site-packages (0.2.0)\n",
      "Requirement already satisfied: imutils==0.5.4 in /home/luis/workspace/vacocam_render/venv/lib/python3.9/site-packages (0.5.4)\n",
      "Requirement already satisfied: sahi in /home/luis/workspace/vacocam_render/venv/lib/python3.9/site-packages (0.11.15)\n",
      "Requirement already satisfied: scikit-learn in /home/luis/workspace/vacocam_render/venv/lib/python3.9/site-packages (1.4.0)\n",
      "Requirement already satisfied: supervision in /home/luis/workspace/vacocam_render/venv/lib/python3.9/site-packages (0.18.0)\n",
      "Requirement already satisfied: anthropic in /home/luis/workspace/vacocam_render/venv/lib/python3.9/site-packages (0.21.3)\n",
      "Requirement already satisfied: ipywidgets in /home/luis/workspace/vacocam_render/venv/lib/python3.9/site-packages (8.1.1)\n",
      "Requirement already satisfied: pickleshare in /home/luis/workspace/vacocam_render/venv/lib/python3.9/site-packages (from ipython==8.5.0) (0.7.5)\n",
      "Requirement already satisfied: pexpect>4.3 in /home/luis/workspace/vacocam_render/venv/lib/python3.9/site-packages (from ipython==8.5.0) (4.9.0)\n",
      "Requirement already satisfied: matplotlib-inline in /home/luis/workspace/vacocam_render/venv/lib/python3.9/site-packages (from ipython==8.5.0) (0.1.6)\n",
      "Requirement already satisfied: backcall in /home/luis/workspace/vacocam_render/venv/lib/python3.9/site-packages (from ipython==8.5.0) (0.2.0)\n",
      "Requirement already satisfied: traitlets>=5 in /home/luis/workspace/vacocam_render/venv/lib/python3.9/site-packages (from ipython==8.5.0) (5.14.1)\n",
      "Requirement already satisfied: stack-data in /home/luis/workspace/vacocam_render/venv/lib/python3.9/site-packages (from ipython==8.5.0) (0.6.3)\n",
      "Requirement already satisfied: decorator in /home/luis/workspace/vacocam_render/venv/lib/python3.9/site-packages (from ipython==8.5.0) (5.1.1)\n",
      "Requirement already satisfied: prompt-toolkit<3.1.0,>3.0.1 in /home/luis/workspace/vacocam_render/venv/lib/python3.9/site-packages (from ipython==8.5.0) (3.0.43)\n",
      "Requirement already satisfied: jedi>=0.16 in /home/luis/workspace/vacocam_render/venv/lib/python3.9/site-packages (from ipython==8.5.0) (0.19.1)\n",
      "Requirement already satisfied: pygments>=2.4.0 in /home/luis/workspace/vacocam_render/venv/lib/python3.9/site-packages (from ipython==8.5.0) (2.17.2)\n",
      "Requirement already satisfied: future in /home/luis/workspace/vacocam_render/venv/lib/python3.9/site-packages (from ffmpeg-python) (0.18.3)\n",
      "Requirement already satisfied: pillow>=8.2.0 in /home/luis/workspace/vacocam_render/venv/lib/python3.9/site-packages (from sahi) (10.2.0)\n",
      "Requirement already satisfied: fire in /home/luis/workspace/vacocam_render/venv/lib/python3.9/site-packages (from sahi) (0.5.0)\n",
      "Requirement already satisfied: opencv-python<=4.8 in /home/luis/workspace/vacocam_render/venv/lib/python3.9/site-packages (from sahi) (4.7.0.72)\n",
      "Requirement already satisfied: pyyaml in /home/luis/workspace/vacocam_render/venv/lib/python3.9/site-packages (from sahi) (6.0.1)\n",
      "Requirement already satisfied: pybboxes==0.1.6 in /home/luis/workspace/vacocam_render/venv/lib/python3.9/site-packages (from sahi) (0.1.6)\n",
      "Requirement already satisfied: requests in /home/luis/workspace/vacocam_render/venv/lib/python3.9/site-packages (from sahi) (2.31.0)\n",
      "Requirement already satisfied: shapely>=1.8.0 in /home/luis/workspace/vacocam_render/venv/lib/python3.9/site-packages (from sahi) (2.0.2)\n",
      "Requirement already satisfied: tqdm>=4.48.2 in /home/luis/workspace/vacocam_render/venv/lib/python3.9/site-packages (from sahi) (4.66.1)\n",
      "Requirement already satisfied: terminaltables in /home/luis/workspace/vacocam_render/venv/lib/python3.9/site-packages (from sahi) (3.1.10)\n",
      "Requirement already satisfied: click in /home/luis/workspace/vacocam_render/venv/lib/python3.9/site-packages (from sahi) (8.1.7)\n",
      "Requirement already satisfied: numpy in /home/luis/workspace/vacocam_render/venv/lib/python3.9/site-packages (from pybboxes==0.1.6->sahi) (1.26.3)\n",
      "Requirement already satisfied: threadpoolctl>=2.0.0 in /home/luis/workspace/vacocam_render/venv/lib/python3.9/site-packages (from scikit-learn) (3.2.0)\n",
      "Requirement already satisfied: scipy>=1.6.0 in /home/luis/workspace/vacocam_render/venv/lib/python3.9/site-packages (from scikit-learn) (1.12.0)\n",
      "Requirement already satisfied: joblib>=1.2.0 in /home/luis/workspace/vacocam_render/venv/lib/python3.9/site-packages (from scikit-learn) (1.3.2)\n",
      "Requirement already satisfied: defusedxml<0.8.0,>=0.7.1 in /home/luis/workspace/vacocam_render/venv/lib/python3.9/site-packages (from supervision) (0.7.1)\n",
      "Requirement already satisfied: matplotlib>=3.6.0 in /home/luis/workspace/vacocam_render/venv/lib/python3.9/site-packages (from supervision) (3.8.2)\n",
      "Requirement already satisfied: opencv-python-headless>=4.5.5.64 in /home/luis/workspace/vacocam_render/venv/lib/python3.9/site-packages (from supervision) (4.9.0.80)\n",
      "Requirement already satisfied: pydantic<3,>=1.9.0 in /home/luis/workspace/vacocam_render/venv/lib/python3.9/site-packages (from anthropic) (2.6.0)\n",
      "Requirement already satisfied: typing-extensions<5,>=4.7 in /home/luis/workspace/vacocam_render/venv/lib/python3.9/site-packages (from anthropic) (4.9.0)\n",
      "Requirement already satisfied: httpx<1,>=0.23.0 in /home/luis/workspace/vacocam_render/venv/lib/python3.9/site-packages (from anthropic) (0.26.0)\n",
      "Requirement already satisfied: distro<2,>=1.7.0 in /home/luis/workspace/vacocam_render/venv/lib/python3.9/site-packages (from anthropic) (1.9.0)\n",
      "Requirement already satisfied: anyio<5,>=3.5.0 in /home/luis/workspace/vacocam_render/venv/lib/python3.9/site-packages (from anthropic) (4.2.0)\n",
      "Requirement already satisfied: tokenizers>=0.13.0 in /home/luis/workspace/vacocam_render/venv/lib/python3.9/site-packages (from anthropic) (0.15.2)\n",
      "Requirement already satisfied: sniffio in /home/luis/workspace/vacocam_render/venv/lib/python3.9/site-packages (from anthropic) (1.3.0)\n",
      "Requirement already satisfied: comm>=0.1.3 in /home/luis/workspace/vacocam_render/venv/lib/python3.9/site-packages (from ipywidgets) (0.2.1)\n",
      "Requirement already satisfied: widgetsnbextension~=4.0.9 in /home/luis/workspace/vacocam_render/venv/lib/python3.9/site-packages (from ipywidgets) (4.0.9)\n",
      "Requirement already satisfied: jupyterlab-widgets~=3.0.9 in /home/luis/workspace/vacocam_render/venv/lib/python3.9/site-packages (from ipywidgets) (3.0.9)\n",
      "Requirement already satisfied: idna>=2.8 in /home/luis/workspace/vacocam_render/venv/lib/python3.9/site-packages (from anyio<5,>=3.5.0->anthropic) (3.6)\n",
      "Requirement already satisfied: exceptiongroup>=1.0.2 in /home/luis/workspace/vacocam_render/venv/lib/python3.9/site-packages (from anyio<5,>=3.5.0->anthropic) (1.2.0)\n",
      "Requirement already satisfied: certifi in /home/luis/workspace/vacocam_render/venv/lib/python3.9/site-packages (from httpx<1,>=0.23.0->anthropic) (2023.11.17)\n",
      "Requirement already satisfied: httpcore==1.* in /home/luis/workspace/vacocam_render/venv/lib/python3.9/site-packages (from httpx<1,>=0.23.0->anthropic) (1.0.2)\n",
      "Requirement already satisfied: h11<0.15,>=0.13 in /home/luis/workspace/vacocam_render/venv/lib/python3.9/site-packages (from httpcore==1.*->httpx<1,>=0.23.0->anthropic) (0.14.0)\n",
      "Requirement already satisfied: parso<0.9.0,>=0.8.3 in /home/luis/workspace/vacocam_render/venv/lib/python3.9/site-packages (from jedi>=0.16->ipython==8.5.0) (0.8.3)\n",
      "Requirement already satisfied: python-dateutil>=2.7 in /home/luis/workspace/vacocam_render/venv/lib/python3.9/site-packages (from matplotlib>=3.6.0->supervision) (2.8.2)\n",
      "Requirement already satisfied: contourpy>=1.0.1 in /home/luis/workspace/vacocam_render/venv/lib/python3.9/site-packages (from matplotlib>=3.6.0->supervision) (1.2.0)\n",
      "Requirement already satisfied: packaging>=20.0 in /home/luis/workspace/vacocam_render/venv/lib/python3.9/site-packages (from matplotlib>=3.6.0->supervision) (23.2)\n",
      "Requirement already satisfied: kiwisolver>=1.3.1 in /home/luis/workspace/vacocam_render/venv/lib/python3.9/site-packages (from matplotlib>=3.6.0->supervision) (1.4.5)\n",
      "Requirement already satisfied: fonttools>=4.22.0 in /home/luis/workspace/vacocam_render/venv/lib/python3.9/site-packages (from matplotlib>=3.6.0->supervision) (4.47.2)\n",
      "Requirement already satisfied: pyparsing>=2.3.1 in /home/luis/workspace/vacocam_render/venv/lib/python3.9/site-packages (from matplotlib>=3.6.0->supervision) (3.1.1)\n",
      "Requirement already satisfied: cycler>=0.10 in /home/luis/workspace/vacocam_render/venv/lib/python3.9/site-packages (from matplotlib>=3.6.0->supervision) (0.12.1)\n",
      "Requirement already satisfied: importlib-resources>=3.2.0 in /home/luis/workspace/vacocam_render/venv/lib/python3.9/site-packages (from matplotlib>=3.6.0->supervision) (6.1.1)\n",
      "Requirement already satisfied: ptyprocess>=0.5 in /home/luis/workspace/vacocam_render/venv/lib/python3.9/site-packages (from pexpect>4.3->ipython==8.5.0) (0.7.0)\n",
      "Requirement already satisfied: wcwidth in /home/luis/workspace/vacocam_render/venv/lib/python3.9/site-packages (from prompt-toolkit<3.1.0,>3.0.1->ipython==8.5.0) (0.2.13)\n",
      "Requirement already satisfied: pydantic-core==2.16.1 in /home/luis/workspace/vacocam_render/venv/lib/python3.9/site-packages (from pydantic<3,>=1.9.0->anthropic) (2.16.1)\n",
      "Requirement already satisfied: annotated-types>=0.4.0 in /home/luis/workspace/vacocam_render/venv/lib/python3.9/site-packages (from pydantic<3,>=1.9.0->anthropic) (0.6.0)\n",
      "Requirement already satisfied: huggingface_hub<1.0,>=0.16.4 in /home/luis/workspace/vacocam_render/venv/lib/python3.9/site-packages (from tokenizers>=0.13.0->anthropic) (0.22.2)\n",
      "Requirement already satisfied: six in /home/luis/workspace/vacocam_render/venv/lib/python3.9/site-packages (from fire->sahi) (1.16.0)\n",
      "Requirement already satisfied: termcolor in /home/luis/workspace/vacocam_render/venv/lib/python3.9/site-packages (from fire->sahi) (2.4.0)\n",
      "Requirement already satisfied: charset-normalizer<4,>=2 in /home/luis/workspace/vacocam_render/venv/lib/python3.9/site-packages (from requests->sahi) (3.3.2)\n",
      "Requirement already satisfied: urllib3<3,>=1.21.1 in /home/luis/workspace/vacocam_render/venv/lib/python3.9/site-packages (from requests->sahi) (2.1.0)\n",
      "Requirement already satisfied: pure-eval in /home/luis/workspace/vacocam_render/venv/lib/python3.9/site-packages (from stack-data->ipython==8.5.0) (0.2.2)\n",
      "Requirement already satisfied: asttokens>=2.1.0 in /home/luis/workspace/vacocam_render/venv/lib/python3.9/site-packages (from stack-data->ipython==8.5.0) (2.4.1)\n",
      "Requirement already satisfied: executing>=1.2.0 in /home/luis/workspace/vacocam_render/venv/lib/python3.9/site-packages (from stack-data->ipython==8.5.0) (2.0.1)\n",
      "Requirement already satisfied: fsspec>=2023.5.0 in /home/luis/workspace/vacocam_render/venv/lib/python3.9/site-packages (from huggingface_hub<1.0,>=0.16.4->tokenizers>=0.13.0->anthropic) (2023.12.2)\n",
      "Requirement already satisfied: filelock in /home/luis/workspace/vacocam_render/venv/lib/python3.9/site-packages (from huggingface_hub<1.0,>=0.16.4->tokenizers>=0.13.0->anthropic) (3.13.1)\n",
      "Requirement already satisfied: zipp>=3.1.0 in /home/luis/workspace/vacocam_render/venv/lib/python3.9/site-packages (from importlib-resources>=3.2.0->matplotlib>=3.6.0->supervision) (3.17.0)\n"
     ]
    }
   ],
   "source": [
    "!pip install \"line_profiler[ipython]\" ipython==8.5.0 ffmpeg-python imutils==0.5.4 sahi scikit-learn supervision anthropic ipywidgets"
   ]
  },
  {
   "cell_type": "code",
   "execution_count": 2,
   "metadata": {},
   "outputs": [],
   "source": [
    "# This experiment depends on specific files.\n",
    "video_path = \"/home/luis/workspace/vacocam_render/source/prerender.mp4\"\n",
    "detections_path = \"/home/luis/workspace/vacocam_render/experiments/vacocam/2024_04_02-2_claude3_5sec/source/track/prerender_detections_declustered.npy\""
   ]
  },
  {
   "cell_type": "code",
   "execution_count": 3,
   "metadata": {},
   "outputs": [
    {
     "name": "stdout",
     "output_type": "stream",
     "text": [
      "All files are correct.\n"
     ]
    }
   ],
   "source": [
    "import hashlib\n",
    "\n",
    "md5 = hashlib.md5()\n",
    "\n",
    "with open(video_path, \"rb\") as f:\n",
    "    for chunk in iter(lambda: f.read(4096), b\"\"):\n",
    "        md5.update(chunk)\n",
    "\n",
    "assert md5.hexdigest() == \"6d30279ea8ab9754c748d5752d97a027\", \"The video file is not the correct one.\"\n",
    "\n",
    "md5 = hashlib.md5()\n",
    "with open(detections_path, \"rb\") as f:\n",
    "    for chunk in iter(lambda: f.read(4096), b\"\"):\n",
    "        md5.update(chunk)\n",
    "\n",
    "assert md5.hexdigest() == \"0631148b034011bb4fd463ee9ab9323e\", \"The detections file is not the correct one.\"\n",
    "\n",
    "print(\"All files are correct.\")"
   ]
  },
  {
   "cell_type": "code",
   "execution_count": 3,
   "metadata": {},
   "outputs": [],
   "source": [
    "# set the experiment variables\n",
    "\n",
    "seconds = 3"
   ]
  },
  {
   "cell_type": "markdown",
   "metadata": {},
   "source": [
    "#### First, generate a presentation for every section in our video. This includes loading the cleaned up ball detections for the video"
   ]
  },
  {
   "cell_type": "code",
   "execution_count": 8,
   "metadata": {},
   "outputs": [
    {
     "name": "stdout",
     "output_type": "stream",
     "text": [
      "loaded 112300 detections from /home/luis/workspace/vacocam_render/experiments/vacocam/2024_04_02-2_claude3_5sec/source/track/prerender_detections_declustered.npy\n"
     ]
    }
   ],
   "source": [
    "import supervision as sv\n",
    "import cv2\n",
    "import os\n",
    "\n",
    "from detections import load_detections, Detections\n",
    "\n",
    "_, detections = load_detections(detections_path)\n",
    "\n",
    "video_info = sv.VideoInfo.from_video_path(video_path)\n",
    "\n",
    "framerate = video_info.fps\n",
    "total_frames = video_info.total_frames or 0\n",
    "\n",
    "frame_indices = [(i * seconds * framerate, (i + 1) * seconds * framerate) for i in range(int(total_frames / (seconds * framerate)))]\n",
    "if frame_indices[-1][1] != total_frames:\n",
    "    frame_indices.append((frame_indices[-1][1], total_frames))\n",
    "\n",
    "def make_video_section(cap, start, end):\n",
    "    dets = detections[start:end]\n",
    "    # find a frame in the middle of the section, but provided it has detections\n",
    "    mid = int((start + end) / 2)\n",
    "\n",
    "    while len(detections[mid]) == 0:\n",
    "        mid += 1\n",
    "\n",
    "\n",
    "    cap.set(cv2.CAP_PROP_POS_FRAMES, mid)\n",
    "    ret, sample = cap.read()\n",
    "    \n",
    "    if not ret:\n",
    "        raise Exception(\"Error reading video\")\n",
    "\n",
    "    sample = cv2.cvtColor(sample, cv2.COLOR_BGR2RGB)\n",
    "\n",
    "    return (dets, sample)"
   ]
  },
  {
   "cell_type": "code",
   "execution_count": 49,
   "metadata": {},
   "outputs": [
    {
     "name": "stdout",
     "output_type": "stream",
     "text": [
      "The autoreload extension is already loaded. To reload it, use:\n",
      "  %reload_ext autoreload\n"
     ]
    },
    {
     "name": "stderr",
     "output_type": "stream",
     "text": [
      "100%|██████████| 1248/1248 [00:15<00:00, 81.23it/s] \n"
     ]
    },
    {
     "name": "stdout",
     "output_type": "stream",
     "text": [
      "[VacomCam] Done finding overlaps\n",
      "[VacomCam] Found 25 overlaps\n",
      "[VacomCam] Total detections: 43305\n",
      "[VacomCam] Total clustered detections: 40905\n"
     ]
    }
   ],
   "source": [
    "# cluster detections and find overlaps\n",
    "\n",
    "%load_ext autoreload\n",
    "%autoreload 2\n",
    "\n",
    "from tracking import cluster_detections, get_artifact_id\n",
    "\n",
    "# for video generation\n",
    "from tracking import present_section\n",
    "import numpy as np\n",
    "from PIL import Image\n",
    "from io import BytesIO\n",
    "\n",
    "from tqdm import tqdm\n",
    "\n",
    "overlaps = {}\n",
    "\n",
    "detections_sum = 0\n",
    "clustered_sum = 0\n",
    "\n",
    "cap = cv2.VideoCapture(video_path)\n",
    "\n",
    "v_out = cv2.VideoWriter(\"sections.mp4\", cv2.VideoWriter_fourcc(*'mp4v'), framerate, (video_info.width, video_info.height))\n",
    "\n",
    "for start, end in tqdm(frame_indices):\n",
    "    section_detections = detections[start:end]\n",
    "    clustered_detections: dict[int, list[Detections]] = cluster_detections(section_detections, image_width=video_info.width, image_height=video_info.height, preset=\"play\")\n",
    "\n",
    "    clustered_detections_minus_noise: dict[int, list[Detections]] = { key: detections for key, detections in clustered_detections.items() if key != -1 }\n",
    "\n",
    "    detections_sum_section = sum([len(detections) for detections in section_detections])\n",
    "    clustered_sum_section = sum([len(detections) for detections_l in clustered_detections_minus_noise.values() for detections in detections_l])\n",
    "\n",
    "    detections_sum += detections_sum_section\n",
    "    clustered_sum += clustered_sum_section\n",
    "\n",
    "    if (start > 95000 and end < 96000 + 15 * framerate) or (start > 103000 and end < 104000 + 15 * framerate):\n",
    "        _section_detections, sample = make_video_section(cap, start, end)\n",
    "        section_img, section_metadata = present_section(sample, clustered_detections, ignore_noise=False)\n",
    "        video_frame = np.array(Image.open(BytesIO(section_img)))\n",
    "        # add a label to the top left corner with the section id\n",
    "        cv2.putText(video_frame, \"Section {}\".format(start), (10, 30), cv2.FONT_HERSHEY_SIMPLEX, 1, (255, 255, 255), 2, cv2.LINE_AA)\n",
    "        v_out.write(cv2.cvtColor(video_frame, cv2.COLOR_RGB2BGR))\n",
    "\n",
    "    # find clusters start and ends\n",
    "    start_ends: dict[int, tuple[int, int]] = { key: (0, 0) for key in clustered_detections_minus_noise.keys() }\n",
    "\n",
    "    for key, c_detections in clustered_detections_minus_noise.items():\n",
    "        # find start of the cluster, meaning the index of the first detection that is not empty. (len(detection) > 0)\n",
    "        cluster_start = 0\n",
    "        for i, detection in enumerate(c_detections):\n",
    "            if len(detection) > 0:\n",
    "                cluster_start = i\n",
    "                break\n",
    "        # find end of the cluster, meaning the index of the last detection that is not empty. (len(detection) > 0)\n",
    "        cluster_end = 0\n",
    "        for i, detection in enumerate(reversed(c_detections)):\n",
    "            if len(detection) > 0:\n",
    "                cluster_end = len(c_detections) - i\n",
    "                break\n",
    "        start_ends[key] = (cluster_start, cluster_end)\n",
    "    \n",
    "    # now find any overlapping clusters\n",
    "    overlapping_clusters = {}\n",
    "\n",
    "    for key1, (start1, end1) in start_ends.items():\n",
    "        for key2, (start2, end2) in start_ends.items():\n",
    "            if key1 != key2 and start1 < end2 and end1 > start2:\n",
    "                overlap = min(end1, end2) - max(start1, start2)\n",
    "\n",
    "                if (key1, key2) in overlapping_clusters or (key2, key1) in overlapping_clusters:\n",
    "                    continue\n",
    "                if overlap < min(end1 - start1, end2 - start2) * 0.5:\n",
    "                    continue\n",
    "                if end1 - start1 < 15 or end2 - start2 < 15 or overlap < 15:\n",
    "                    continue\n",
    "\n",
    "                overlapping_clusters[(key1, key2)] = {\n",
    "                    \"overlap\": min(end1, end2) - max(start1, start2),\n",
    "                    \"clusters\": {\n",
    "                        key1: clustered_detections_minus_noise[key1],\n",
    "                        key2: clustered_detections_minus_noise[key2]\n",
    "                    },\n",
    "                    \"bounds\": {\n",
    "                        key1: (start + start1, start + end1),\n",
    "                        key2: (start + start2, start + end2)\n",
    "                    },\n",
    "                }\n",
    "\n",
    "\n",
    "    if len(overlapping_clusters) > 0:\n",
    "        overlaps[(start, end)] = overlapping_clusters\n",
    "\n",
    "v_out.release()\n",
    "\n",
    "print(\"[VacomCam] Done finding overlaps\")\n",
    "print(\"[VacomCam] Found {} overlaps\".format(sum([len(value) for value in overlaps.values()])))\n",
    "\n",
    "print(\"[VacomCam] Total detections: {}\".format(detections_sum))\n",
    "print(\"[VacomCam] Total clustered detections: {}\".format(clustered_sum))"
   ]
  },
  {
   "cell_type": "code",
   "execution_count": 50,
   "metadata": {},
   "outputs": [
    {
     "name": "stdout",
     "output_type": "stream",
     "text": [
      "The autoreload extension is already loaded. To reload it, use:\n",
      "  %reload_ext autoreload\n",
      "5:39 - 5:42\n",
      "\t0 - 1 (58 frames overlap)\n",
      "\t\t5:39 - 5:42\n",
      "5:33 - 5:36\n",
      "\t0 - 1 (44 frames overlap)\n",
      "\t\t5:33 - 5:36\n",
      "11:45 - 11:48\n",
      "\t0 - 1 (41 frames overlap)\n",
      "\t\t11:45 - 11:48\n",
      "57:36 - 57:39\n",
      "\t1 - 2 (41 frames overlap)\n",
      "\t\t57:36 - 57:39\n",
      "53:0 - 53:3\n",
      "\t0 - 1 (39 frames overlap)\n",
      "\t\t53:0 - 53:3\n",
      "29:0 - 29:3\n",
      "\t0 - 1 (36 frames overlap)\n",
      "\t\t29:0 - 29:3\n",
      "2:18 - 2:21\n",
      "\t1 - 2 (35 frames overlap)\n",
      "\t\t2:18 - 2:20\n",
      "2:33 - 2:36\n",
      "\t0 - 1 (27 frames overlap)\n",
      "\t\t2:33 - 2:36\n",
      "60:30 - 60:33\n",
      "\t0 - 1 (26 frames overlap)\n",
      "\t\t60:30 - 60:31\n",
      "5:36 - 5:39\n",
      "\t0 - 1 (24 frames overlap)\n",
      "\t\t5:36 - 5:37\n",
      "42:45 - 42:48\n",
      "\t0 - 1 (24 frames overlap)\n",
      "\t\t42:45 - 42:48\n",
      "37:0 - 37:3\n",
      "\t0 - 1 (23 frames overlap)\n",
      "\t\t37:0 - 37:1\n",
      "6:15 - 6:18\n",
      "\t1 - 3 (21 frames overlap)\n",
      "\t\t6:17 - 6:18\n",
      "13:24 - 13:27\n",
      "\t0 - 1 (21 frames overlap)\n",
      "\t\t13:24 - 13:27\n",
      "52:33 - 52:36\n",
      "\t0 - 1 (21 frames overlap)\n",
      "\t\t52:33 - 52:36\n",
      "6:21 - 6:24\n",
      "\t0 - 1 (20 frames overlap)\n",
      "\t\t6:21 - 6:24\n",
      "12:33 - 12:36\n",
      "\t0 - 1 (20 frames overlap)\n",
      "\t\t12:33 - 12:34\n",
      "17:39 - 17:42\n",
      "\t0 - 1 (18 frames overlap)\n",
      "\t\t17:39 - 17:42\n",
      "26:27 - 26:30\n",
      "\t0 - 1 (18 frames overlap)\n",
      "\t\t26:27 - 26:29\n",
      "5:42 - 5:45\n",
      "\t0 - 1 (17 frames overlap)\n",
      "\t\t5:42 - 5:42\n",
      "22:57 - 23:0\n",
      "\t0 - 1 (17 frames overlap)\n",
      "\t\t22:57 - 22:59\n",
      "2:12 - 2:15\n",
      "\t0 - 1 (16 frames overlap)\n",
      "\t\t2:12 - 2:14\n",
      "42:42 - 42:45\n",
      "\t0 - 1 (16 frames overlap)\n",
      "\t\t42:43 - 42:45\n",
      "50:15 - 50:18\n",
      "\t0 - 1 (16 frames overlap)\n",
      "\t\t50:15 - 50:18\n",
      "2:15 - 2:18\n",
      "\t1 - 2 (15 frames overlap)\n",
      "\t\t2:17 - 2:18\n"
     ]
    }
   ],
   "source": [
    "# save presented sections to disk\n",
    "\n",
    "%load_ext autoreload\n",
    "%autoreload 2\n",
    "\n",
    "import numpy as np\n",
    "from PIL import Image\n",
    "from io import BytesIO\n",
    "\n",
    "from tracking import present_section, save_section_presentation\n",
    "\n",
    "# print overlaps ordered by overlap time descendent\n",
    "overlaps = { key: value for key, value in sorted(overlaps.items(), key=lambda item: sum([va[\"overlap\"] for va in item[1].values()]), reverse=True) }\n",
    "\n",
    "# lets also make a video of the overlaps for easier viewing\n",
    "v_out = cv2.VideoWriter(\"overlaps.mp4\", cv2.VideoWriter_fourcc(*'mp4v'), framerate, (1920, 1080))\n",
    "\n",
    "for (section_start, section_end), overlapping_clusters in overlaps.items():\n",
    "    formatted_start = f\"{int(section_start / framerate / 60)}:{int(section_start / framerate % 60)}\"\n",
    "    formatted_end = f\"{int(section_end / framerate / 60)}:{int(section_end / framerate % 60)}\"\n",
    "\n",
    "    print(f\"{formatted_start} - {formatted_end}\")\n",
    "\n",
    "    for (key1, key2), overlap_data in overlapping_clusters.items():\n",
    "        start1, end1 = overlap_data[\"bounds\"][key1]\n",
    "        start2, end2 = overlap_data[\"bounds\"][key2]\n",
    "\n",
    "        start = min(start1, start2)\n",
    "        end = max(end1, end2)\n",
    "\n",
    "        print(f\"\\t{key1} - {key2} ({overlap_data['overlap']} frames overlap)\")\n",
    "        formatted_start = f\"{int(start / framerate / 60)}:{int(start / framerate % 60)}\"\n",
    "        formatted_end = f\"{int(end / framerate / 60)}:{int(end / framerate % 60)}\"\n",
    "        print(f\"\\t\\t{formatted_start} - {formatted_end}\")\n",
    "\n",
    "        artifact_id = get_artifact_id(video_path, start, end, framerate)\n",
    "\n",
    "        _section_detections, sample = make_video_section(cap, start, end)\n",
    "\n",
    "        section_img, section_metadata = present_section(sample, overlap_data[\"clusters\"], version=\"v3\")\n",
    "        \n",
    "        save_section_presentation(artifact_id, section_img, section_metadata)\n",
    "\n",
    "        video_frame = np.array(Image.open(BytesIO(section_img)))\n",
    "        v_out.write(cv2.cvtColor(video_frame, cv2.COLOR_RGB2BGR))\n",
    "\n",
    "v_out.release()"
   ]
  },
  {
   "cell_type": "markdown",
   "metadata": {},
   "source": [
    "#### Cleanup and setup\n",
    "\n",
    "Now that the sections have been generated, go and manually delete the ones you dont need. (image and metadata)\n",
    "\n",
    "Then, run the code below:"
   ]
  },
  {
   "cell_type": "code",
   "execution_count": 53,
   "metadata": {},
   "outputs": [],
   "source": [
    "import os\n",
    "import matplotlib.pyplot as plt\n",
    "from typing import Optional\n",
    "\n",
    "pngs = [f for f in os.listdir(\"./track/presentation\") if f.endswith(\".png\")]\n",
    "artifact_ids = [os.path.basename(f).replace(\".png\", \"\") for f in pngs]\n",
    "\n",
    "if not os.path.exists(\"./track/ground_truth\"):\n",
    "    os.makedirs(\"./track/ground_truth\")\n",
    "\n",
    "for png in pngs:\n",
    "    csv = png.replace(\".png\", \".csv\")\n",
    "\n",
    "    if not os.path.isfile(os.path.join(\"./track/ground_truth\", csv)):\n",
    "        open(os.path.join(\"./track/ground_truth\", csv), \"w\").close()\n",
    "\n",
    "def load_ground_truth(artifact_id) -> Optional[dict[str, bool]]:\n",
    "    ## example ground truth file:\n",
    "    ## A, True\n",
    "    ## B, False\n",
    "\n",
    "    output_dir = os.path.join(os.getcwd(), \"track\", \"ground_truth\")\n",
    "\n",
    "    file_path = os.path.join(output_dir, artifact_id + \".csv\")\n",
    "\n",
    "    if os.path.exists(file_path):\n",
    "        if os.path.getsize(file_path) == 0:\n",
    "            return None\n",
    "\n",
    "        with open(file_path, \"r\") as f:\n",
    "            file_contents = f.read()\n",
    "        \n",
    "        res = {}\n",
    "\n",
    "        for line in file_contents.split(\"\\n\"):\n",
    "            if line.strip() != \"\":\n",
    "                key = line.split(\",\")[0].strip().upper()\n",
    "                value = line.split(\",\")[1].strip()\n",
    "\n",
    "                res[key] = value in [\"True\", \"true\", \"1\", \"yes\", \"Yes\", \"YES\"]\n",
    "\n",
    "        return res\n",
    "    else:\n",
    "        print(f\"File {file_path} does not exist\")\n",
    "        \n",
    "        return None\n",
    "\n",
    "def get_score(ground_truth: dict[str, bool], response: dict[str, bool]) -> float:\n",
    "    if len(ground_truth) == 0:\n",
    "        return 0\n",
    "\n",
    "    score = 0\n",
    "    for key in ground_truth:\n",
    "        if key not in response.keys():\n",
    "            print(f\"Key {key} not in response, skipping\")\n",
    "            continue\n",
    "\n",
    "        if ground_truth[key] == response[key]:\n",
    "            score += 1\n",
    "    \n",
    "    print(f\"Expected: [{ground_truth}]\")\n",
    "    print(f\"Received: [{response}]\")\n",
    "    \n",
    "    return score / len(ground_truth)\n",
    "\n",
    "def calc_scores(responses):\n",
    "    ground_truths = [{}] * len(artifact_ids)\n",
    "    scores = [0.0] * len(artifact_ids)\n",
    "\n",
    "    for idx, artifact_id in enumerate(artifact_ids):\n",
    "        ground_truth = load_ground_truth(artifact_id)\n",
    "\n",
    "        if ground_truth is None:\n",
    "            print(f\"Ground truth for {artifact_id} does not exist, skipping\")\n",
    "            continue\n",
    "        else:\n",
    "            print(f\"Loaded ground truth for {artifact_id}\")\n",
    "\n",
    "        ground_truths[idx] = ground_truth\n",
    "\n",
    "        response = responses[idx]\n",
    "\n",
    "        score = get_score(ground_truth, response)\n",
    "\n",
    "        print(f\"Score: {score}\\n\")\n",
    "\n",
    "        scores[idx] = score\n",
    "\n",
    "    print(f\"Overall score: {sum(scores) / len(scores)}\")\n",
    "\n",
    "    # show a dot for every data point int the graph, and also a line connecting them\n",
    "    # also show the id next to the dot, rotated 90 degrees\n",
    "    plt.plot(scores, 'o-')\n",
    "\n",
    "    for idx, score in enumerate(scores):\n",
    "        plt.text(idx, score, artifact_ids[idx], ha='center', va='center', fontsize=8, rotation=90)\n",
    "\n",
    "    plt.show()"
   ]
  },
  {
   "cell_type": "markdown",
   "metadata": {},
   "source": [
    "#### Now, call gpt4 vision for each presented section in our dataset"
   ]
  },
  {
   "cell_type": "code",
   "execution_count": 54,
   "metadata": {},
   "outputs": [
    {
     "name": "stdout",
     "output_type": "stream",
     "text": [
      "The autoreload extension is already loaded. To reload it, use:\n",
      "  %reload_ext autoreload\n"
     ]
    },
    {
     "name": "stderr",
     "output_type": "stream",
     "text": [
      "  0%|          | 0/22 [00:00<?, ?it/s]"
     ]
    },
    {
     "name": "stdout",
     "output_type": "stream",
     "text": [
      "[VacomCam] Submitting section to Claude-3 (prerender.mp4_02-12_02-14)\n",
      "Parsed GPT-4 response\n",
      "{'A': True, 'B': False}\n"
     ]
    },
    {
     "name": "stderr",
     "output_type": "stream",
     "text": [
      "  5%|▍         | 1/22 [00:19<06:39, 19.02s/it]"
     ]
    },
    {
     "name": "stdout",
     "output_type": "stream",
     "text": [
      "[VacomCam] Submitting section to Claude-3 (prerender.mp4_05-36_05-37)\n",
      "Parsed GPT-4 response\n",
      "{'B': True, 'A': False}\n"
     ]
    },
    {
     "name": "stderr",
     "output_type": "stream",
     "text": [
      "  9%|▉         | 2/22 [00:37<06:17, 18.88s/it]"
     ]
    },
    {
     "name": "stdout",
     "output_type": "stream",
     "text": [
      "[VacomCam] Submitting section to Claude-3 (prerender.mp4_05-42_05-42)\n",
      "Parsed GPT-4 response\n",
      "{'A': True, 'B': False}\n"
     ]
    },
    {
     "name": "stderr",
     "output_type": "stream",
     "text": [
      " 14%|█▎        | 3/22 [00:56<05:55, 18.73s/it]"
     ]
    },
    {
     "name": "stdout",
     "output_type": "stream",
     "text": [
      "[VacomCam] Submitting section to Claude-3 (prerender.mp4_06-17_06-17)\n",
      "Parsed GPT-4 response\n",
      "{'B': True, 'D': False}\n"
     ]
    },
    {
     "name": "stderr",
     "output_type": "stream",
     "text": [
      " 18%|█▊        | 4/22 [01:15<05:40, 18.93s/it]"
     ]
    },
    {
     "name": "stdout",
     "output_type": "stream",
     "text": [
      "[VacomCam] Submitting section to Claude-3 (prerender.mp4_02-18_02-20)\n",
      "Parsed GPT-4 response\n",
      "{'B': True, 'C': False}\n"
     ]
    },
    {
     "name": "stderr",
     "output_type": "stream",
     "text": [
      " 23%|██▎       | 5/22 [01:35<05:25, 19.15s/it]"
     ]
    },
    {
     "name": "stdout",
     "output_type": "stream",
     "text": [
      "[VacomCam] Submitting section to Claude-3 (prerender.mp4_06-21_06-24)\n",
      "Parsed GPT-4 response\n",
      "{'A': True, 'B': False}\n"
     ]
    },
    {
     "name": "stderr",
     "output_type": "stream",
     "text": [
      " 27%|██▋       | 6/22 [01:54<05:05, 19.09s/it]"
     ]
    },
    {
     "name": "stdout",
     "output_type": "stream",
     "text": [
      "[VacomCam] Submitting section to Claude-3 (prerender.mp4_57-36_57-39)\n",
      "Parsed GPT-4 response\n",
      "{'B': True, 'D': False}\n"
     ]
    },
    {
     "name": "stderr",
     "output_type": "stream",
     "text": [
      " 32%|███▏      | 7/22 [02:13<04:45, 19.04s/it]"
     ]
    },
    {
     "name": "stdout",
     "output_type": "stream",
     "text": [
      "[VacomCam] Submitting section to Claude-3 (prerender.mp4_12-33_12-34)\n",
      "Parsed GPT-4 response\n",
      "{'B': True, 'A': False}\n"
     ]
    },
    {
     "name": "stderr",
     "output_type": "stream",
     "text": [
      " 36%|███▋      | 8/22 [02:32<04:26, 19.05s/it]"
     ]
    },
    {
     "name": "stdout",
     "output_type": "stream",
     "text": [
      "[VacomCam] Submitting section to Claude-3 (prerender.mp4_50-15_50-18)\n",
      "Parsed GPT-4 response\n",
      "{'A': True, 'B': False}\n"
     ]
    },
    {
     "name": "stderr",
     "output_type": "stream",
     "text": [
      " 41%|████      | 9/22 [02:51<04:08, 19.14s/it]"
     ]
    },
    {
     "name": "stdout",
     "output_type": "stream",
     "text": [
      "[VacomCam] Submitting section to Claude-3 (prerender.mp4_05-39_05-42)\n",
      "Parsed GPT-4 response\n",
      "{'A': True, 'B': False}\n"
     ]
    },
    {
     "name": "stderr",
     "output_type": "stream",
     "text": [
      " 45%|████▌     | 10/22 [03:10<03:48, 19.02s/it]"
     ]
    },
    {
     "name": "stdout",
     "output_type": "stream",
     "text": [
      "[VacomCam] Submitting section to Claude-3 (prerender.mp4_52-33_52-36)\n",
      "Parsed GPT-4 response\n",
      "{'A': True, 'B': False}\n"
     ]
    },
    {
     "name": "stderr",
     "output_type": "stream",
     "text": [
      " 50%|█████     | 11/22 [03:28<03:27, 18.86s/it]"
     ]
    },
    {
     "name": "stdout",
     "output_type": "stream",
     "text": [
      "[VacomCam] Submitting section to Claude-3 (prerender.mp4_02-33_02-36)\n",
      "Parsed GPT-4 response\n",
      "{'A': True, 'B': False}\n"
     ]
    },
    {
     "name": "stderr",
     "output_type": "stream",
     "text": [
      " 55%|█████▍    | 12/22 [03:47<03:07, 18.73s/it]"
     ]
    },
    {
     "name": "stdout",
     "output_type": "stream",
     "text": [
      "[VacomCam] Submitting section to Claude-3 (prerender.mp4_42-45_42-48)\n",
      "Parsed GPT-4 response\n",
      "{'A': True, 'B': False}\n"
     ]
    },
    {
     "name": "stderr",
     "output_type": "stream",
     "text": [
      " 59%|█████▉    | 13/22 [04:07<02:53, 19.23s/it]"
     ]
    },
    {
     "name": "stdout",
     "output_type": "stream",
     "text": [
      "[VacomCam] Submitting section to Claude-3 (prerender.mp4_13-24_13-25)\n",
      "Parsed GPT-4 response\n",
      "{'A': True, 'B': False}\n"
     ]
    },
    {
     "name": "stderr",
     "output_type": "stream",
     "text": [
      " 64%|██████▎   | 14/22 [04:25<02:31, 19.00s/it]"
     ]
    },
    {
     "name": "stdout",
     "output_type": "stream",
     "text": [
      "[VacomCam] Submitting section to Claude-3 (prerender.mp4_22-57_22-59)\n",
      "Parsed GPT-4 response\n",
      "{'A': True, 'B': False}\n"
     ]
    },
    {
     "name": "stderr",
     "output_type": "stream",
     "text": [
      " 68%|██████▊   | 15/22 [04:44<02:12, 18.90s/it]"
     ]
    },
    {
     "name": "stdout",
     "output_type": "stream",
     "text": [
      "[VacomCam] Submitting section to Claude-3 (prerender.mp4_02-17_02-18)\n",
      "Parsed GPT-4 response\n",
      "{'B': True, 'C': False}\n"
     ]
    },
    {
     "name": "stderr",
     "output_type": "stream",
     "text": [
      " 73%|███████▎  | 16/22 [05:03<01:52, 18.77s/it]"
     ]
    },
    {
     "name": "stdout",
     "output_type": "stream",
     "text": [
      "[VacomCam] Submitting section to Claude-3 (prerender.mp4_29-01_29-03)\n",
      "Parsed GPT-4 response\n",
      "{'B': True, 'C': False}\n"
     ]
    },
    {
     "name": "stderr",
     "output_type": "stream",
     "text": [
      " 77%|███████▋  | 17/22 [05:21<01:33, 18.73s/it]"
     ]
    },
    {
     "name": "stdout",
     "output_type": "stream",
     "text": [
      "[VacomCam] Submitting section to Claude-3 (prerender.mp4_60-30_60-31)\n",
      "Parsed GPT-4 response\n",
      "{'B': True, 'A': False}\n"
     ]
    },
    {
     "name": "stderr",
     "output_type": "stream",
     "text": [
      " 82%|████████▏ | 18/22 [05:41<01:15, 18.94s/it]"
     ]
    },
    {
     "name": "stdout",
     "output_type": "stream",
     "text": [
      "[VacomCam] Submitting section to Claude-3 (prerender.mp4_11-45_11-48)\n",
      "Parsed GPT-4 response\n",
      "{'A': True, 'B': False}\n"
     ]
    },
    {
     "name": "stderr",
     "output_type": "stream",
     "text": [
      " 86%|████████▋ | 19/22 [06:00<00:57, 19.18s/it]"
     ]
    },
    {
     "name": "stdout",
     "output_type": "stream",
     "text": [
      "[VacomCam] Submitting section to Claude-3 (prerender.mp4_53-00_53-03)\n",
      "Parsed GPT-4 response\n",
      "{'A': True, 'B': False}\n"
     ]
    },
    {
     "name": "stderr",
     "output_type": "stream",
     "text": [
      " 91%|█████████ | 20/22 [06:19<00:37, 18.93s/it]"
     ]
    },
    {
     "name": "stdout",
     "output_type": "stream",
     "text": [
      "[VacomCam] Submitting section to Claude-3 (prerender.mp4_05-33_05-36)\n",
      "Parsed GPT-4 response\n",
      "{'A': True, 'B': False}\n"
     ]
    },
    {
     "name": "stderr",
     "output_type": "stream",
     "text": [
      " 95%|█████████▌| 21/22 [06:38<00:19, 19.03s/it]"
     ]
    },
    {
     "name": "stdout",
     "output_type": "stream",
     "text": [
      "[VacomCam] Submitting section to Claude-3 (prerender.mp4_42-43_42-45)\n",
      "Parsed GPT-4 response\n",
      "{'A': True, 'B': False}\n"
     ]
    },
    {
     "name": "stderr",
     "output_type": "stream",
     "text": [
      "100%|██████████| 22/22 [06:57<00:00, 18.97s/it]"
     ]
    },
    {
     "name": "stdout",
     "output_type": "stream",
     "text": [
      "[VacomCam] Done processing video sections\n"
     ]
    },
    {
     "name": "stderr",
     "output_type": "stream",
     "text": [
      "\n"
     ]
    }
   ],
   "source": [
    "%load_ext autoreload\n",
    "%autoreload 2\n",
    "\n",
    "import time\n",
    "from tracking import load_section_presentation, load_gpt4_response, save_gpt4_response, parse_claude_response, ask_gippity_for_primary_clusters\n",
    "from tqdm import tqdm\n",
    "\n",
    "responses = [{}] * len(artifact_ids)\n",
    "\n",
    "for idx, artifact_id in enumerate(tqdm(artifact_ids)):\n",
    "    section_img, section_metadata = load_section_presentation(artifact_id)\n",
    "\n",
    "    if section_img is None or section_metadata is None:\n",
    "        raise Exception(\"Error loading section presentation\")\n",
    "\n",
    "    loaded_response = load_gpt4_response(artifact_id)\n",
    "\n",
    "    if loaded_response is not None:\n",
    "        print(f\"[VacomCam] Loaded response from cache ({artifact_id})\")\n",
    "        gpt4_response = loaded_response\n",
    "    else:\n",
    "        print(f\"[VacomCam] Submitting section to Claude-3 ({artifact_id})\")\n",
    "        gpt4_response = ask_gippity_for_primary_clusters(section_img, section_metadata, version=\"v3\")\n",
    "    \n",
    "        if gpt4_response is None:\n",
    "            print(\"GPT-4 response was None, SAVING EMPTY RESPONSE\")\n",
    "\n",
    "        save_gpt4_response(artifact_id, gpt4_response)\n",
    "\n",
    "    gpt4_response_parsed = parse_claude_response(gpt4_response)\n",
    "\n",
    "    if gpt4_response_parsed is None:\n",
    "        print(\"GPT-4 response could not be parsed, skipping section\")\n",
    "        continue\n",
    "\n",
    "    responses[idx] = gpt4_response_parsed\n",
    "\n",
    "    # sleep for 15 seconds to avoid rate limiting\n",
    "    time.sleep(15)\n",
    "\n",
    "print(\"[VacomCam] Done processing video sections\")"
   ]
  },
  {
   "cell_type": "code",
   "execution_count": 56,
   "metadata": {},
   "outputs": [
    {
     "name": "stdout",
     "output_type": "stream",
     "text": [
      "Loaded ground truth for prerender.mp4_02-12_02-14\n",
      "Expected: [{'A': True, 'B': False}]\n",
      "Received: [{'A': True, 'B': False}]\n",
      "Score: 1.0\n",
      "\n",
      "Loaded ground truth for prerender.mp4_05-36_05-37\n",
      "Expected: [{'B': True, 'A': False}]\n",
      "Received: [{'B': True, 'A': False}]\n",
      "Score: 1.0\n",
      "\n",
      "Loaded ground truth for prerender.mp4_05-42_05-42\n",
      "Expected: [{'A': True, 'B': False}]\n",
      "Received: [{'A': True, 'B': False}]\n",
      "Score: 1.0\n",
      "\n",
      "Loaded ground truth for prerender.mp4_06-17_06-17\n",
      "Expected: [{'B': False, 'D': False}]\n",
      "Received: [{'B': True, 'D': False}]\n",
      "Score: 0.5\n",
      "\n",
      "Loaded ground truth for prerender.mp4_02-18_02-20\n",
      "Expected: [{'B': True, 'C': False}]\n",
      "Received: [{'B': True, 'C': False}]\n",
      "Score: 1.0\n",
      "\n",
      "Loaded ground truth for prerender.mp4_06-21_06-24\n",
      "Expected: [{'A': True, 'B': False}]\n",
      "Received: [{'A': True, 'B': False}]\n",
      "Score: 1.0\n",
      "\n",
      "Loaded ground truth for prerender.mp4_57-36_57-39\n",
      "Expected: [{'B': True, 'D': False}]\n",
      "Received: [{'B': True, 'D': False}]\n",
      "Score: 1.0\n",
      "\n",
      "Loaded ground truth for prerender.mp4_12-33_12-34\n",
      "Expected: [{'B': True, 'A': False}]\n",
      "Received: [{'B': True, 'A': False}]\n",
      "Score: 1.0\n",
      "\n",
      "Loaded ground truth for prerender.mp4_50-15_50-18\n",
      "Expected: [{'A': True, 'B': False}]\n",
      "Received: [{'A': True, 'B': False}]\n",
      "Score: 1.0\n",
      "\n",
      "Loaded ground truth for prerender.mp4_05-39_05-42\n",
      "Expected: [{'A': True, 'B': False}]\n",
      "Received: [{'A': True, 'B': False}]\n",
      "Score: 1.0\n",
      "\n",
      "Loaded ground truth for prerender.mp4_52-33_52-36\n",
      "Expected: [{'A': True, 'B': False}]\n",
      "Received: [{'A': True, 'B': False}]\n",
      "Score: 1.0\n",
      "\n",
      "Loaded ground truth for prerender.mp4_02-33_02-36\n",
      "Expected: [{'A': True, 'B': False}]\n",
      "Received: [{'A': True, 'B': False}]\n",
      "Score: 1.0\n",
      "\n",
      "Loaded ground truth for prerender.mp4_42-45_42-48\n",
      "Expected: [{'A': True, 'B': False}]\n",
      "Received: [{'A': True, 'B': False}]\n",
      "Score: 1.0\n",
      "\n",
      "Loaded ground truth for prerender.mp4_13-24_13-25\n",
      "Expected: [{'A': True, 'B': False}]\n",
      "Received: [{'A': True, 'B': False}]\n",
      "Score: 1.0\n",
      "\n",
      "Loaded ground truth for prerender.mp4_22-57_22-59\n",
      "Expected: [{'A': True, 'B': False}]\n",
      "Received: [{'A': True, 'B': False}]\n",
      "Score: 1.0\n",
      "\n",
      "Loaded ground truth for prerender.mp4_02-17_02-18\n",
      "Expected: [{'C': True, 'B': False}]\n",
      "Received: [{'B': True, 'C': False}]\n",
      "Score: 0.0\n",
      "\n",
      "Loaded ground truth for prerender.mp4_29-01_29-03\n",
      "Expected: [{'B': True, 'C': False}]\n",
      "Received: [{'B': True, 'C': False}]\n",
      "Score: 1.0\n",
      "\n",
      "Loaded ground truth for prerender.mp4_60-30_60-31\n",
      "Expected: [{'B': True, 'A': False}]\n",
      "Received: [{'B': True, 'A': False}]\n",
      "Score: 1.0\n",
      "\n",
      "Loaded ground truth for prerender.mp4_11-45_11-48\n",
      "Expected: [{'A': True, 'B': False}]\n",
      "Received: [{'A': True, 'B': False}]\n",
      "Score: 1.0\n",
      "\n",
      "Loaded ground truth for prerender.mp4_53-00_53-03\n",
      "Expected: [{'A': True, 'B': False}]\n",
      "Received: [{'A': True, 'B': False}]\n",
      "Score: 1.0\n",
      "\n",
      "Loaded ground truth for prerender.mp4_05-33_05-36\n",
      "Expected: [{'A': True, 'B': False}]\n",
      "Received: [{'A': True, 'B': False}]\n",
      "Score: 1.0\n",
      "\n",
      "Loaded ground truth for prerender.mp4_42-43_42-45\n",
      "Expected: [{'A': True, 'B': False}]\n",
      "Received: [{'A': True, 'B': False}]\n",
      "Score: 1.0\n",
      "\n",
      "Overall score: 0.9318181818181818\n"
     ]
    },
    {
     "data": {
      "image/png": "[encoded data removed]",
      "text/plain": [
       "<Figure size 640x480 with 1 Axes>"
      ]
     },
     "metadata": {},
     "output_type": "display_data"
    }
   ],
   "source": [
    "calc_scores(responses)"
   ]
  }
 ],
 "metadata": {
  "kernelspec": {
   "display_name": "venv",
   "language": "python",
   "name": "python3"
  },
  "language_info": {
   "codemirror_mode": {
    "name": "ipython",
    "version": 3
   },
   "file_extension": ".py",
   "mimetype": "text/x-python",
   "name": "python",
   "nbconvert_exporter": "python",
   "pygments_lexer": "ipython3",
   "version": "3.9.16"
  }
 },
 "nbformat": 4,
 "nbformat_minor": 2
}
