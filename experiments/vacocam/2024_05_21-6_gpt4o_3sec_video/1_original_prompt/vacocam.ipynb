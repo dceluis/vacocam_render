{
 "cells": [
  {
   "cell_type": "code",
   "execution_count": 8,
   "metadata": {},
   "outputs": [
    {
     "name": "stdout",
     "output_type": "stream",
     "text": [
      "Requirement already satisfied: line_profiler[ipython] in /home/luis/workspace/vacocam_render/venv/lib/python3.9/site-packages (4.0.3)\n",
      "Requirement already satisfied: ipython==8.5.0 in /home/luis/workspace/vacocam_render/venv/lib/python3.9/site-packages (8.5.0)\n",
      "Requirement already satisfied: ffmpeg-python in /home/luis/workspace/vacocam_render/venv/lib/python3.9/site-packages (0.2.0)\n",
      "Requirement already satisfied: imutils==0.5.4 in /home/luis/workspace/vacocam_render/venv/lib/python3.9/site-packages (0.5.4)\n",
      "Requirement already satisfied: sahi in /home/luis/workspace/vacocam_render/venv/lib/python3.9/site-packages (0.11.15)\n",
      "Requirement already satisfied: scikit-learn in /home/luis/workspace/vacocam_render/venv/lib/python3.9/site-packages (1.4.0)\n",
      "Requirement already satisfied: supervision in /home/luis/workspace/vacocam_render/venv/lib/python3.9/site-packages (0.18.0)\n",
      "Requirement already satisfied: openai in /home/luis/workspace/vacocam_render/venv/lib/python3.9/site-packages (1.10.0)\n",
      "Requirement already satisfied: ipywidgets in /home/luis/workspace/vacocam_render/venv/lib/python3.9/site-packages (8.1.1)\n",
      "Requirement already satisfied: matplotlib-inline in /home/luis/workspace/vacocam_render/venv/lib/python3.9/site-packages (from ipython==8.5.0) (0.1.6)\n",
      "Requirement already satisfied: backcall in /home/luis/workspace/vacocam_render/venv/lib/python3.9/site-packages (from ipython==8.5.0) (0.2.0)\n",
      "Requirement already satisfied: pexpect>4.3 in /home/luis/workspace/vacocam_render/venv/lib/python3.9/site-packages (from ipython==8.5.0) (4.9.0)\n",
      "Requirement already satisfied: jedi>=0.16 in /home/luis/workspace/vacocam_render/venv/lib/python3.9/site-packages (from ipython==8.5.0) (0.19.1)\n",
      "Requirement already satisfied: pygments>=2.4.0 in /home/luis/workspace/vacocam_render/venv/lib/python3.9/site-packages (from ipython==8.5.0) (2.17.2)\n",
      "Requirement already satisfied: prompt-toolkit<3.1.0,>3.0.1 in /home/luis/workspace/vacocam_render/venv/lib/python3.9/site-packages (from ipython==8.5.0) (3.0.43)\n",
      "Requirement already satisfied: pickleshare in /home/luis/workspace/vacocam_render/venv/lib/python3.9/site-packages (from ipython==8.5.0) (0.7.5)\n",
      "Requirement already satisfied: traitlets>=5 in /home/luis/workspace/vacocam_render/venv/lib/python3.9/site-packages (from ipython==8.5.0) (5.14.1)\n",
      "Requirement already satisfied: stack-data in /home/luis/workspace/vacocam_render/venv/lib/python3.9/site-packages (from ipython==8.5.0) (0.6.3)\n",
      "Requirement already satisfied: decorator in /home/luis/workspace/vacocam_render/venv/lib/python3.9/site-packages (from ipython==8.5.0) (5.1.1)\n",
      "Requirement already satisfied: future in /home/luis/workspace/vacocam_render/venv/lib/python3.9/site-packages (from ffmpeg-python) (0.18.3)\n",
      "Requirement already satisfied: shapely>=1.8.0 in /home/luis/workspace/vacocam_render/venv/lib/python3.9/site-packages (from sahi) (2.0.2)\n",
      "Requirement already satisfied: fire in /home/luis/workspace/vacocam_render/venv/lib/python3.9/site-packages (from sahi) (0.5.0)\n",
      "Requirement already satisfied: pybboxes==0.1.6 in /home/luis/workspace/vacocam_render/venv/lib/python3.9/site-packages (from sahi) (0.1.6)\n",
      "Requirement already satisfied: pillow>=8.2.0 in /home/luis/workspace/vacocam_render/venv/lib/python3.9/site-packages (from sahi) (10.2.0)\n",
      "Requirement already satisfied: pyyaml in /home/luis/workspace/vacocam_render/venv/lib/python3.9/site-packages (from sahi) (6.0.1)\n",
      "Requirement already satisfied: click in /home/luis/workspace/vacocam_render/venv/lib/python3.9/site-packages (from sahi) (8.1.7)\n",
      "Requirement already satisfied: terminaltables in /home/luis/workspace/vacocam_render/venv/lib/python3.9/site-packages (from sahi) (3.1.10)\n",
      "Requirement already satisfied: requests in /home/luis/workspace/vacocam_render/venv/lib/python3.9/site-packages (from sahi) (2.31.0)\n",
      "Requirement already satisfied: opencv-python<=4.8 in /home/luis/workspace/vacocam_render/venv/lib/python3.9/site-packages (from sahi) (4.7.0.72)\n",
      "Requirement already satisfied: tqdm>=4.48.2 in /home/luis/workspace/vacocam_render/venv/lib/python3.9/site-packages (from sahi) (4.66.1)\n",
      "Requirement already satisfied: numpy in /home/luis/workspace/vacocam_render/venv/lib/python3.9/site-packages (from pybboxes==0.1.6->sahi) (1.26.3)\n",
      "Requirement already satisfied: joblib>=1.2.0 in /home/luis/workspace/vacocam_render/venv/lib/python3.9/site-packages (from scikit-learn) (1.3.2)\n",
      "Requirement already satisfied: scipy>=1.6.0 in /home/luis/workspace/vacocam_render/venv/lib/python3.9/site-packages (from scikit-learn) (1.12.0)\n",
      "Requirement already satisfied: threadpoolctl>=2.0.0 in /home/luis/workspace/vacocam_render/venv/lib/python3.9/site-packages (from scikit-learn) (3.2.0)\n",
      "Requirement already satisfied: defusedxml<0.8.0,>=0.7.1 in /home/luis/workspace/vacocam_render/venv/lib/python3.9/site-packages (from supervision) (0.7.1)\n",
      "Requirement already satisfied: matplotlib>=3.6.0 in /home/luis/workspace/vacocam_render/venv/lib/python3.9/site-packages (from supervision) (3.8.2)\n",
      "Requirement already satisfied: opencv-python-headless>=4.5.5.64 in /home/luis/workspace/vacocam_render/venv/lib/python3.9/site-packages (from supervision) (4.9.0.80)\n",
      "Requirement already satisfied: httpx<1,>=0.23.0 in /home/luis/workspace/vacocam_render/venv/lib/python3.9/site-packages (from openai) (0.26.0)\n",
      "Requirement already satisfied: typing-extensions<5,>=4.7 in /home/luis/workspace/vacocam_render/venv/lib/python3.9/site-packages (from openai) (4.9.0)\n",
      "Requirement already satisfied: pydantic<3,>=1.9.0 in /home/luis/workspace/vacocam_render/venv/lib/python3.9/site-packages (from openai) (2.6.0)\n",
      "Requirement already satisfied: anyio<5,>=3.5.0 in /home/luis/workspace/vacocam_render/venv/lib/python3.9/site-packages (from openai) (4.2.0)\n",
      "Requirement already satisfied: distro<2,>=1.7.0 in /home/luis/workspace/vacocam_render/venv/lib/python3.9/site-packages (from openai) (1.9.0)\n",
      "Requirement already satisfied: sniffio in /home/luis/workspace/vacocam_render/venv/lib/python3.9/site-packages (from openai) (1.3.0)\n",
      "Requirement already satisfied: jupyterlab-widgets~=3.0.9 in /home/luis/workspace/vacocam_render/venv/lib/python3.9/site-packages (from ipywidgets) (3.0.9)\n",
      "Requirement already satisfied: widgetsnbextension~=4.0.9 in /home/luis/workspace/vacocam_render/venv/lib/python3.9/site-packages (from ipywidgets) (4.0.9)\n",
      "Requirement already satisfied: comm>=0.1.3 in /home/luis/workspace/vacocam_render/venv/lib/python3.9/site-packages (from ipywidgets) (0.2.1)\n",
      "Requirement already satisfied: exceptiongroup>=1.0.2 in /home/luis/workspace/vacocam_render/venv/lib/python3.9/site-packages (from anyio<5,>=3.5.0->openai) (1.2.0)\n",
      "Requirement already satisfied: idna>=2.8 in /home/luis/workspace/vacocam_render/venv/lib/python3.9/site-packages (from anyio<5,>=3.5.0->openai) (3.6)\n",
      "Requirement already satisfied: certifi in /home/luis/workspace/vacocam_render/venv/lib/python3.9/site-packages (from httpx<1,>=0.23.0->openai) (2023.11.17)\n",
      "Requirement already satisfied: httpcore==1.* in /home/luis/workspace/vacocam_render/venv/lib/python3.9/site-packages (from httpx<1,>=0.23.0->openai) (1.0.2)\n",
      "Requirement already satisfied: h11<0.15,>=0.13 in /home/luis/workspace/vacocam_render/venv/lib/python3.9/site-packages (from httpcore==1.*->httpx<1,>=0.23.0->openai) (0.14.0)\n",
      "Requirement already satisfied: parso<0.9.0,>=0.8.3 in /home/luis/workspace/vacocam_render/venv/lib/python3.9/site-packages (from jedi>=0.16->ipython==8.5.0) (0.8.3)\n",
      "Requirement already satisfied: kiwisolver>=1.3.1 in /home/luis/workspace/vacocam_render/venv/lib/python3.9/site-packages (from matplotlib>=3.6.0->supervision) (1.4.5)\n",
      "Requirement already satisfied: contourpy>=1.0.1 in /home/luis/workspace/vacocam_render/venv/lib/python3.9/site-packages (from matplotlib>=3.6.0->supervision) (1.2.0)\n",
      "Requirement already satisfied: cycler>=0.10 in /home/luis/workspace/vacocam_render/venv/lib/python3.9/site-packages (from matplotlib>=3.6.0->supervision) (0.12.1)\n",
      "Requirement already satisfied: packaging>=20.0 in /home/luis/workspace/vacocam_render/venv/lib/python3.9/site-packages (from matplotlib>=3.6.0->supervision) (23.2)\n",
      "Requirement already satisfied: pyparsing>=2.3.1 in /home/luis/workspace/vacocam_render/venv/lib/python3.9/site-packages (from matplotlib>=3.6.0->supervision) (3.1.1)\n",
      "Requirement already satisfied: fonttools>=4.22.0 in /home/luis/workspace/vacocam_render/venv/lib/python3.9/site-packages (from matplotlib>=3.6.0->supervision) (4.47.2)\n",
      "Requirement already satisfied: python-dateutil>=2.7 in /home/luis/workspace/vacocam_render/venv/lib/python3.9/site-packages (from matplotlib>=3.6.0->supervision) (2.8.2)\n",
      "Requirement already satisfied: importlib-resources>=3.2.0 in /home/luis/workspace/vacocam_render/venv/lib/python3.9/site-packages (from matplotlib>=3.6.0->supervision) (6.1.1)\n",
      "Requirement already satisfied: ptyprocess>=0.5 in /home/luis/workspace/vacocam_render/venv/lib/python3.9/site-packages (from pexpect>4.3->ipython==8.5.0) (0.7.0)\n",
      "Requirement already satisfied: wcwidth in /home/luis/workspace/vacocam_render/venv/lib/python3.9/site-packages (from prompt-toolkit<3.1.0,>3.0.1->ipython==8.5.0) (0.2.13)\n",
      "Requirement already satisfied: pydantic-core==2.16.1 in /home/luis/workspace/vacocam_render/venv/lib/python3.9/site-packages (from pydantic<3,>=1.9.0->openai) (2.16.1)\n",
      "Requirement already satisfied: annotated-types>=0.4.0 in /home/luis/workspace/vacocam_render/venv/lib/python3.9/site-packages (from pydantic<3,>=1.9.0->openai) (0.6.0)\n",
      "Requirement already satisfied: six in /home/luis/workspace/vacocam_render/venv/lib/python3.9/site-packages (from fire->sahi) (1.16.0)\n",
      "Requirement already satisfied: termcolor in /home/luis/workspace/vacocam_render/venv/lib/python3.9/site-packages (from fire->sahi) (2.4.0)\n",
      "Requirement already satisfied: urllib3<3,>=1.21.1 in /home/luis/workspace/vacocam_render/venv/lib/python3.9/site-packages (from requests->sahi) (2.1.0)\n",
      "Requirement already satisfied: charset-normalizer<4,>=2 in /home/luis/workspace/vacocam_render/venv/lib/python3.9/site-packages (from requests->sahi) (3.3.2)\n",
      "Requirement already satisfied: asttokens>=2.1.0 in /home/luis/workspace/vacocam_render/venv/lib/python3.9/site-packages (from stack-data->ipython==8.5.0) (2.4.1)\n",
      "Requirement already satisfied: executing>=1.2.0 in /home/luis/workspace/vacocam_render/venv/lib/python3.9/site-packages (from stack-data->ipython==8.5.0) (2.0.1)\n",
      "Requirement already satisfied: pure-eval in /home/luis/workspace/vacocam_render/venv/lib/python3.9/site-packages (from stack-data->ipython==8.5.0) (0.2.2)\n",
      "Requirement already satisfied: zipp>=3.1.0 in /home/luis/workspace/vacocam_render/venv/lib/python3.9/site-packages (from importlib-resources>=3.2.0->matplotlib>=3.6.0->supervision) (3.17.0)\n"
     ]
    }
   ],
   "source": [
    "!pip install \"line_profiler[ipython]\" ipython==8.5.0 ffmpeg-python imutils==0.5.4 sahi scikit-learn supervision openai ipywidgets"
   ]
  },
  {
   "cell_type": "code",
   "execution_count": 9,
   "metadata": {},
   "outputs": [],
   "source": [
    "# This experiment depends on specific files.\n",
    "video_path = \"/home/luis/workspace/vacocam_render/source/prerender.mp4\"\n",
    "detections_path = \"/home/luis/workspace/vacocam_render/experiments/vacocam/2024_04_02-2_claude3_5sec/source/track/prerender_detections_declustered.npy\""
   ]
  },
  {
   "cell_type": "code",
   "execution_count": 10,
   "metadata": {},
   "outputs": [
    {
     "name": "stdout",
     "output_type": "stream",
     "text": [
      "All files are correct.\n"
     ]
    }
   ],
   "source": [
    "import hashlib\n",
    "\n",
    "md5 = hashlib.md5()\n",
    "\n",
    "with open(video_path, \"rb\") as f:\n",
    "    for chunk in iter(lambda: f.read(4096), b\"\"):\n",
    "        md5.update(chunk)\n",
    "\n",
    "assert md5.hexdigest() == \"6d30279ea8ab9754c748d5752d97a027\", \"The video file is not the correct one.\"\n",
    "\n",
    "md5 = hashlib.md5()\n",
    "with open(detections_path, \"rb\") as f:\n",
    "    for chunk in iter(lambda: f.read(4096), b\"\"):\n",
    "        md5.update(chunk)\n",
    "\n",
    "assert md5.hexdigest() == \"0631148b034011bb4fd463ee9ab9323e\", \"The detections file is not the correct one.\"\n",
    "\n",
    "print(\"All files are correct.\")"
   ]
  },
  {
   "cell_type": "code",
   "execution_count": 11,
   "metadata": {},
   "outputs": [],
   "source": [
    "# set the experiment variables\n",
    "\n",
    "seconds = 3"
   ]
  },
  {
   "cell_type": "markdown",
   "metadata": {},
   "source": [
    "#### First, generate a presentation for every section in our video. This includes loading the cleaned up ball detections for the video"
   ]
  },
  {
   "cell_type": "code",
   "execution_count": 12,
   "metadata": {},
   "outputs": [
    {
     "name": "stdout",
     "output_type": "stream",
     "text": [
      "loaded 112300 detections from /home/luis/workspace/vacocam_render/experiments/vacocam/2024_04_02-2_claude3_5sec/source/track/prerender_detections_declustered.npy\n"
     ]
    }
   ],
   "source": [
    "import supervision as sv\n",
    "import cv2\n",
    "from cv2 import VideoCapture\n",
    "import os\n",
    "import numpy as np\n",
    "\n",
    "from detections import load_detections, Detections\n",
    "from typing import Union\n",
    "\n",
    "_, detections = load_detections(detections_path)\n",
    "\n",
    "video_info = sv.VideoInfo.from_video_path(video_path)\n",
    "\n",
    "framerate = video_info.fps\n",
    "total_frames = video_info.total_frames or 0\n",
    "\n",
    "video_height = video_info.height\n",
    "video_width = video_info.width\n",
    "\n",
    "frame_indices = [(i * seconds * framerate, (i + 1) * seconds * framerate) for i in range(int(total_frames / (seconds * framerate)))]\n",
    "if frame_indices[-1][1] != total_frames:\n",
    "    frame_indices.append((frame_indices[-1][1], total_frames))\n",
    "\n",
    "def sample_video_section(cap: VideoCapture, start, end, samples=1) -> Union[np.ndarray, list[np.ndarray]]:\n",
    "\n",
    "    section_duration = end - start\n",
    "\n",
    "    if section_duration < samples:\n",
    "        raise Exception(\"Not enough frames in the section to sample\")\n",
    "    if samples < 1:\n",
    "        raise Exception(\"Samples must be a positive integer\")\n",
    "\n",
    "    # section_split: list[int] = np.linspace(start, end, samples + 1, endpoint=False)[1:].astype(int).tolist()\n",
    "    section_split: list[int] = np.linspace(start, end, samples * 2, endpoint=False)[1:][::2].astype(int).tolist()\n",
    "\n",
    "    print(f\"Section duration: {section_duration}\")\n",
    "    print(f\"Samples: {samples}\")\n",
    "    print(f\"Section start: {start}\")\n",
    "    print(f\"Section end: {end}\")\n",
    "    print(f\"Section split: {section_split}\")\n",
    "\n",
    "    sampled_frames = []\n",
    "\n",
    "    for frame_number in section_split:\n",
    "        cap.set(cv2.CAP_PROP_POS_FRAMES, frame_number)\n",
    "        ret, frame = cap.read()\n",
    "        if not ret:\n",
    "            raise Exception(\"Error reading video\")\n",
    "        frame = cv2.cvtColor(frame, cv2.COLOR_BGR2RGB)\n",
    "\n",
    "        sampled_frames.append(frame)\n",
    "\n",
    "    if samples == 1:\n",
    "        return sampled_frames[0]\n",
    "    else:\n",
    "        return sampled_frames\n"
   ]
  },
  {
   "cell_type": "code",
   "execution_count": 13,
   "metadata": {},
   "outputs": [
    {
     "name": "stdout",
     "output_type": "stream",
     "text": [
      "The autoreload extension is already loaded. To reload it, use:\n",
      "  %reload_ext autoreload\n"
     ]
    },
    {
     "name": "stderr",
     "output_type": "stream",
     "text": [
      "100%|██████████| 1248/1248 [00:08<00:00, 145.99it/s]"
     ]
    },
    {
     "name": "stdout",
     "output_type": "stream",
     "text": [
      "[VacomCam] Done finding overlaps\n",
      "[VacomCam] Found 25 overlaps\n",
      "[VacomCam] Total detections: 43305\n",
      "[VacomCam] Total clustered detections: 40905\n"
     ]
    },
    {
     "name": "stderr",
     "output_type": "stream",
     "text": [
      "\n"
     ]
    }
   ],
   "source": [
    "# cluster detections and find overlaps\n",
    "\n",
    "%load_ext autoreload\n",
    "%autoreload 2\n",
    "\n",
    "from tracking import cluster_detections, get_artifact_id\n",
    "\n",
    "# for video generation\n",
    "from tracking import present_section\n",
    "import numpy as np\n",
    "from PIL import Image\n",
    "from io import BytesIO\n",
    "\n",
    "from tqdm import tqdm\n",
    "\n",
    "overlaps = {}\n",
    "\n",
    "detections_sum = 0\n",
    "clustered_sum = 0\n",
    "\n",
    "cap = cv2.VideoCapture(video_path)\n",
    "\n",
    "for start, end in tqdm(frame_indices):\n",
    "    section_detections = detections[start:end]\n",
    "    clustered_detections: dict[int, list[Detections]] = cluster_detections(section_detections, image_width=video_info.width, image_height=video_info.height, preset=\"play\")\n",
    "\n",
    "    clustered_detections_minus_noise: dict[int, list[Detections]] = { key: detections for key, detections in clustered_detections.items() if key != -1 }\n",
    "\n",
    "    detections_sum_section = sum([len(detections) for detections in section_detections])\n",
    "    clustered_sum_section = sum([len(detections) for detections_l in clustered_detections_minus_noise.values() for detections in detections_l])\n",
    "\n",
    "    detections_sum += detections_sum_section\n",
    "    clustered_sum += clustered_sum_section\n",
    "\n",
    "    # find clusters start and ends\n",
    "    start_ends: dict[int, tuple[int, int]] = { key: (0, 0) for key in clustered_detections_minus_noise.keys() }\n",
    "\n",
    "    for key, c_detections in clustered_detections_minus_noise.items():\n",
    "        # find start of the cluster, meaning the index of the first detection that is not empty. (len(detection) > 0)\n",
    "        cluster_start = 0\n",
    "        for i, detection in enumerate(c_detections):\n",
    "            if len(detection) > 0:\n",
    "                cluster_start = i\n",
    "                break\n",
    "        # find end of the cluster, meaning the index of the last detection that is not empty. (len(detection) > 0)\n",
    "        cluster_end = 0\n",
    "        for i, detection in enumerate(reversed(c_detections)):\n",
    "            if len(detection) > 0:\n",
    "                cluster_end = len(c_detections) - i\n",
    "                break\n",
    "        start_ends[key] = (cluster_start, cluster_end)\n",
    "    \n",
    "    # now find any overlapping clusters\n",
    "    overlapping_clusters = {}\n",
    "\n",
    "    for key1, (start1, end1) in start_ends.items():\n",
    "        for key2, (start2, end2) in start_ends.items():\n",
    "            if key1 != key2 and start1 < end2 and end1 > start2:\n",
    "                overlap = min(end1, end2) - max(start1, start2)\n",
    "\n",
    "                if (key1, key2) in overlapping_clusters or (key2, key1) in overlapping_clusters:\n",
    "                    continue\n",
    "                if overlap < min(end1 - start1, end2 - start2) * 0.5:\n",
    "                    continue\n",
    "                if end1 - start1 < 15 or end2 - start2 < 15 or overlap < 15:\n",
    "                    continue\n",
    "\n",
    "                overlapping_clusters[(key1, key2)] = {\n",
    "                    \"overlap\": min(end1, end2) - max(start1, start2),\n",
    "                    \"clusters\": {\n",
    "                        key1: clustered_detections_minus_noise[key1],\n",
    "                        key2: clustered_detections_minus_noise[key2]\n",
    "                    },\n",
    "                    \"bounds\": {\n",
    "                        key1: (start + start1, start + end1),\n",
    "                        key2: (start + start2, start + end2)\n",
    "                    },\n",
    "                }\n",
    "\n",
    "\n",
    "    if len(overlapping_clusters) > 0:\n",
    "        overlaps[(start, end)] = overlapping_clusters\n",
    "\n",
    "print(\"[VacomCam] Done finding overlaps\")\n",
    "print(\"[VacomCam] Found {} overlaps\".format(sum([len(value) for value in overlaps.values()])))\n",
    "\n",
    "print(\"[VacomCam] Total detections: {}\".format(detections_sum))\n",
    "print(\"[VacomCam] Total clustered detections: {}\".format(clustered_sum))"
   ]
  },
  {
   "cell_type": "code",
   "execution_count": 21,
   "metadata": {},
   "outputs": [
    {
     "name": "stdout",
     "output_type": "stream",
     "text": [
      "The autoreload extension is already loaded. To reload it, use:\n",
      "  %reload_ext autoreload\n",
      "5:39 - 5:42\n",
      "\t0 - 1 (58 frames overlap)\n",
      "\t\t5:39 - 5:42\n",
      "Section duration: 90\n",
      "Samples: 3\n",
      "Section start: 10170\n",
      "Section end: 10260\n",
      "Section split: [10185, 10215, 10245]\n",
      "[tracking] Splitting the section into 3 parts\n",
      "[tracking] Split indices: [(0, 30), (30, 60), (60, 90)]\n",
      "[tracking] Section length: 90\n",
      "5:33 - 5:36\n",
      "\t0 - 1 (44 frames overlap)\n",
      "\t\t5:33 - 5:36\n",
      "Section duration: 90\n",
      "Samples: 3\n",
      "Section start: 9990\n",
      "Section end: 10080\n",
      "Section split: [10005, 10035, 10065]\n",
      "[tracking] Splitting the section into 3 parts\n",
      "[tracking] Split indices: [(0, 30), (30, 60), (60, 90)]\n",
      "[tracking] Section length: 90\n",
      "11:45 - 11:48\n",
      "\t0 - 1 (41 frames overlap)\n",
      "\t\t11:45 - 11:48\n",
      "Section duration: 90\n",
      "Samples: 3\n",
      "Section start: 21150\n",
      "Section end: 21240\n",
      "Section split: [21165, 21195, 21225]\n",
      "[tracking] Splitting the section into 3 parts\n",
      "[tracking] Split indices: [(0, 30), (30, 60), (60, 90)]\n",
      "[tracking] Section length: 90\n",
      "57:36 - 57:39\n",
      "\t1 - 2 (41 frames overlap)\n",
      "\t\t57:36 - 57:39\n",
      "Section duration: 90\n",
      "Samples: 3\n",
      "Section start: 103680\n",
      "Section end: 103770\n",
      "Section split: [103695, 103725, 103755]\n",
      "[tracking] Splitting the section into 3 parts\n",
      "[tracking] Split indices: [(0, 30), (30, 60), (60, 90)]\n",
      "[tracking] Section length: 90\n",
      "53:0 - 53:3\n",
      "\t0 - 1 (39 frames overlap)\n",
      "\t\t53:0 - 53:3\n",
      "Section duration: 90\n",
      "Samples: 3\n",
      "Section start: 95400\n",
      "Section end: 95490\n",
      "Section split: [95415, 95445, 95475]\n",
      "[tracking] Splitting the section into 3 parts\n",
      "[tracking] Split indices: [(0, 30), (30, 60), (60, 90)]\n",
      "[tracking] Section length: 90\n",
      "29:0 - 29:3\n",
      "\t0 - 1 (36 frames overlap)\n",
      "\t\t29:0 - 29:3\n",
      "Section duration: 90\n",
      "Samples: 3\n",
      "Section start: 52200\n",
      "Section end: 52290\n",
      "Section split: [52215, 52245, 52275]\n",
      "[tracking] Splitting the section into 3 parts\n",
      "[tracking] Split indices: [(0, 30), (30, 60), (60, 90)]\n",
      "[tracking] Section length: 90\n",
      "2:18 - 2:21\n",
      "\t1 - 2 (35 frames overlap)\n",
      "\t\t2:18 - 2:20\n",
      "Section duration: 90\n",
      "Samples: 3\n",
      "Section start: 4140\n",
      "Section end: 4230\n",
      "Section split: [4155, 4185, 4215]\n",
      "[tracking] Splitting the section into 3 parts\n",
      "[tracking] Split indices: [(0, 30), (30, 60), (60, 90)]\n",
      "[tracking] Section length: 90\n",
      "2:33 - 2:36\n",
      "\t0 - 1 (27 frames overlap)\n",
      "\t\t2:33 - 2:36\n",
      "Section duration: 90\n",
      "Samples: 3\n",
      "Section start: 4590\n",
      "Section end: 4680\n",
      "Section split: [4605, 4635, 4665]\n",
      "[tracking] Splitting the section into 3 parts\n",
      "[tracking] Split indices: [(0, 30), (30, 60), (60, 90)]\n",
      "[tracking] Section length: 90\n",
      "60:30 - 60:33\n",
      "\t0 - 1 (26 frames overlap)\n",
      "\t\t60:30 - 60:31\n",
      "Section duration: 90\n",
      "Samples: 3\n",
      "Section start: 108900\n",
      "Section end: 108990\n",
      "Section split: [108915, 108945, 108975]\n",
      "[tracking] Splitting the section into 3 parts\n",
      "[tracking] Split indices: [(0, 30), (30, 60), (60, 90)]\n",
      "[tracking] Section length: 90\n",
      "5:36 - 5:39\n",
      "\t0 - 1 (24 frames overlap)\n",
      "\t\t5:36 - 5:37\n",
      "Section duration: 90\n",
      "Samples: 3\n",
      "Section start: 10080\n",
      "Section end: 10170\n",
      "Section split: [10095, 10125, 10155]\n",
      "[tracking] Splitting the section into 3 parts\n",
      "[tracking] Split indices: [(0, 30), (30, 60), (60, 90)]\n",
      "[tracking] Section length: 90\n",
      "42:45 - 42:48\n",
      "\t0 - 1 (24 frames overlap)\n",
      "\t\t42:45 - 42:48\n",
      "Section duration: 90\n",
      "Samples: 3\n",
      "Section start: 76950\n",
      "Section end: 77040\n",
      "Section split: [76965, 76995, 77025]\n",
      "[tracking] Splitting the section into 3 parts\n",
      "[tracking] Split indices: [(0, 30), (30, 60), (60, 90)]\n",
      "[tracking] Section length: 90\n",
      "37:0 - 37:3\n",
      "\t0 - 1 (23 frames overlap)\n",
      "\t\t37:0 - 37:1\n",
      "Section duration: 90\n",
      "Samples: 3\n",
      "Section start: 66600\n",
      "Section end: 66690\n",
      "Section split: [66615, 66645, 66675]\n",
      "[tracking] Splitting the section into 3 parts\n",
      "[tracking] Split indices: [(0, 30), (30, 60), (60, 90)]\n",
      "[tracking] Section length: 90\n",
      "6:15 - 6:18\n",
      "\t1 - 3 (21 frames overlap)\n",
      "\t\t6:17 - 6:18\n",
      "Section duration: 90\n",
      "Samples: 3\n",
      "Section start: 11250\n",
      "Section end: 11340\n",
      "Section split: [11265, 11295, 11325]\n",
      "[tracking] Splitting the section into 3 parts\n",
      "[tracking] Split indices: [(0, 30), (30, 60), (60, 90)]\n",
      "[tracking] Section length: 90\n",
      "13:24 - 13:27\n",
      "\t0 - 1 (21 frames overlap)\n",
      "\t\t13:24 - 13:27\n",
      "Section duration: 90\n",
      "Samples: 3\n",
      "Section start: 24120\n",
      "Section end: 24210\n",
      "Section split: [24135, 24165, 24195]\n",
      "[tracking] Splitting the section into 3 parts\n",
      "[tracking] Split indices: [(0, 30), (30, 60), (60, 90)]\n",
      "[tracking] Section length: 90\n",
      "52:33 - 52:36\n",
      "\t0 - 1 (21 frames overlap)\n",
      "\t\t52:33 - 52:36\n",
      "Section duration: 90\n",
      "Samples: 3\n",
      "Section start: 94590\n",
      "Section end: 94680\n",
      "Section split: [94605, 94635, 94665]\n",
      "[tracking] Splitting the section into 3 parts\n",
      "[tracking] Split indices: [(0, 30), (30, 60), (60, 90)]\n",
      "[tracking] Section length: 90\n",
      "6:21 - 6:24\n",
      "\t0 - 1 (20 frames overlap)\n",
      "\t\t6:21 - 6:24\n",
      "Section duration: 90\n",
      "Samples: 3\n",
      "Section start: 11430\n",
      "Section end: 11520\n",
      "Section split: [11445, 11475, 11505]\n",
      "[tracking] Splitting the section into 3 parts\n",
      "[tracking] Split indices: [(0, 30), (30, 60), (60, 90)]\n",
      "[tracking] Section length: 90\n",
      "12:33 - 12:36\n",
      "\t0 - 1 (20 frames overlap)\n",
      "\t\t12:33 - 12:34\n",
      "Section duration: 90\n",
      "Samples: 3\n",
      "Section start: 22590\n",
      "Section end: 22680\n",
      "Section split: [22605, 22635, 22665]\n",
      "[tracking] Splitting the section into 3 parts\n",
      "[tracking] Split indices: [(0, 30), (30, 60), (60, 90)]\n",
      "[tracking] Section length: 90\n",
      "17:39 - 17:42\n",
      "\t0 - 1 (18 frames overlap)\n",
      "\t\t17:39 - 17:42\n",
      "Section duration: 90\n",
      "Samples: 3\n",
      "Section start: 31770\n",
      "Section end: 31860\n",
      "Section split: [31785, 31815, 31845]\n",
      "[tracking] Splitting the section into 3 parts\n",
      "[tracking] Split indices: [(0, 30), (30, 60), (60, 90)]\n",
      "[tracking] Section length: 90\n",
      "26:27 - 26:30\n",
      "\t0 - 1 (18 frames overlap)\n",
      "\t\t26:27 - 26:29\n",
      "Section duration: 90\n",
      "Samples: 3\n",
      "Section start: 47610\n",
      "Section end: 47700\n",
      "Section split: [47625, 47655, 47685]\n",
      "[tracking] Splitting the section into 3 parts\n",
      "[tracking] Split indices: [(0, 30), (30, 60), (60, 90)]\n",
      "[tracking] Section length: 90\n",
      "5:42 - 5:45\n",
      "\t0 - 1 (17 frames overlap)\n",
      "\t\t5:42 - 5:42\n",
      "Section duration: 90\n",
      "Samples: 3\n",
      "Section start: 10260\n",
      "Section end: 10350\n",
      "Section split: [10275, 10305, 10335]\n",
      "[tracking] Splitting the section into 3 parts\n",
      "[tracking] Split indices: [(0, 30), (30, 60), (60, 90)]\n",
      "[tracking] Section length: 90\n",
      "22:57 - 23:0\n",
      "\t0 - 1 (17 frames overlap)\n",
      "\t\t22:57 - 22:59\n",
      "Section duration: 90\n",
      "Samples: 3\n",
      "Section start: 41310\n",
      "Section end: 41400\n",
      "Section split: [41325, 41355, 41385]\n",
      "[tracking] Splitting the section into 3 parts\n",
      "[tracking] Split indices: [(0, 30), (30, 60), (60, 90)]\n",
      "[tracking] Section length: 90\n",
      "2:12 - 2:15\n",
      "\t0 - 1 (16 frames overlap)\n",
      "\t\t2:12 - 2:14\n",
      "Section duration: 90\n",
      "Samples: 3\n",
      "Section start: 3960\n",
      "Section end: 4050\n",
      "Section split: [3975, 4005, 4035]\n",
      "[tracking] Splitting the section into 3 parts\n",
      "[tracking] Split indices: [(0, 30), (30, 60), (60, 90)]\n",
      "[tracking] Section length: 90\n",
      "42:42 - 42:45\n",
      "\t0 - 1 (16 frames overlap)\n",
      "\t\t42:43 - 42:45\n",
      "Section duration: 90\n",
      "Samples: 3\n",
      "Section start: 76860\n",
      "Section end: 76950\n",
      "Section split: [76875, 76905, 76935]\n",
      "[tracking] Splitting the section into 3 parts\n",
      "[tracking] Split indices: [(0, 30), (30, 60), (60, 90)]\n",
      "[tracking] Section length: 90\n",
      "50:15 - 50:18\n",
      "\t0 - 1 (16 frames overlap)\n",
      "\t\t50:15 - 50:18\n",
      "Section duration: 90\n",
      "Samples: 3\n",
      "Section start: 90450\n",
      "Section end: 90540\n",
      "Section split: [90465, 90495, 90525]\n",
      "[tracking] Splitting the section into 3 parts\n",
      "[tracking] Split indices: [(0, 30), (30, 60), (60, 90)]\n",
      "[tracking] Section length: 90\n",
      "2:15 - 2:18\n",
      "\t1 - 2 (15 frames overlap)\n",
      "\t\t2:17 - 2:18\n",
      "Section duration: 90\n",
      "Samples: 3\n",
      "Section start: 4050\n",
      "Section end: 4140\n",
      "Section split: [4065, 4095, 4125]\n",
      "[tracking] Splitting the section into 3 parts\n",
      "[tracking] Split indices: [(0, 30), (30, 60), (60, 90)]\n",
      "[tracking] Section length: 90\n"
     ]
    }
   ],
   "source": [
    "# save presented sections to disk\n",
    "\n",
    "%load_ext autoreload\n",
    "%autoreload 2\n",
    "\n",
    "import numpy as np\n",
    "from PIL import Image\n",
    "from io import BytesIO\n",
    "\n",
    "from tracking import present_section, save_section_presentation\n",
    "\n",
    "# print overlaps ordered by overlap time descendent\n",
    "overlaps = { key: value for key, value in sorted(overlaps.items(), key=lambda item: sum([va[\"overlap\"] for va in item[1].values()]), reverse=True) }\n",
    "\n",
    "# lets also make a video of the overlaps for easier viewing\n",
    "v_out = cv2.VideoWriter(\"overlaps.mp4\", cv2.VideoWriter_fourcc(*'mp4v'), framerate, (1920, 1080))\n",
    "\n",
    "for (section_start, section_end), overlapping_clusters in overlaps.items():\n",
    "    formatted_start = f\"{int(section_start / framerate / 60)}:{int(section_start / framerate % 60)}\"\n",
    "    formatted_end = f\"{int(section_end / framerate / 60)}:{int(section_end / framerate % 60)}\"\n",
    "\n",
    "    print(f\"{formatted_start} - {formatted_end}\")\n",
    "\n",
    "    for (key1, key2), overlap_data in overlapping_clusters.items():\n",
    "        start1, end1 = overlap_data[\"bounds\"][key1]\n",
    "        start2, end2 = overlap_data[\"bounds\"][key2]\n",
    "\n",
    "        overlap_start = min(start1, start2)\n",
    "        overlap_end = max(end1, end2)\n",
    "\n",
    "        print(f\"\\t{key1} - {key2} ({overlap_data['overlap']} frames overlap)\")\n",
    "        formatted_start = f\"{int(overlap_start / framerate / 60)}:{int(overlap_start / framerate % 60)}\"\n",
    "        formatted_end = f\"{int(overlap_end / framerate / 60)}:{int(overlap_end / framerate % 60)}\"\n",
    "        print(f\"\\t\\t{formatted_start} - {formatted_end}\")\n",
    "\n",
    "        artifact_id = get_artifact_id(video_path, overlap_start, overlap_end, framerate)\n",
    "\n",
    "        sample = sample_video_section(cap, section_start, section_end, samples=3)\n",
    "\n",
    "        section_imgs, section_metadata = present_section(sample, overlap_data[\"clusters\"], version=\"v3\")\n",
    "        \n",
    "        save_section_presentation(artifact_id, section_imgs, section_metadata)\n",
    "\n",
    "        if not isinstance(section_imgs, list):\n",
    "            section_imgs = [section_imgs]\n",
    "\n",
    "        for section_img in section_imgs:\n",
    "            video_frame = np.array(Image.open(BytesIO(section_img)))\n",
    "            v_out.write(cv2.cvtColor(video_frame, cv2.COLOR_RGB2BGR))\n",
    "\n",
    "v_out.release()"
   ]
  },
  {
   "cell_type": "markdown",
   "metadata": {},
   "source": [
    "#### Cleanup and setup\n",
    "\n",
    "Now that the sections have been generated, go and manually delete the ones you dont need. (image and metadata)\n",
    "\n",
    "Then, run the code below:"
   ]
  },
  {
   "cell_type": "code",
   "execution_count": 15,
   "metadata": {},
   "outputs": [],
   "source": [
    "import os\n",
    "import matplotlib.pyplot as plt\n",
    "from typing import Optional\n",
    "\n",
    "pngs = [f for f in os.listdir(\"./track/presentation\") if f.endswith(\".png\")]\n",
    "pngs = [os.path.basename(f) for f in pngs]\n",
    "\n",
    "# remove the _\\d+.png part\n",
    "artifact_ids = [png.rsplit(\"_\", 1)[0] for png in pngs]\n",
    "# remove duplicates\n",
    "artifact_ids = list(dict.fromkeys(artifact_ids))\n",
    "\n",
    "if not os.path.exists(\"./track/ground_truth\"):\n",
    "    os.makedirs(\"./track/ground_truth\")\n",
    "\n",
    "for artifact_id in artifact_ids:\n",
    "    csv = artifact_id + \".csv\"\n",
    "\n",
    "    if not os.path.isfile(os.path.join(\"./track/ground_truth\", csv)):\n",
    "        open(os.path.join(\"./track/ground_truth\", csv), \"w\").close()\n",
    "\n",
    "def load_ground_truth(artifact_id) -> Optional[dict[str, bool]]:\n",
    "    ## example ground truth file:\n",
    "    ## A, True\n",
    "    ## B, False\n",
    "\n",
    "    output_dir = os.path.join(os.getcwd(), \"track\", \"ground_truth\")\n",
    "\n",
    "    file_path = os.path.join(output_dir, artifact_id + \".csv\")\n",
    "\n",
    "    if os.path.exists(file_path):\n",
    "        if os.path.getsize(file_path) == 0:\n",
    "            return None\n",
    "\n",
    "        with open(file_path, \"r\") as f:\n",
    "            file_contents = f.read()\n",
    "        \n",
    "        res = {}\n",
    "\n",
    "        for line in file_contents.split(\"\\n\"):\n",
    "            if line.strip() != \"\":\n",
    "                key = line.split(\",\")[0].strip().upper()\n",
    "                value = line.split(\",\")[1].strip()\n",
    "\n",
    "                res[key] = value in [\"True\", \"true\", \"1\", \"yes\", \"Yes\", \"YES\"]\n",
    "\n",
    "        return res\n",
    "    else:\n",
    "        print(f\"File {file_path} does not exist\")\n",
    "        \n",
    "        return None\n",
    "\n",
    "def get_score(ground_truth: dict[str, bool], response: dict[str, bool]) -> float:\n",
    "    if len(ground_truth) == 0:\n",
    "        return 0\n",
    "\n",
    "    score = 0\n",
    "    for key in ground_truth:\n",
    "        if key not in response.keys():\n",
    "            print(f\"Key {key} not in response, skipping\")\n",
    "            continue\n",
    "\n",
    "        if ground_truth[key] == response[key]:\n",
    "            score += 1\n",
    "    \n",
    "    print(f\"Expected: [{ground_truth}]\")\n",
    "    print(f\"Received: [{response}]\")\n",
    "    \n",
    "    return score / len(ground_truth)\n",
    "\n",
    "def calc_scores(responses):\n",
    "    ground_truths = [{}] * len(artifact_ids)\n",
    "    scores = [0.0] * len(artifact_ids)\n",
    "\n",
    "    for idx, artifact_id in enumerate(artifact_ids):\n",
    "        ground_truth = load_ground_truth(artifact_id)\n",
    "\n",
    "        if ground_truth is None:\n",
    "            print(f\"Ground truth for {artifact_id} does not exist, skipping\")\n",
    "            continue\n",
    "        else:\n",
    "            print(f\"Loaded ground truth for {artifact_id}\")\n",
    "\n",
    "        ground_truths[idx] = ground_truth\n",
    "\n",
    "        response = responses[idx]\n",
    "\n",
    "        score = get_score(ground_truth, response)\n",
    "\n",
    "        print(f\"Score: {score}\\n\")\n",
    "\n",
    "        scores[idx] = score\n",
    "\n",
    "    print(f\"Overall score: {sum(scores) / len(scores)}\")\n",
    "\n",
    "    # show a dot for every data point int the graph, and also a line connecting them\n",
    "    # also show the id next to the dot, rotated 90 degrees\n",
    "    plt.plot(scores, 'o-')\n",
    "\n",
    "    for idx, score in enumerate(scores):\n",
    "        plt.text(idx, score, artifact_ids[idx], ha='center', va='center', fontsize=8, rotation=90)\n",
    "\n",
    "    plt.show()"
   ]
  },
  {
   "cell_type": "markdown",
   "metadata": {},
   "source": [
    "#### Now, call gpt4 vision for each presented section in our dataset"
   ]
  },
  {
   "cell_type": "code",
   "execution_count": 19,
   "metadata": {},
   "outputs": [
    {
     "name": "stdout",
     "output_type": "stream",
     "text": [
      "The autoreload extension is already loaded. To reload it, use:\n",
      "  %reload_ext autoreload\n"
     ]
    },
    {
     "name": "stderr",
     "output_type": "stream",
     "text": [
      "  0%|          | 0/25 [00:00<?, ?it/s]"
     ]
    },
    {
     "name": "stdout",
     "output_type": "stream",
     "text": [
      "[VacomCam] Submitting section to Gemini (prerender.mp4_42-45_42-48)\n"
     ]
    },
    {
     "name": "stderr",
     "output_type": "stream",
     "text": [
      "  4%|▍         | 1/25 [00:09<03:50,  9.61s/it]"
     ]
    },
    {
     "name": "stdout",
     "output_type": "stream",
     "text": [
      "Parsed GPT-4 response\n",
      "{'A': True, 'B': False}\n",
      "[VacomCam] Submitting section to Gemini (prerender.mp4_02-12_02-14)\n"
     ]
    },
    {
     "name": "stderr",
     "output_type": "stream",
     "text": [
      "  8%|▊         | 2/25 [00:19<03:45,  9.80s/it]"
     ]
    },
    {
     "name": "stdout",
     "output_type": "stream",
     "text": [
      "Parsed GPT-4 response\n",
      "{'B': True, 'A': False}\n",
      "[VacomCam] Submitting section to Gemini (prerender.mp4_57-36_57-39)\n"
     ]
    },
    {
     "name": "stderr",
     "output_type": "stream",
     "text": [
      " 12%|█▏        | 3/25 [00:29<03:35,  9.78s/it]"
     ]
    },
    {
     "name": "stdout",
     "output_type": "stream",
     "text": [
      "Parsed GPT-4 response\n",
      "{'C': True, 'B': False}\n",
      "[VacomCam] Submitting section to Gemini (prerender.mp4_05-36_05-37)\n"
     ]
    },
    {
     "name": "stderr",
     "output_type": "stream",
     "text": [
      " 16%|█▌        | 4/25 [00:39<03:30, 10.04s/it]"
     ]
    },
    {
     "name": "stdout",
     "output_type": "stream",
     "text": [
      "Parsed GPT-4 response\n",
      "{'B': True, 'A': False}\n",
      "[VacomCam] Submitting section to Gemini (prerender.mp4_06-17_06-18)\n"
     ]
    },
    {
     "name": "stderr",
     "output_type": "stream",
     "text": [
      " 20%|██        | 5/25 [00:49<03:19,  9.99s/it]"
     ]
    },
    {
     "name": "stdout",
     "output_type": "stream",
     "text": [
      "Parsed GPT-4 response\n",
      "{'B': True, 'D': False}\n",
      "[VacomCam] Submitting section to Gemini (prerender.mp4_02-18_02-20)\n"
     ]
    },
    {
     "name": "stderr",
     "output_type": "stream",
     "text": [
      " 24%|██▍       | 6/25 [00:58<03:05,  9.76s/it]"
     ]
    },
    {
     "name": "stdout",
     "output_type": "stream",
     "text": [
      "Parsed GPT-4 response\n",
      "{'B': True, 'C': False}\n",
      "[VacomCam] Submitting section to Gemini (prerender.mp4_42-43_42-45)\n"
     ]
    },
    {
     "name": "stderr",
     "output_type": "stream",
     "text": [
      " 28%|██▊       | 7/25 [01:07<02:47,  9.32s/it]"
     ]
    },
    {
     "name": "stdout",
     "output_type": "stream",
     "text": [
      "Parsed GPT-4 response\n",
      "{'B': True, 'A': False}\n",
      "[VacomCam] Submitting section to Gemini (prerender.mp4_53-00_53-03)\n"
     ]
    },
    {
     "name": "stderr",
     "output_type": "stream",
     "text": [
      " 32%|███▏      | 8/25 [01:16<02:39,  9.38s/it]"
     ]
    },
    {
     "name": "stdout",
     "output_type": "stream",
     "text": [
      "Parsed GPT-4 response\n",
      "{'A': True, 'B': False}\n",
      "[VacomCam] Submitting section to Gemini (prerender.mp4_17-39_17-42)\n"
     ]
    },
    {
     "name": "stderr",
     "output_type": "stream",
     "text": [
      " 36%|███▌      | 9/25 [01:25<02:27,  9.23s/it]"
     ]
    },
    {
     "name": "stdout",
     "output_type": "stream",
     "text": [
      "Parsed GPT-4 response\n",
      "{'A': True, 'B': False}\n",
      "[VacomCam] Submitting section to Gemini (prerender.mp4_50-15_50-18)\n"
     ]
    },
    {
     "name": "stderr",
     "output_type": "stream",
     "text": [
      " 40%|████      | 10/25 [01:35<02:22,  9.48s/it]"
     ]
    },
    {
     "name": "stdout",
     "output_type": "stream",
     "text": [
      "Parsed GPT-4 response\n",
      "{'A': True, 'B': False}\n",
      "[VacomCam] Submitting section to Gemini (prerender.mp4_05-42_05-42)\n"
     ]
    },
    {
     "name": "stderr",
     "output_type": "stream",
     "text": [
      " 44%|████▍     | 11/25 [01:45<02:13,  9.55s/it]"
     ]
    },
    {
     "name": "stdout",
     "output_type": "stream",
     "text": [
      "Parsed GPT-4 response\n",
      "{'A': True, 'B': False}\n",
      "[VacomCam] Submitting section to Gemini (prerender.mp4_13-24_13-27)\n"
     ]
    },
    {
     "name": "stderr",
     "output_type": "stream",
     "text": [
      " 48%|████▊     | 12/25 [01:54<02:02,  9.42s/it]"
     ]
    },
    {
     "name": "stdout",
     "output_type": "stream",
     "text": [
      "Parsed GPT-4 response\n",
      "{'A': True, 'B': False}\n",
      "[VacomCam] Submitting section to Gemini (prerender.mp4_06-21_06-24)\n"
     ]
    },
    {
     "name": "stderr",
     "output_type": "stream",
     "text": [
      " 52%|█████▏    | 13/25 [02:03<01:49,  9.16s/it]"
     ]
    },
    {
     "name": "stdout",
     "output_type": "stream",
     "text": [
      "Parsed GPT-4 response\n",
      "{'A': True, 'B': False}\n",
      "[VacomCam] Submitting section to Gemini (prerender.mp4_52-33_52-36)\n"
     ]
    },
    {
     "name": "stderr",
     "output_type": "stream",
     "text": [
      " 56%|█████▌    | 14/25 [02:14<01:47,  9.81s/it]"
     ]
    },
    {
     "name": "stdout",
     "output_type": "stream",
     "text": [
      "Parsed GPT-4 response\n",
      "{'B': True, 'A': False}\n",
      "[VacomCam] Submitting section to Gemini (prerender.mp4_26-27_26-29)\n"
     ]
    },
    {
     "name": "stderr",
     "output_type": "stream",
     "text": [
      " 60%|██████    | 15/25 [02:24<01:39,  9.97s/it]"
     ]
    },
    {
     "name": "stdout",
     "output_type": "stream",
     "text": [
      "Parsed GPT-4 response\n",
      "{'A': True, 'B': False}\n",
      "[VacomCam] Submitting section to Gemini (prerender.mp4_02-33_02-36)\n"
     ]
    },
    {
     "name": "stderr",
     "output_type": "stream",
     "text": [
      " 64%|██████▍   | 16/25 [02:34<01:27,  9.78s/it]"
     ]
    },
    {
     "name": "stdout",
     "output_type": "stream",
     "text": [
      "Parsed GPT-4 response\n",
      "{'B': True, 'A': False}\n",
      "[VacomCam] Submitting section to Gemini (prerender.mp4_60-30_60-31)\n"
     ]
    },
    {
     "name": "stderr",
     "output_type": "stream",
     "text": [
      " 68%|██████▊   | 17/25 [02:43<01:15,  9.49s/it]"
     ]
    },
    {
     "name": "stdout",
     "output_type": "stream",
     "text": [
      "Parsed GPT-4 response\n",
      "{'B': True, 'A': False}\n",
      "[VacomCam] Submitting section to Gemini (prerender.mp4_05-33_05-36)\n"
     ]
    },
    {
     "name": "stderr",
     "output_type": "stream",
     "text": [
      " 72%|███████▏  | 18/25 [02:54<01:09,  9.98s/it]"
     ]
    },
    {
     "name": "stdout",
     "output_type": "stream",
     "text": [
      "Parsed GPT-4 response\n",
      "{'A': True, 'B': False}\n",
      "[VacomCam] Submitting section to Gemini (prerender.mp4_12-33_12-34)\n"
     ]
    },
    {
     "name": "stderr",
     "output_type": "stream",
     "text": [
      " 76%|███████▌  | 19/25 [03:02<00:56,  9.44s/it]"
     ]
    },
    {
     "name": "stdout",
     "output_type": "stream",
     "text": [
      "Parsed GPT-4 response\n",
      "{'B': True, 'A': False}\n",
      "[VacomCam] Submitting section to Gemini (prerender.mp4_02-17_02-18)\n"
     ]
    },
    {
     "name": "stderr",
     "output_type": "stream",
     "text": [
      " 80%|████████  | 20/25 [03:11<00:46,  9.37s/it]"
     ]
    },
    {
     "name": "stdout",
     "output_type": "stream",
     "text": [
      "Parsed GPT-4 response\n",
      "{'C': True, 'B': False}\n",
      "[VacomCam] Submitting section to Gemini (prerender.mp4_29-00_29-03)\n"
     ]
    },
    {
     "name": "stderr",
     "output_type": "stream",
     "text": [
      " 84%|████████▍ | 21/25 [03:23<00:40, 10.13s/it]"
     ]
    },
    {
     "name": "stdout",
     "output_type": "stream",
     "text": [
      "Parsed GPT-4 response\n",
      "{'A': True, 'B': False}\n",
      "[VacomCam] Submitting section to Gemini (prerender.mp4_05-39_05-42)\n"
     ]
    },
    {
     "name": "stderr",
     "output_type": "stream",
     "text": [
      " 88%|████████▊ | 22/25 [03:32<00:29,  9.71s/it]"
     ]
    },
    {
     "name": "stdout",
     "output_type": "stream",
     "text": [
      "Parsed GPT-4 response\n",
      "{'A': True, 'B': False}\n",
      "[VacomCam] Submitting section to Gemini (prerender.mp4_37-00_37-01)\n"
     ]
    },
    {
     "name": "stderr",
     "output_type": "stream",
     "text": [
      " 92%|█████████▏| 23/25 [03:42<00:19,  9.90s/it]"
     ]
    },
    {
     "name": "stdout",
     "output_type": "stream",
     "text": [
      "Parsed GPT-4 response\n",
      "{'A': True, 'B': False}\n",
      "[VacomCam] Submitting section to Gemini (prerender.mp4_11-45_11-48)\n"
     ]
    },
    {
     "name": "stderr",
     "output_type": "stream",
     "text": [
      " 96%|█████████▌| 24/25 [03:51<00:09,  9.66s/it]"
     ]
    },
    {
     "name": "stdout",
     "output_type": "stream",
     "text": [
      "Parsed GPT-4 response\n",
      "{'A': True, 'B': False}\n",
      "[VacomCam] Submitting section to Gemini (prerender.mp4_22-57_22-59)\n"
     ]
    },
    {
     "name": "stderr",
     "output_type": "stream",
     "text": [
      "100%|██████████| 25/25 [04:00<00:00,  9.62s/it]"
     ]
    },
    {
     "name": "stdout",
     "output_type": "stream",
     "text": [
      "Parsed GPT-4 response\n",
      "{'A': True, 'B': False}\n",
      "[VacomCam] Done processing video sections\n"
     ]
    },
    {
     "name": "stderr",
     "output_type": "stream",
     "text": [
      "\n"
     ]
    }
   ],
   "source": [
    "%load_ext autoreload\n",
    "%autoreload 2\n",
    "\n",
    "import time\n",
    "from tracking import load_section_presentation, load_gpt4_response, save_gpt4_response, parse_gpt4_response, ask_gippity_for_primary_clusters\n",
    "from tqdm import tqdm\n",
    "\n",
    "responses = [{}] * len(artifact_ids)\n",
    "\n",
    "for idx, artifact_id in enumerate(tqdm(artifact_ids)):\n",
    "    section_imgs, section_metadata = load_section_presentation(artifact_id)\n",
    "\n",
    "    if section_imgs is None or section_metadata is None:\n",
    "        raise Exception(\"Error loading section presentation\")\n",
    "\n",
    "    loaded_response = load_gpt4_response(artifact_id)\n",
    "\n",
    "    if loaded_response is not None:\n",
    "        print(f\"[VacomCam] Loaded response from cache ({artifact_id})\")\n",
    "        gpt4_response = loaded_response\n",
    "    else:\n",
    "        print(f\"[VacomCam] Submitting section ({artifact_id})\")\n",
    "        gpt4_response = ask_gippity_for_primary_clusters(section_imgs, section_metadata, version=\"v3\")\n",
    "    \n",
    "        if gpt4_response is None:\n",
    "            print(\"Response was None, SAVING EMPTY RESPONSE\")\n",
    "\n",
    "        save_gpt4_response(artifact_id, gpt4_response)\n",
    "\n",
    "    gpt4_response_parsed = parse_gpt4_response(gpt4_response)\n",
    "\n",
    "    if gpt4_response_parsed is None:\n",
    "        print(\"Response could not be parsed, skipping section\")\n",
    "        continue\n",
    "\n",
    "    responses[idx] = gpt4_response_parsed\n",
    "\n",
    "    # sleep for 15 seconds to avoid rate limiting\n",
    "    # time.sleep(15)\n",
    "\n",
    "print(\"[VacomCam] Done processing video sections\")"
   ]
  },
  {
   "cell_type": "code",
   "execution_count": 20,
   "metadata": {},
   "outputs": [
    {
     "name": "stdout",
     "output_type": "stream",
     "text": [
      "Loaded ground truth for prerender.mp4_42-45_42-48\n",
      "Expected: [{'A': True, 'B': False}]\n",
      "Received: [{'A': True, 'B': False}]\n",
      "Score: 1.0\n",
      "\n",
      "Loaded ground truth for prerender.mp4_02-12_02-14\n",
      "Expected: [{'A': True, 'B': False}]\n",
      "Received: [{'B': True, 'A': False}]\n",
      "Score: 0.0\n",
      "\n",
      "Loaded ground truth for prerender.mp4_57-36_57-39\n",
      "Expected: [{'B': True, 'C': False}]\n",
      "Received: [{'C': True, 'B': False}]\n",
      "Score: 0.0\n",
      "\n",
      "Loaded ground truth for prerender.mp4_05-36_05-37\n",
      "Expected: [{'B': True, 'A': False}]\n",
      "Received: [{'B': True, 'A': False}]\n",
      "Score: 1.0\n",
      "\n",
      "Loaded ground truth for prerender.mp4_06-17_06-18\n",
      "Expected: [{'B': False, 'D': False}]\n",
      "Received: [{'B': True, 'D': False}]\n",
      "Score: 0.5\n",
      "\n",
      "Loaded ground truth for prerender.mp4_02-18_02-20\n",
      "Expected: [{'B': True, 'C': False}]\n",
      "Received: [{'B': True, 'C': False}]\n",
      "Score: 1.0\n",
      "\n",
      "Loaded ground truth for prerender.mp4_42-43_42-45\n",
      "Expected: [{'A': True, 'B': False}]\n",
      "Received: [{'B': True, 'A': False}]\n",
      "Score: 0.0\n",
      "\n",
      "Loaded ground truth for prerender.mp4_53-00_53-03\n",
      "Expected: [{'A': True, 'B': False}]\n",
      "Received: [{'A': True, 'B': False}]\n",
      "Score: 1.0\n",
      "\n",
      "Loaded ground truth for prerender.mp4_17-39_17-42\n",
      "Expected: [{'A': True, 'B': False}]\n",
      "Received: [{'A': True, 'B': False}]\n",
      "Score: 1.0\n",
      "\n",
      "Loaded ground truth for prerender.mp4_50-15_50-18\n",
      "Expected: [{'A': True, 'B': False}]\n",
      "Received: [{'A': True, 'B': False}]\n",
      "Score: 1.0\n",
      "\n",
      "Loaded ground truth for prerender.mp4_05-42_05-42\n",
      "Expected: [{'A': True, 'B': False}]\n",
      "Received: [{'A': True, 'B': False}]\n",
      "Score: 1.0\n",
      "\n",
      "Loaded ground truth for prerender.mp4_13-24_13-27\n",
      "Expected: [{'A': True, 'B': False}]\n",
      "Received: [{'A': True, 'B': False}]\n",
      "Score: 1.0\n",
      "\n",
      "Loaded ground truth for prerender.mp4_06-21_06-24\n",
      "Expected: [{'A': True, 'B': False}]\n",
      "Received: [{'A': True, 'B': False}]\n",
      "Score: 1.0\n",
      "\n",
      "Loaded ground truth for prerender.mp4_52-33_52-36\n",
      "Expected: [{'A': True, 'B': False}]\n",
      "Received: [{'B': True, 'A': False}]\n",
      "Score: 0.0\n",
      "\n",
      "Loaded ground truth for prerender.mp4_26-27_26-29\n",
      "Expected: [{'A': True, 'B': False}]\n",
      "Received: [{'A': True, 'B': False}]\n",
      "Score: 1.0\n",
      "\n",
      "Loaded ground truth for prerender.mp4_02-33_02-36\n",
      "Expected: [{'A': True, 'B': False}]\n",
      "Received: [{'B': True, 'A': False}]\n",
      "Score: 0.0\n",
      "\n",
      "Loaded ground truth for prerender.mp4_60-30_60-31\n",
      "Expected: [{'B': True, 'A': False}]\n",
      "Received: [{'B': True, 'A': False}]\n",
      "Score: 1.0\n",
      "\n",
      "Loaded ground truth for prerender.mp4_05-33_05-36\n",
      "Expected: [{'A': True, 'B': False}]\n",
      "Received: [{'A': True, 'B': False}]\n",
      "Score: 1.0\n",
      "\n",
      "Loaded ground truth for prerender.mp4_12-33_12-34\n",
      "Expected: [{'B': True, 'A': False}]\n",
      "Received: [{'B': True, 'A': False}]\n",
      "Score: 1.0\n",
      "\n",
      "Loaded ground truth for prerender.mp4_02-17_02-18\n",
      "Expected: [{'C': True, 'B': False}]\n",
      "Received: [{'C': True, 'B': False}]\n",
      "Score: 1.0\n",
      "\n",
      "Loaded ground truth for prerender.mp4_29-00_29-03\n",
      "Expected: [{'A': True, 'B': True}]\n",
      "Received: [{'A': True, 'B': False}]\n",
      "Score: 0.5\n",
      "\n",
      "Loaded ground truth for prerender.mp4_05-39_05-42\n",
      "Expected: [{'A': True, 'B': False}]\n",
      "Received: [{'A': True, 'B': False}]\n",
      "Score: 1.0\n",
      "\n",
      "Loaded ground truth for prerender.mp4_37-00_37-01\n",
      "Expected: [{'A': True, 'B': False}]\n",
      "Received: [{'A': True, 'B': False}]\n",
      "Score: 1.0\n",
      "\n",
      "Loaded ground truth for prerender.mp4_11-45_11-48\n",
      "Expected: [{'A': True, 'B': False}]\n",
      "Received: [{'A': True, 'B': False}]\n",
      "Score: 1.0\n",
      "\n",
      "Loaded ground truth for prerender.mp4_22-57_22-59\n",
      "Expected: [{'A': True, 'B': False}]\n",
      "Received: [{'A': True, 'B': False}]\n",
      "Score: 1.0\n",
      "\n",
      "Overall score: 0.76\n"
     ]
    },
    {
     "data": {
      "image/png": "[encoded data removed]",
      "text/plain": [
       "<Figure size 640x480 with 1 Axes>"
      ]
     },
     "metadata": {},
     "output_type": "display_data"
    }
   ],
   "source": [
    "#1_original_prompt\n",
    "calc_scores(responses)"
   ]
  }
 ],
 "metadata": {
  "kernelspec": {
   "display_name": "venv",
   "language": "python",
   "name": "python3"
  },
  "language_info": {
   "codemirror_mode": {
    "name": "ipython",
    "version": 3
   },
   "file_extension": ".py",
   "mimetype": "text/x-python",
   "name": "python",
   "nbconvert_exporter": "python",
   "pygments_lexer": "ipython3",
   "version": "3.9.16"
  }
 },
 "nbformat": 4,
 "nbformat_minor": 2
}
