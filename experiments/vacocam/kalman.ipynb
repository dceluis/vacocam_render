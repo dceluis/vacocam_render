{
 "cells": [
  {
   "cell_type": "code",
   "execution_count": 34,
   "metadata": {},
   "outputs": [],
   "source": [
    "import cv2\n",
    "import numpy as np\n",
    "\n",
    "from filterpy.kalman import KalmanFilter, rts_smoother\n",
    "from filterpy.common import Q_discrete_white_noise\n",
    "\n",
    "def setup_kalman_filter():\n",
    "    kf = KalmanFilter(dim_x=4, dim_z=2)\n",
    "    dt = 1/30  # Assuming 30 fps\n",
    "\n",
    "    # Define the state transition matrix\n",
    "    kf.F = np.array([[1, 0, dt, 0],\n",
    "                     [0, 1, 0, dt],\n",
    "                     [0, 0, 1, 0],\n",
    "                     [0, 0, 0, 1]])\n",
    "\n",
    "    # Define the observation matrix\n",
    "    kf.H = np.array([[1, 0, 0, 0],\n",
    "                     [0, 1, 0, 0]])\n",
    "\n",
    "    kf.R = np.array([[0.001, 0.],\n",
    "                     [0., 0.001]])\n",
    "\n",
    "    kf.Q = np.array([[1, 0, 0, 0],   # Variance for x position\n",
    "                     [0, 1, 0, 0],   # Variance for y position\n",
    "                     [0, 0, 1, 0],     # Variance for x velocity\n",
    "                     [0, 0, 0, 1]])    # Variance for y velocity\n",
    "\n",
    "    kf.x = np.array([0., 0., 0., 0.])  # Initial state\n",
    "\n",
    "    kf.P = np.array([[1, 0, 0, 0],    # Lower variance for position\n",
    "                     [0, 1, 0, 0],\n",
    "                     [0, 0, 1, 0],  # Higher variance for velocity\n",
    "                     [0, 0, 0, 1]])\n",
    "\n",
    "    return kf"
   ]
  },
  {
   "cell_type": "code",
   "execution_count": 1,
   "metadata": {},
   "outputs": [
    {
     "name": "stdout",
     "output_type": "stream",
     "text": [
      "Adding path /home/luis/workspace/vacocam to sys.path\n"
     ]
    }
   ],
   "source": [
    "import sys\n",
    "import os\n",
    "from tqdm import tqdm\n",
    "\n",
    "path_append = '../../'\n",
    "print(f'Adding path {os.path.abspath(path_append)} to sys.path')\n",
    "sys.path.append(path_append)\n",
    "\n",
    "from core.detections import load_video_detections\n",
    "\n",
    "def process_video(video_path, kalman_filter):\n",
    "    _, detections = load_video_detections(video_path, module='detect')\n",
    "\n",
    "    last_position = None\n",
    "    max_frames = 1000\n",
    "\n",
    "    # Arrays to store states and covariances for each time step\n",
    "    Xs = []\n",
    "    Ps = []\n",
    "    Qs = []\n",
    "    Fs = []\n",
    "\n",
    "    for idx, detection in enumerate(tqdm(detections[:max_frames])):\n",
    "        closest_detection = None\n",
    "        min_distance = float('inf')\n",
    "        \n",
    "        if len(detection) > 0:\n",
    "            for bbox in detection.xyxy:\n",
    "                x_center = (bbox[0] + bbox[2]) / 2\n",
    "                y_center = (bbox[1] + bbox[3]) / 2\n",
    "                distance = np.linalg.norm([x_center - last_position[0], y_center - last_position[1]]) if last_position is not None else 0\n",
    "\n",
    "                if distance < min_distance:\n",
    "                    min_distance = distance\n",
    "                    closest_detection = (x_center, y_center)\n",
    "\n",
    "            kalman_filter.update(np.array(closest_detection))\n",
    "\n",
    "            Xs.append(kalman_filter.x.copy())\n",
    "            Ps.append(kalman_filter.P.copy())\n",
    "            Qs.append(kalman_filter.Q.copy())\n",
    "            Fs.append(kalman_filter.F.copy())\n",
    "\n",
    "            estimated_position = kalman_filter.x[:2]\n",
    "        else:\n",
    "            kalman_filter.predict()\n",
    "\n",
    "            Xs.append(kalman_filter.x.copy())\n",
    "            Ps.append(kalman_filter.P.copy())\n",
    "            Qs.append(kalman_filter.Q.copy())\n",
    "            Fs.append(kalman_filter.F.copy())\n",
    "\n",
    "            estimated_position = kalman_filter.x[:2]\n",
    "\n",
    "        last_position = estimated_position\n",
    "\n",
    "    Xs = np.array(Xs)\n",
    "    Ps = np.array(Ps)\n",
    "    Fs = np.array(Fs)\n",
    "    Qs = np.array(Qs)\n",
    "    \n",
    "    return Xs, Ps, Fs, Qs"
   ]
  },
  {
   "cell_type": "code",
   "execution_count": 36,
   "metadata": {},
   "outputs": [
    {
     "name": "stdout",
     "output_type": "stream",
     "text": [
      "loading detections from /home/luis/workspace/vacocam_render/source/detect/prerender_detections.npy\n",
      "loaded 112300 detections from /home/luis/workspace/vacocam_render/source/detect/prerender_detections.npy\n"
     ]
    },
    {
     "name": "stderr",
     "output_type": "stream",
     "text": [
      "100%|██████████| 1000/1000 [00:00<00:00, 38194.97it/s]\n"
     ]
    }
   ],
   "source": [
    "kf = setup_kalman_filter()\n",
    "video_path = \"/home/luis/workspace/vacocam_render/source/prerender.mp4\"\n",
    "\n",
    "Xs, Ps, Fs, Qs = process_video(video_path, kf)\n",
    "\n",
    "smoothed_states, *_ = rts_smoother(Xs, Ps, Fs, Qs)\n",
    "\n",
    "video_capture = cv2.VideoCapture(video_path)\n",
    "\n",
    "fourcc = cv2.VideoWriter_fourcc(*'XVID')\n",
    "frame_width, frame_height = int(video_capture.get(3)), int(video_capture.get(4))\n",
    "out = cv2.VideoWriter('kalman.avi', fourcc, 30, (frame_width, frame_height))\n",
    "\n",
    "for idx, state in enumerate(smoothed_states):\n",
    "    ret, frame = video_capture.read()\n",
    "    if not ret:\n",
    "        break\n",
    "\n",
    "    cv2.circle(frame, (int(state[0]), int(state[1])), 10, (0, 255, 0), -1)\n",
    "    out.write(frame)\n",
    "\n",
    "video_capture.release()\n",
    "out.release()"
   ]
  }
 ],
 "metadata": {
  "kernelspec": {
   "display_name": "venv",
   "language": "python",
   "name": "python3"
  },
  "language_info": {
   "codemirror_mode": {
    "name": "ipython",
    "version": 3
   },
   "file_extension": ".py",
   "mimetype": "text/x-python",
   "name": "python",
   "nbconvert_exporter": "python",
   "pygments_lexer": "ipython3",
   "version": "3.9.16"
  }
 },
 "nbformat": 4,
 "nbformat_minor": 2
}
