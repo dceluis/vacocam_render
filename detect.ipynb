{
 "cells": [
  {
   "cell_type": "code",
   "execution_count": null,
   "id": "5e06fcb0-3e13-46ca-ae91-ad0a7873cbb5",
   "metadata": {
    "execution": {
     "iopub.execute_input": "2023-12-15T05:51:00.611973Z",
     "iopub.status.busy": "2023-12-15T05:51:00.611618Z",
     "iopub.status.idle": "2023-12-15T05:51:04.304351Z",
     "shell.execute_reply": "2023-12-15T05:51:04.303415Z",
     "shell.execute_reply.started": "2023-12-15T05:51:00.611943Z"
    }
   },
   "outputs": [],
   "source": [
    "!python -m pip install ultralytics sahi==0.11.15 ipython==8.5.0 ffmpeg-python wandb==0.16.1"
   ]
  },
  {
   "cell_type": "code",
   "execution_count": 2,
   "id": "8e507d15-f8f3-40dc-a100-6a922b1811c9",
   "metadata": {
    "execution": {
     "iopub.execute_input": "2023-12-15T05:51:04.306467Z",
     "iopub.status.busy": "2023-12-15T05:51:04.306102Z",
     "iopub.status.idle": "2023-12-15T05:51:04.315778Z",
     "shell.execute_reply": "2023-12-15T05:51:04.314687Z",
     "shell.execute_reply.started": "2023-12-15T05:51:04.306433Z"
    }
   },
   "outputs": [
    {
     "ename": "FileNotFoundError",
     "evalue": "[Errno 2] No such file or directory: '/notebooks/samples'",
     "output_type": "error",
     "traceback": [
      "\u001b[0;31m---------------------------------------------------------------------------\u001b[0m",
      "\u001b[0;31mFileNotFoundError\u001b[0m                         Traceback (most recent call last)",
      "\u001b[1;32m/home/luis/workspace/vacocam_render/detect.ipynb Cell 2\u001b[0m line \u001b[0;36m5\n\u001b[1;32m      <a href='vscode-notebook-cell:/home/luis/workspace/vacocam_render/detect.ipynb#W1sZmlsZQ%3D%3D?line=0'>1</a>\u001b[0m \u001b[39mimport\u001b[39;00m \u001b[39mos\u001b[39;00m\n\u001b[1;32m      <a href='vscode-notebook-cell:/home/luis/workspace/vacocam_render/detect.ipynb#W1sZmlsZQ%3D%3D?line=2'>3</a>\u001b[0m directory_path \u001b[39m=\u001b[39m \u001b[39m\"\u001b[39m\u001b[39m/notebooks/samples\u001b[39m\u001b[39m\"\u001b[39m\n\u001b[0;32m----> <a href='vscode-notebook-cell:/home/luis/workspace/vacocam_render/detect.ipynb#W1sZmlsZQ%3D%3D?line=4'>5</a>\u001b[0m entries \u001b[39m=\u001b[39m os\u001b[39m.\u001b[39;49mlistdir(directory_path)\n\u001b[1;32m      <a href='vscode-notebook-cell:/home/luis/workspace/vacocam_render/detect.ipynb#W1sZmlsZQ%3D%3D?line=6'>7</a>\u001b[0m file_paths \u001b[39m=\u001b[39m \u001b[39msorted\u001b[39m([os\u001b[39m.\u001b[39mpath\u001b[39m.\u001b[39mjoin(directory_path, entry) \u001b[39mfor\u001b[39;00m entry \u001b[39min\u001b[39;00m entries \u001b[39mif\u001b[39;00m os\u001b[39m.\u001b[39mpath\u001b[39m.\u001b[39misfile(os\u001b[39m.\u001b[39mpath\u001b[39m.\u001b[39mjoin(directory_path, entry)) \u001b[39mand\u001b[39;00m entry\u001b[39m.\u001b[39mendswith(\u001b[39m'\u001b[39m\u001b[39m.mp4\u001b[39m\u001b[39m'\u001b[39m)])\n\u001b[1;32m      <a href='vscode-notebook-cell:/home/luis/workspace/vacocam_render/detect.ipynb#W1sZmlsZQ%3D%3D?line=8'>9</a>\u001b[0m \u001b[39mprint\u001b[39m(file_paths)\n",
      "\u001b[0;31mFileNotFoundError\u001b[0m: [Errno 2] No such file or directory: '/notebooks/samples'"
     ]
    }
   ],
   "source": [
    "import os\n",
    "\n",
    "directory_path = \"/notebooks/samples\"\n",
    "\n",
    "entries = os.listdir(directory_path)\n",
    "\n",
    "file_paths = sorted([os.path.join(directory_path, entry) for entry in entries if os.path.isfile(os.path.join(directory_path, entry)) and entry.endswith('.mp4')])\n",
    "\n",
    "print(file_paths)\n",
    "\n",
    "args = ' '.join(f'\"{path}\"' for path in file_paths)"
   ]
  },
  {
   "cell_type": "code",
   "execution_count": 1,
   "id": "6f20abb4-dc12-47b3-9343-81dcd34f8fd4",
   "metadata": {
    "execution": {
     "iopub.execute_input": "2023-12-15T05:51:04.317212Z",
     "iopub.status.busy": "2023-12-15T05:51:04.316965Z",
     "iopub.status.idle": "2023-12-15T06:02:22.084843Z",
     "shell.execute_reply": "2023-12-15T06:02:22.083657Z",
     "shell.execute_reply.started": "2023-12-15T05:51:04.317187Z"
    }
   },
   "outputs": [
    {
     "ename": "NameError",
     "evalue": "name 'args' is not defined",
     "output_type": "error",
     "traceback": [
      "\u001b[0;31m---------------------------------------------------------------------------\u001b[0m",
      "\u001b[0;31mNameError\u001b[0m                                 Traceback (most recent call last)",
      "\u001b[1;32m/home/luis/workspace/vacocam_render/detect.ipynb Cell 3\u001b[0m line \u001b[0;36m5\n\u001b[1;32m      <a href='vscode-notebook-cell:/home/luis/workspace/vacocam_render/detect.ipynb#W2sZmlsZQ%3D%3D?line=1'>2</a>\u001b[0m folder \u001b[39m=\u001b[39m \u001b[39m'\u001b[39m\u001b[39m\"\u001b[39m\u001b[39m/notebooks/import\u001b[39m\u001b[39m\"\u001b[39m\u001b[39m'\u001b[39m\n\u001b[1;32m      <a href='vscode-notebook-cell:/home/luis/workspace/vacocam_render/detect.ipynb#W2sZmlsZQ%3D%3D?line=3'>4</a>\u001b[0m \u001b[39m#command = f'python detect.py --model=\"latest\" --folder=\"/notebooks/import\"'\u001b[39;00m\n\u001b[0;32m----> <a href='vscode-notebook-cell:/home/luis/workspace/vacocam_render/detect.ipynb#W2sZmlsZQ%3D%3D?line=4'>5</a>\u001b[0m command \u001b[39m=\u001b[39m \u001b[39mf\u001b[39m\u001b[39m'\u001b[39m\u001b[39mpython detect.py --model=\u001b[39m\u001b[39m\"\u001b[39m\u001b[39mlatest\u001b[39m\u001b[39m\"\u001b[39m\u001b[39m \u001b[39m\u001b[39m{\u001b[39;00margs\u001b[39m}\u001b[39;00m\u001b[39m'\u001b[39m\n\u001b[1;32m      <a href='vscode-notebook-cell:/home/luis/workspace/vacocam_render/detect.ipynb#W2sZmlsZQ%3D%3D?line=6'>7</a>\u001b[0m \u001b[39mprint\u001b[39m(command)\n\u001b[1;32m      <a href='vscode-notebook-cell:/home/luis/workspace/vacocam_render/detect.ipynb#W2sZmlsZQ%3D%3D?line=8'>9</a>\u001b[0m get_ipython()\u001b[39m.\u001b[39msystem(\u001b[39m'\u001b[39m\u001b[39m$command\u001b[39m\u001b[39m'\u001b[39m)\n",
      "\u001b[0;31mNameError\u001b[0m: name 'args' is not defined"
     ]
    }
   ],
   "source": [
    "#!wandb login\n",
    "folder = '\"/notebooks/import\"'\n",
    "\n",
    "#command = f'python detect.py --model=\"latest\" --folder=\"/notebooks/import\"'\n",
    "command = f'python detect.py --model=\"latest\" {args}'\n",
    "\n",
    "print(command)\n",
    "\n",
    "!$command"
   ]
  }
 ],
 "metadata": {
  "kernelspec": {
   "display_name": "Python 3 (ipykernel)",
   "language": "python",
   "name": "python3"
  },
  "language_info": {
   "codemirror_mode": {
    "name": "ipython",
    "version": 3
   },
   "file_extension": ".py",
   "mimetype": "text/x-python",
   "name": "python",
   "nbconvert_exporter": "python",
   "pygments_lexer": "ipython3",
   "version": "3.10.13"
  }
 },
 "nbformat": 4,
 "nbformat_minor": 5
}
