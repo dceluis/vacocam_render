{
 "cells": [
  {
   "cell_type": "code",
   "execution_count": 1,
   "id": "01a505c0-30a1-4ab1-a0da-9abef05b2138",
   "metadata": {
    "execution": {
     "iopub.execute_input": "2023-12-19T01:31:09.098629Z",
     "iopub.status.busy": "2023-12-19T01:31:09.097986Z",
     "iopub.status.idle": "2023-12-19T01:31:09.969084Z",
     "shell.execute_reply": "2023-12-19T01:31:09.967757Z",
     "shell.execute_reply.started": "2023-12-19T01:31:09.098598Z"
    }
   },
   "outputs": [
    {
     "name": "stdout",
     "output_type": "stream",
     "text": [
      "Agent pid 74\n"
     ]
    }
   ],
   "source": [
    "!sh run.sh"
   ]
  },
  {
   "cell_type": "code",
   "execution_count": 4,
   "id": "d46df218-a8dd-4368-a57b-13f751fe4417",
   "metadata": {
    "execution": {
     "iopub.execute_input": "2023-12-19T01:31:31.129348Z",
     "iopub.status.busy": "2023-12-19T01:31:31.128517Z",
     "iopub.status.idle": "2023-12-19T01:31:31.991512Z",
     "shell.execute_reply": "2023-12-19T01:31:31.990111Z",
     "shell.execute_reply.started": "2023-12-19T01:31:31.129312Z"
    }
   },
   "outputs": [
    {
     "name": "stdout",
     "output_type": "stream",
     "text": [
      "8.8G\t/notebooks\n",
      "8.2G\t/notebooks/source\n",
      "7.7G\t/notebooks/source/prerender.mp4\n",
      "489M\t/notebooks/source/render\n",
      "245M\t/notebooks/source/render/prerender_tracked_audio_old.mp4\n",
      "244M\t/notebooks/source/render/prerender_tracked_audio.mp4\n",
      "sort: fflush failed: 'standard output': Broken pipe\n",
      "sort: write error\n"
     ]
    }
   ],
   "source": [
    "!du -ah /notebooks | grep -v \"/$\" | sort -rh | head -6"
   ]
  },
  {
   "cell_type": "code",
   "execution_count": 3,
   "id": "d27b3ee4-2099-419b-9c81-9ff59fc170cb",
   "metadata": {
    "execution": {
     "iopub.execute_input": "2023-12-16T02:32:12.832063Z",
     "iopub.status.busy": "2023-12-16T02:32:12.831854Z",
     "iopub.status.idle": "2023-12-16T02:32:27.809429Z",
     "shell.execute_reply": "2023-12-16T02:32:27.808719Z",
     "shell.execute_reply.started": "2023-12-16T02:32:12.832043Z"
    }
   },
   "outputs": [
    {
     "name": "stdout",
     "output_type": "stream",
     "text": [
      "Reading package lists... Done\n",
      "Building dependency tree       \n",
      "Reading state information... Done\n",
      "Note, selecting 'code' instead of '/storage/deb/code_1.84.2-1699528352_amd64.deb'\n",
      "The following additional packages will be installed:\n",
      "  libfile-basedir-perl libfile-desktopentry-perl libfile-mimeinfo-perl\n",
      "  libfontenc1 libgbm1 libio-stringy-perl libipc-system-simple-perl\n",
      "  libnet-dbus-perl libtext-iconv-perl libtie-ixhash-perl libwayland-server0\n",
      "  libx11-protocol-perl libxaw7 libxkbfile1 libxml-twig-perl\n",
      "  libxml-xpathengine-perl libxmu6 libxmuu1 libxxf86dga1 x11-utils\n",
      "  x11-xserver-utils xdg-utils\n",
      "Suggested packages:\n",
      "  libunicode-map8-perl libunicode-string-perl xml-twig-tools mesa-utils nickle\n",
      "  cairo-5c xorg-docs-core\n",
      "The following NEW packages will be installed:\n",
      "  code libfile-basedir-perl libfile-desktopentry-perl libfile-mimeinfo-perl\n",
      "  libfontenc1 libgbm1 libio-stringy-perl libipc-system-simple-perl\n",
      "  libnet-dbus-perl libtext-iconv-perl libtie-ixhash-perl libwayland-server0\n",
      "  libx11-protocol-perl libxaw7 libxkbfile1 libxml-twig-perl\n",
      "  libxml-xpathengine-perl libxmu6 libxmuu1 libxxf86dga1 x11-utils\n",
      "  x11-xserver-utils xdg-utils\n",
      "0 upgraded, 23 newly installed, 0 to remove and 3 not upgraded.\n",
      "Need to get 1496 kB/97.1 MB of archives.\n",
      "After this operation, 391 MB of additional disk space will be used.\n",
      "Get:1 http://archive.ubuntu.com/ubuntu focal/main amd64 libtext-iconv-perl amd64 1.7-7 [13.8 kB]\n",
      "Get:2 http://archive.ubuntu.com/ubuntu focal/main amd64 libxmuu1 amd64 2:1.1.3-0ubuntu1 [9728 B]\n",
      "Get:3 http://archive.ubuntu.com/ubuntu focal-updates/main amd64 libwayland-server0 amd64 1.18.0-1ubuntu0.1 [31.3 kB]\n",
      "Get:4 http://archive.ubuntu.com/ubuntu focal-updates/main amd64 libgbm1 amd64 21.2.6-0ubuntu0.1~20.04.2 [29.2 kB]\n",
      "Get:5 http://archive.ubuntu.com/ubuntu focal/main amd64 libxkbfile1 amd64 1:1.1.0-1 [65.3 kB]\n",
      "Get:6 http://archive.ubuntu.com/ubuntu focal-updates/main amd64 xdg-utils all 1.1.3-2ubuntu1.20.04.2 [61.4 kB]\n",
      "Get:7 http://archive.ubuntu.com/ubuntu focal/main amd64 libipc-system-simple-perl all 1.26-1 [22.8 kB]\n",
      "Get:8 http://archive.ubuntu.com/ubuntu focal/main amd64 libfile-basedir-perl all 0.08-1 [16.9 kB]\n",
      "Get:9 http://archive.ubuntu.com/ubuntu focal/main amd64 libfile-desktopentry-perl all 0.22-1 [18.2 kB]\n",
      "Get:10 http://archive.ubuntu.com/ubuntu focal/main amd64 libfile-mimeinfo-perl all 0.29-1 [41.5 kB]\n",
      "Get:11 http://archive.ubuntu.com/ubuntu focal/main amd64 libfontenc1 amd64 1:1.1.4-0ubuntu1 [14.0 kB]\n",
      "Get:12 http://archive.ubuntu.com/ubuntu focal/main amd64 libio-stringy-perl all 2.111-3 [55.8 kB]\n",
      "Get:13 http://archive.ubuntu.com/ubuntu focal/main amd64 libxml-twig-perl all 1:3.50-2 [155 kB]\n",
      "Get:14 http://archive.ubuntu.com/ubuntu focal/main amd64 libnet-dbus-perl amd64 1.2.0-1 [177 kB]\n",
      "Get:15 http://archive.ubuntu.com/ubuntu focal/main amd64 libtie-ixhash-perl all 1.23-2 [11.2 kB]\n",
      "Get:16 http://archive.ubuntu.com/ubuntu focal/main amd64 libx11-protocol-perl all 0.56-7 [149 kB]\n",
      "Get:17 http://archive.ubuntu.com/ubuntu focal/main amd64 libxmu6 amd64 2:1.1.3-0ubuntu1 [45.8 kB]\n",
      "Get:18 http://archive.ubuntu.com/ubuntu focal/main amd64 libxaw7 amd64 2:1.0.13-1 [173 kB]\n",
      "Get:19 http://archive.ubuntu.com/ubuntu focal/main amd64 libxml-xpathengine-perl all 0.14-1 [31.8 kB]\n",
      "Get:20 http://archive.ubuntu.com/ubuntu focal/main amd64 libxxf86dga1 amd64 2:1.1.5-0ubuntu1 [12.0 kB]\n",
      "Get:21 http://archive.ubuntu.com/ubuntu focal/main amd64 x11-utils amd64 7.7+5 [199 kB]\n",
      "Get:22 http://archive.ubuntu.com/ubuntu focal/main amd64 x11-xserver-utils amd64 7.7+8 [162 kB]\n",
      "Get:23 /storage/deb/code_1.84.2-1699528352_amd64.deb code amd64 1.84.2-1699528352 [95.6 MB]\n",
      "Fetched 1496 kB in 1s (1926 kB/s)\n",
      "\n",
      "\u001b7\u001b[0;23r\u001b8\u001b[1ASelecting previously unselected package libtext-iconv-perl.\n",
      "(Reading database ... 69943 files and directories currently installed.)\n",
      "Preparing to unpack .../00-libtext-iconv-perl_1.7-7_amd64.deb ...\n",
      "\u001b7\u001b[24;0f\u001b[42m\u001b[30mProgress: [  0%]\u001b[49m\u001b[39m [..........................................................] \u001b8\u001b7\u001b[24;0f\u001b[42m\u001b[30mProgress: [  1%]\u001b[49m\u001b[39m [..........................................................] \u001b8Unpacking libtext-iconv-perl (1.7-7) ...\n",
      "\u001b7\u001b[24;0f\u001b[42m\u001b[30mProgress: [  2%]\u001b[49m\u001b[39m [#.........................................................] \u001b8Selecting previously unselected package libxmuu1:amd64.\n",
      "Preparing to unpack .../01-libxmuu1_2%3a1.1.3-0ubuntu1_amd64.deb ...\n",
      "\u001b7\u001b[24;0f\u001b[42m\u001b[30mProgress: [  3%]\u001b[49m\u001b[39m [#.........................................................] \u001b8Unpacking libxmuu1:amd64 (2:1.1.3-0ubuntu1) ...\n",
      "\u001b7\u001b[24;0f\u001b[42m\u001b[30mProgress: [  4%]\u001b[49m\u001b[39m [##........................................................] \u001b8Selecting previously unselected package libwayland-server0:amd64.\n",
      "Preparing to unpack .../02-libwayland-server0_1.18.0-1ubuntu0.1_amd64.deb ...\n",
      "\u001b7\u001b[24;0f\u001b[42m\u001b[30mProgress: [  5%]\u001b[49m\u001b[39m [###.......................................................] \u001b8Unpacking libwayland-server0:amd64 (1.18.0-1ubuntu0.1) ...\n",
      "\u001b7\u001b[24;0f\u001b[42m\u001b[30mProgress: [  6%]\u001b[49m\u001b[39m [###.......................................................] \u001b8Selecting previously unselected package libgbm1:amd64.\n",
      "Preparing to unpack .../03-libgbm1_21.2.6-0ubuntu0.1~20.04.2_amd64.deb ...\n",
      "\u001b7\u001b[24;0f\u001b[42m\u001b[30mProgress: [  8%]\u001b[49m\u001b[39m [####......................................................] \u001b8Unpacking libgbm1:amd64 (21.2.6-0ubuntu0.1~20.04.2) ...\n",
      "\u001b7\u001b[24;0f\u001b[42m\u001b[30mProgress: [  9%]\u001b[49m\u001b[39m [####......................................................] \u001b8Selecting previously unselected package libxkbfile1:amd64.\n",
      "Preparing to unpack .../04-libxkbfile1_1%3a1.1.0-1_amd64.deb ...\n",
      "\u001b7\u001b[24;0f\u001b[42m\u001b[30mProgress: [ 10%]\u001b[49m\u001b[39m [#####.....................................................] \u001b8Unpacking libxkbfile1:amd64 (1:1.1.0-1) ...\n",
      "\u001b7\u001b[24;0f\u001b[42m\u001b[30mProgress: [ 11%]\u001b[49m\u001b[39m [######....................................................] \u001b8Selecting previously unselected package xdg-utils.\n",
      "Preparing to unpack .../05-xdg-utils_1.1.3-2ubuntu1.20.04.2_all.deb ...\n",
      "\u001b7\u001b[24;0f\u001b[42m\u001b[30mProgress: [ 12%]\u001b[49m\u001b[39m [######....................................................] \u001b8Unpacking xdg-utils (1.1.3-2ubuntu1.20.04.2) ...\n",
      "\u001b7\u001b[24;0f\u001b[42m\u001b[30mProgress: [ 13%]\u001b[49m\u001b[39m [#######...................................................] \u001b8Selecting previously unselected package code.\n",
      "Preparing to unpack .../06-code_1.84.2-1699528352_amd64.deb ...\n",
      "\u001b7\u001b[24;0f\u001b[42m\u001b[30mProgress: [ 14%]\u001b[49m\u001b[39m [########..................................................] \u001b8Unpacking code (1.84.2-1699528352) ...\n",
      "\u001b7\u001b[24;0f\u001b[42m\u001b[30mProgress: [ 15%]\u001b[49m\u001b[39m [########..................................................] \u001b8Selecting previously unselected package libipc-system-simple-perl.\n",
      "Preparing to unpack .../07-libipc-system-simple-perl_1.26-1_all.deb ...\n",
      "\u001b7\u001b[24;0f\u001b[42m\u001b[30mProgress: [ 16%]\u001b[49m\u001b[39m [#########.................................................] \u001b8Unpacking libipc-system-simple-perl (1.26-1) ...\n",
      "\u001b7\u001b[24;0f\u001b[42m\u001b[30mProgress: [ 17%]\u001b[49m\u001b[39m [#########.................................................] \u001b8Selecting previously unselected package libfile-basedir-perl.\n",
      "Preparing to unpack .../08-libfile-basedir-perl_0.08-1_all.deb ...\n",
      "\u001b7\u001b[24;0f\u001b[42m\u001b[30mProgress: [ 18%]\u001b[49m\u001b[39m [##########................................................] \u001b8Unpacking libfile-basedir-perl (0.08-1) ...\n",
      "\u001b7\u001b[24;0f\u001b[42m\u001b[30mProgress: [ 19%]\u001b[49m\u001b[39m [###########...............................................] \u001b8Selecting previously unselected package libfile-desktopentry-perl.\n",
      "Preparing to unpack .../09-libfile-desktopentry-perl_0.22-1_all.deb ...\n",
      "\u001b7\u001b[24;0f\u001b[42m\u001b[30mProgress: [ 20%]\u001b[49m\u001b[39m [###########...............................................] \u001b8Unpacking libfile-desktopentry-perl (0.22-1) ...\n",
      "\u001b7\u001b[24;0f\u001b[42m\u001b[30mProgress: [ 22%]\u001b[49m\u001b[39m [############..............................................] \u001b8Selecting previously unselected package libfile-mimeinfo-perl.\n",
      "Preparing to unpack .../10-libfile-mimeinfo-perl_0.29-1_all.deb ...\n",
      "\u001b7\u001b[24;0f\u001b[42m\u001b[30mProgress: [ 23%]\u001b[49m\u001b[39m [#############.............................................] \u001b8Unpacking libfile-mimeinfo-perl (0.29-1) ...\n",
      "\u001b7\u001b[24;0f\u001b[42m\u001b[30mProgress: [ 24%]\u001b[49m\u001b[39m [#############.............................................] \u001b8Selecting previously unselected package libfontenc1:amd64.\n",
      "Preparing to unpack .../11-libfontenc1_1%3a1.1.4-0ubuntu1_amd64.deb ...\n",
      "\u001b7\u001b[24;0f\u001b[42m\u001b[30mProgress: [ 25%]\u001b[49m\u001b[39m [##############............................................] \u001b8Unpacking libfontenc1:amd64 (1:1.1.4-0ubuntu1) ...\n",
      "\u001b7\u001b[24;0f\u001b[42m\u001b[30mProgress: [ 26%]\u001b[49m\u001b[39m [##############............................................] \u001b8Selecting previously unselected package libio-stringy-perl.\n",
      "Preparing to unpack .../12-libio-stringy-perl_2.111-3_all.deb ...\n",
      "\u001b7\u001b[24;0f\u001b[42m\u001b[30mProgress: [ 27%]\u001b[49m\u001b[39m [###############...........................................] \u001b8Unpacking libio-stringy-perl (2.111-3) ...\n",
      "\u001b7\u001b[24;0f\u001b[42m\u001b[30mProgress: [ 28%]\u001b[49m\u001b[39m [################..........................................] \u001b8Selecting previously unselected package libxml-twig-perl.\n",
      "Preparing to unpack .../13-libxml-twig-perl_1%3a3.50-2_all.deb ...\n",
      "\u001b7\u001b[24;0f\u001b[42m\u001b[30mProgress: [ 29%]\u001b[49m\u001b[39m [################..........................................] \u001b8Unpacking libxml-twig-perl (1:3.50-2) ...\n",
      "\u001b7\u001b[24;0f\u001b[42m\u001b[30mProgress: [ 30%]\u001b[49m\u001b[39m [#################.........................................] \u001b8Selecting previously unselected package libnet-dbus-perl.\n",
      "Preparing to unpack .../14-libnet-dbus-perl_1.2.0-1_amd64.deb ...\n",
      "\u001b7\u001b[24;0f\u001b[42m\u001b[30mProgress: [ 31%]\u001b[49m\u001b[39m [##################........................................] \u001b8Unpacking libnet-dbus-perl (1.2.0-1) ...\n",
      "\u001b7\u001b[24;0f\u001b[42m\u001b[30mProgress: [ 32%]\u001b[49m\u001b[39m [##################........................................] \u001b8Selecting previously unselected package libtie-ixhash-perl.\n",
      "Preparing to unpack .../15-libtie-ixhash-perl_1.23-2_all.deb ...\n",
      "\u001b7\u001b[24;0f\u001b[42m\u001b[30mProgress: [ 33%]\u001b[49m\u001b[39m [###################.......................................] \u001b8Unpacking libtie-ixhash-perl (1.23-2) ...\n",
      "\u001b7\u001b[24;0f\u001b[42m\u001b[30mProgress: [ 34%]\u001b[49m\u001b[39m [###################.......................................] \u001b8Selecting previously unselected package libx11-protocol-perl.\n",
      "Preparing to unpack .../16-libx11-protocol-perl_0.56-7_all.deb ...\n",
      "\u001b7\u001b[24;0f\u001b[42m\u001b[30mProgress: [ 35%]\u001b[49m\u001b[39m [####################......................................] \u001b8Unpacking libx11-protocol-perl (0.56-7) ...\n",
      "\u001b7\u001b[24;0f\u001b[42m\u001b[30mProgress: [ 37%]\u001b[49m\u001b[39m [#####################.....................................] \u001b8Selecting previously unselected package libxmu6:amd64.\n",
      "Preparing to unpack .../17-libxmu6_2%3a1.1.3-0ubuntu1_amd64.deb ...\n",
      "\u001b7\u001b[24;0f\u001b[42m\u001b[30mProgress: [ 38%]\u001b[49m\u001b[39m [#####################.....................................] \u001b8Unpacking libxmu6:amd64 (2:1.1.3-0ubuntu1) ...\n",
      "\u001b7\u001b[24;0f\u001b[42m\u001b[30mProgress: [ 39%]\u001b[49m\u001b[39m [######################....................................] \u001b8Selecting previously unselected package libxaw7:amd64.\n",
      "Preparing to unpack .../18-libxaw7_2%3a1.0.13-1_amd64.deb ...\n",
      "\u001b7\u001b[24;0f\u001b[42m\u001b[30mProgress: [ 40%]\u001b[49m\u001b[39m [#######################...................................] \u001b8Unpacking libxaw7:amd64 (2:1.0.13-1) ...\n",
      "\u001b7\u001b[24;0f\u001b[42m\u001b[30mProgress: [ 41%]\u001b[49m\u001b[39m [#######################...................................] \u001b8Selecting previously unselected package libxml-xpathengine-perl.\n",
      "Preparing to unpack .../19-libxml-xpathengine-perl_0.14-1_all.deb ...\n",
      "\u001b7\u001b[24;0f\u001b[42m\u001b[30mProgress: [ 42%]\u001b[49m\u001b[39m [########################..................................] \u001b8Unpacking libxml-xpathengine-perl (0.14-1) ...\n",
      "\u001b7\u001b[24;0f\u001b[42m\u001b[30mProgress: [ 43%]\u001b[49m\u001b[39m [########################..................................] \u001b8Selecting previously unselected package libxxf86dga1:amd64.\n",
      "Preparing to unpack .../20-libxxf86dga1_2%3a1.1.5-0ubuntu1_amd64.deb ...\n",
      "\u001b7\u001b[24;0f\u001b[42m\u001b[30mProgress: [ 44%]\u001b[49m\u001b[39m [#########################.................................] \u001b8Unpacking libxxf86dga1:amd64 (2:1.1.5-0ubuntu1) ...\n",
      "\u001b7\u001b[24;0f\u001b[42m\u001b[30mProgress: [ 45%]\u001b[49m\u001b[39m [##########################................................] \u001b8Selecting previously unselected package x11-utils.\n",
      "Preparing to unpack .../21-x11-utils_7.7+5_amd64.deb ...\n",
      "\u001b7\u001b[24;0f\u001b[42m\u001b[30mProgress: [ 46%]\u001b[49m\u001b[39m [##########################................................] \u001b8Unpacking x11-utils (7.7+5) ...\n",
      "\u001b7\u001b[24;0f\u001b[42m\u001b[30mProgress: [ 47%]\u001b[49m\u001b[39m [###########################...............................] \u001b8Selecting previously unselected package x11-xserver-utils.\n",
      "Preparing to unpack .../22-x11-xserver-utils_7.7+8_amd64.deb ...\n",
      "\u001b7\u001b[24;0f\u001b[42m\u001b[30mProgress: [ 48%]\u001b[49m\u001b[39m [############################..............................] \u001b8Unpacking x11-xserver-utils (7.7+8) ...\n",
      "\u001b7\u001b[24;0f\u001b[42m\u001b[30mProgress: [ 49%]\u001b[49m\u001b[39m [############################..............................] \u001b8Setting up libtext-iconv-perl (1.7-7) ...\n",
      "\u001b7\u001b[24;0f\u001b[42m\u001b[30mProgress: [ 51%]\u001b[49m\u001b[39m [#############################.............................] \u001b8\u001b7\u001b[24;0f\u001b[42m\u001b[30mProgress: [ 52%]\u001b[49m\u001b[39m [#############################.............................] \u001b8Setting up libwayland-server0:amd64 (1.18.0-1ubuntu0.1) ...\n",
      "\u001b7\u001b[24;0f\u001b[42m\u001b[30mProgress: [ 53%]\u001b[49m\u001b[39m [##############################............................] \u001b8\u001b7\u001b[24;0f\u001b[42m\u001b[30mProgress: [ 54%]\u001b[49m\u001b[39m [###############################...........................] \u001b8Setting up libxmu6:amd64 (2:1.1.3-0ubuntu1) ...\n",
      "\u001b7\u001b[24;0f\u001b[42m\u001b[30mProgress: [ 55%]\u001b[49m\u001b[39m [###############################...........................] \u001b8\u001b7\u001b[24;0f\u001b[42m\u001b[30mProgress: [ 56%]\u001b[49m\u001b[39m [################################..........................] \u001b8Setting up libtie-ixhash-perl (1.23-2) ...\n",
      "\u001b7\u001b[24;0f\u001b[42m\u001b[30mProgress: [ 57%]\u001b[49m\u001b[39m [#################################.........................] \u001b8\u001b7\u001b[24;0f\u001b[42m\u001b[30mProgress: [ 58%]\u001b[49m\u001b[39m [#################################.........................] \u001b8Setting up libgbm1:amd64 (21.2.6-0ubuntu0.1~20.04.2) ...\n",
      "\u001b7\u001b[24;0f\u001b[42m\u001b[30mProgress: [ 59%]\u001b[49m\u001b[39m [##################################........................] \u001b8\u001b7\u001b[24;0f\u001b[42m\u001b[30mProgress: [ 60%]\u001b[49m\u001b[39m [##################################........................] \u001b8Setting up libio-stringy-perl (2.111-3) ...\n",
      "\u001b7\u001b[24;0f\u001b[42m\u001b[30mProgress: [ 61%]\u001b[49m\u001b[39m [###################################.......................] \u001b8\u001b7\u001b[24;0f\u001b[42m\u001b[30mProgress: [ 62%]\u001b[49m\u001b[39m [####################################......................] \u001b8Setting up libxml-twig-perl (1:3.50-2) ...\n",
      "\u001b7\u001b[24;0f\u001b[42m\u001b[30mProgress: [ 63%]\u001b[49m\u001b[39m [####################################......................] \u001b8\u001b7\u001b[24;0f\u001b[42m\u001b[30mProgress: [ 65%]\u001b[49m\u001b[39m [#####################################.....................] \u001b8Setting up libxxf86dga1:amd64 (2:1.1.5-0ubuntu1) ...\n",
      "\u001b7\u001b[24;0f\u001b[42m\u001b[30mProgress: [ 66%]\u001b[49m\u001b[39m [######################################....................] \u001b8\u001b7\u001b[24;0f\u001b[42m\u001b[30mProgress: [ 67%]\u001b[49m\u001b[39m [######################################....................] \u001b8Setting up libnet-dbus-perl (1.2.0-1) ...\n",
      "\u001b7\u001b[24;0f\u001b[42m\u001b[30mProgress: [ 68%]\u001b[49m\u001b[39m [#######################################...................] \u001b8\u001b7\u001b[24;0f\u001b[42m\u001b[30mProgress: [ 69%]\u001b[49m\u001b[39m [#######################################...................] \u001b8Setting up libxaw7:amd64 (2:1.0.13-1) ...\n",
      "\u001b7\u001b[24;0f\u001b[42m\u001b[30mProgress: [ 70%]\u001b[49m\u001b[39m [########################################..................] \u001b8\u001b7\u001b[24;0f\u001b[42m\u001b[30mProgress: [ 71%]\u001b[49m\u001b[39m [#########################################.................] \u001b8Setting up libfontenc1:amd64 (1:1.1.4-0ubuntu1) ...\n",
      "\u001b7\u001b[24;0f\u001b[42m\u001b[30mProgress: [ 72%]\u001b[49m\u001b[39m [#########################################.................] \u001b8\u001b7\u001b[24;0f\u001b[42m\u001b[30mProgress: [ 73%]\u001b[49m\u001b[39m [##########################################................] \u001b8Setting up libipc-system-simple-perl (1.26-1) ...\n",
      "\u001b7\u001b[24;0f\u001b[42m\u001b[30mProgress: [ 74%]\u001b[49m\u001b[39m [###########################################...............] \u001b8\u001b7\u001b[24;0f\u001b[42m\u001b[30mProgress: [ 75%]\u001b[49m\u001b[39m [###########################################...............] \u001b8Setting up libxml-xpathengine-perl (0.14-1) ...\n",
      "\u001b7\u001b[24;0f\u001b[42m\u001b[30mProgress: [ 76%]\u001b[49m\u001b[39m [############################################..............] \u001b8\u001b7\u001b[24;0f\u001b[42m\u001b[30mProgress: [ 77%]\u001b[49m\u001b[39m [############################################..............] \u001b8Setting up libxkbfile1:amd64 (1:1.1.0-1) ...\n",
      "\u001b7\u001b[24;0f\u001b[42m\u001b[30mProgress: [ 78%]\u001b[49m\u001b[39m [#############################################.............] \u001b8\u001b7\u001b[24;0f\u001b[42m\u001b[30mProgress: [ 80%]\u001b[49m\u001b[39m [##############################################............] \u001b8Setting up xdg-utils (1.1.3-2ubuntu1.20.04.2) ...\n",
      "\u001b7\u001b[24;0f\u001b[42m\u001b[30mProgress: [ 81%]\u001b[49m\u001b[39m [##############################################............] \u001b8\u001b7\u001b[24;0f\u001b[42m\u001b[30mProgress: [ 82%]\u001b[49m\u001b[39m [###############################################...........] \u001b8Setting up libxmuu1:amd64 (2:1.1.3-0ubuntu1) ...\n",
      "\u001b7\u001b[24;0f\u001b[42m\u001b[30mProgress: [ 83%]\u001b[49m\u001b[39m [################################################..........] \u001b8\u001b7\u001b[24;0f\u001b[42m\u001b[30mProgress: [ 84%]\u001b[49m\u001b[39m [################################################..........] \u001b8Setting up libx11-protocol-perl (0.56-7) ...\n",
      "\u001b7\u001b[24;0f\u001b[42m\u001b[30mProgress: [ 85%]\u001b[49m\u001b[39m [#################################################.........] \u001b8\u001b7\u001b[24;0f\u001b[42m\u001b[30mProgress: [ 86%]\u001b[49m\u001b[39m [#################################################.........] \u001b8Setting up code (1.84.2-1699528352) ...\n",
      "\u001b7\u001b[24;0f\u001b[42m\u001b[30mProgress: [ 87%]\u001b[49m\u001b[39m [##################################################........] \u001b8\u001b7\u001b[24;0f\u001b[42m\u001b[30mProgress: [ 88%]\u001b[49m\u001b[39m [###################################################.......] \u001b8Setting up libfile-basedir-perl (0.08-1) ...\n",
      "\u001b7\u001b[24;0f\u001b[42m\u001b[30mProgress: [ 89%]\u001b[49m\u001b[39m [###################################################.......] \u001b8\u001b7\u001b[24;0f\u001b[42m\u001b[30mProgress: [ 90%]\u001b[49m\u001b[39m [####################################################......] \u001b8Setting up x11-xserver-utils (7.7+8) ...\n",
      "\u001b7\u001b[24;0f\u001b[42m\u001b[30mProgress: [ 91%]\u001b[49m\u001b[39m [#####################################################.....] \u001b8\u001b7\u001b[24;0f\u001b[42m\u001b[30mProgress: [ 92%]\u001b[49m\u001b[39m [#####################################################.....] \u001b8Setting up libfile-desktopentry-perl (0.22-1) ...\n",
      "\u001b7\u001b[24;0f\u001b[42m\u001b[30mProgress: [ 94%]\u001b[49m\u001b[39m [######################################################....] \u001b8\u001b7\u001b[24;0f\u001b[42m\u001b[30mProgress: [ 95%]\u001b[49m\u001b[39m [######################################################....] \u001b8Setting up x11-utils (7.7+5) ...\n",
      "\u001b7\u001b[24;0f\u001b[42m\u001b[30mProgress: [ 96%]\u001b[49m\u001b[39m [#######################################################...] \u001b8\u001b7\u001b[24;0f\u001b[42m\u001b[30mProgress: [ 97%]\u001b[49m\u001b[39m [########################################################..] \u001b8Setting up libfile-mimeinfo-perl (0.29-1) ...\n",
      "\u001b7\u001b[24;0f\u001b[42m\u001b[30mProgress: [ 98%]\u001b[49m\u001b[39m [########################################################..] \u001b8\u001b7\u001b[24;0f\u001b[42m\u001b[30mProgress: [ 99%]\u001b[49m\u001b[39m [#########################################################.] \u001b8Processing triggers for libc-bin (2.31-0ubuntu9.9) ...\n",
      "Processing triggers for man-db (2.9.1-1) ...\n",
      "Processing triggers for shared-mime-info (1.15-1) ...\n",
      "Processing triggers for mime-support (3.64ubuntu1) ...\n",
      "\n",
      "\u001b7\u001b[0;24r\u001b8\u001b[1A\u001b[J"
     ]
    }
   ],
   "source": [
    "!sudo apt install -y \"/storage/deb/code_1.84.2-1699528352_amd64.deb\""
   ]
  },
  {
   "cell_type": "code",
   "execution_count": null,
   "id": "9ccd4b72-5fa2-44c7-8d8f-a2f2dad4e1d6",
   "metadata": {
    "execution": {
     "iopub.execute_input": "2023-12-16T02:32:27.810972Z",
     "iopub.status.busy": "2023-12-16T02:32:27.810781Z"
    }
   },
   "outputs": [
    {
     "name": "stdout",
     "output_type": "stream",
     "text": [
      "*\n",
      "* Visual Studio Code Server\n",
      "*\n",
      "* By using the software, you agree to\n",
      "* the Visual Studio Code Server License Terms (https://aka.ms/vscode-server-license) and\n",
      "* the Microsoft Privacy Statement (https://privacy.microsoft.com/en-US/privacystatement).\n",
      "*\n",
      "[2023-12-16 02:32:28] info Using Github for authentication, run `code tunnel user login --provider <provider>` option to change this.\n",
      "To grant access to the server, please log into https://github.com/login/device and use code 1438-2919\n",
      "[2023-12-16 02:33:02] info Creating tunnel with the name: ny9du3afxe\n",
      "\n",
      "Open this link in your browser https://vscode.dev/tunnel/ny9du3afxe/notebooks\n",
      "\n",
      "[2023-12-16 02:33:43] info [tunnels::connections::relay_tunnel_host] Opened new client on channel 2\n",
      "[2023-12-16 02:33:43] info [russh::server] wrote id\n",
      "[2023-12-16 02:33:43] info [russh::server] read other id\n",
      "[2023-12-16 02:33:43] info [russh::server] session is running\n",
      "[2023-12-16 02:33:44] info [rpc.0] Checking /root/.vscode/cli/servers/Stable-0ee08df0cf4527e40edc9aa28f4b5bd38bbff2b2/log.txt and /root/.vscode/cli/servers/Stable-0ee08df0cf4527e40edc9aa28f4b5bd38bbff2b2/pid.txt for a running server...\n",
      "[2023-12-16 02:33:45] info [rpc.0] Downloading Visual Studio Code server -> /tmp/.tmpIRk9zm/vscode-server-linux-x64.tar.gz\n",
      "[2023-12-16 02:33:47] info [rpc.0] Starting server...\n",
      "[2023-12-16 02:33:47] info [rpc.0] Server started\n",
      "[2023-12-16 02:33:55] info [rpc.0] Disposed of connection to running server.\n",
      "[2023-12-16 02:34:00] info [tunnels::connections::relay_tunnel_host] Opened new client on channel 3\n",
      "[2023-12-16 02:34:00] info [russh::server] wrote id\n",
      "[2023-12-16 02:34:00] info [russh::server] read other id\n",
      "[2023-12-16 02:34:00] info [russh::server] session is running\n",
      "[2023-12-16 02:34:01] info [rpc.2] Checking /root/.vscode/cli/servers/Stable-0ee08df0cf4527e40edc9aa28f4b5bd38bbff2b2/log.txt and /root/.vscode/cli/servers/Stable-0ee08df0cf4527e40edc9aa28f4b5bd38bbff2b2/pid.txt for a running server...\n",
      "[2023-12-16 02:34:01] info [rpc.2] Found running server (pid=1244)\n",
      "[2023-12-16 02:38:29] info [rpc.2] Forwarding port 34745\n",
      "[2023-12-16 02:40:03] info [rpc.2] Forwarding port 56417\n",
      "[2023-12-16 02:40:03] info [rpc.2] Forwarding port 44183\n",
      "[2023-12-16 02:40:04] info [rpc.2] Forwarding port 45075\n",
      "[2023-12-16 02:40:04] info [rpc.2] Forwarding port 47573\n",
      "[2023-12-16 02:40:05] info [rpc.2] Forwarding port 32965\n",
      "[2023-12-16 02:40:06] info [rpc.2] Forwarding port 36253\n",
      "[2023-12-16 03:35:00] info [rpc.2] Disposed of connection to running server.\n",
      "[2023-12-16 05:16:51] info [tunnels::connections::relay_tunnel_host] Opened new client on channel 4\n",
      "[2023-12-16 05:16:51] info [russh::server] wrote id\n",
      "[2023-12-16 05:16:51] info [russh::server] read other id\n",
      "[2023-12-16 05:16:51] info [russh::server] session is running\n",
      "[2023-12-16 05:16:53] info [rpc.3] Checking /root/.vscode/cli/servers/Stable-0ee08df0cf4527e40edc9aa28f4b5bd38bbff2b2/log.txt and /root/.vscode/cli/servers/Stable-0ee08df0cf4527e40edc9aa28f4b5bd38bbff2b2/pid.txt for a running server...\n",
      "[2023-12-16 05:16:53] info [rpc.3] Found running server (pid=1244)\n",
      "[2023-12-16 05:17:13] info [rpc.3] Disposed of connection to running server.\n",
      "[2023-12-16 05:17:23] info [tunnels::connections::relay_tunnel_host] Opened new client on channel 5\n",
      "[2023-12-16 05:17:23] info [russh::server] wrote id\n",
      "[2023-12-16 05:17:24] info [russh::server] read other id\n",
      "[2023-12-16 05:17:24] info [russh::server] session is running\n",
      "[2023-12-16 05:17:25] info [rpc.4] Checking /root/.vscode/cli/servers/Stable-0ee08df0cf4527e40edc9aa28f4b5bd38bbff2b2/log.txt and /root/.vscode/cli/servers/Stable-0ee08df0cf4527e40edc9aa28f4b5bd38bbff2b2/pid.txt for a running server...\n",
      "[2023-12-16 05:17:25] info [rpc.4] Found running server (pid=1244)\n",
      "[2023-12-16 05:17:27] info [rpc.4] Forwarding port 34745\n",
      "[2023-12-16 05:17:28] info [rpc.4] Forwarding port 56417\n",
      "[2023-12-16 05:17:28] info [rpc.4] Forwarding port 44183\n",
      "[2023-12-16 05:17:28] info [rpc.4] Forwarding port 45075\n",
      "[2023-12-16 05:17:28] info [rpc.4] Forwarding port 47573\n",
      "[2023-12-16 05:17:29] info [rpc.4] Forwarding port 32965\n",
      "[2023-12-16 05:17:29] info [rpc.4] Forwarding port 36253\n",
      "[2023-12-16 05:17:33] info [rpc.4] Forwarding port 43205\n",
      "[2023-12-16 05:50:52] info [rpc.4] Forwarding port 39643\n",
      "[2023-12-16 05:52:41] info [rpc.4] Forwarding port 49197\n",
      "[2023-12-16 05:53:23] info [rpc.4] Forwarding port 43859\n"
     ]
    }
   ],
   "source": [
    "!code --no-sandbox --user-data-dir='.vscode-data' --accept-server-license-terms tunnel"
   ]
  }
 ],
 "metadata": {
  "kernelspec": {
   "display_name": "Python 3 (ipykernel)",
   "language": "python",
   "name": "python3"
  },
  "language_info": {
   "codemirror_mode": {
    "name": "ipython",
    "version": 3
   },
   "file_extension": ".py",
   "mimetype": "text/x-python",
   "name": "python",
   "nbconvert_exporter": "python",
   "pygments_lexer": "ipython3",
   "version": "3.9.16"
  }
 },
 "nbformat": 4,
 "nbformat_minor": 5
}
