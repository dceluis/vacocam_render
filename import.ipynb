{
 "cells": [
  {
   "cell_type": "code",
   "execution_count": null,
   "id": "5e06fcb0-3e13-46ca-ae91-ad0a7873cbb5",
   "metadata": {
    "execution": {
     "iopub.execute_input": "2023-12-14T07:53:26.617426Z",
     "iopub.status.busy": "2023-12-14T07:53:26.616731Z",
     "iopub.status.idle": "2023-12-14T07:53:32.835250Z",
     "shell.execute_reply": "2023-12-14T07:53:32.834115Z",
     "shell.execute_reply.started": "2023-12-14T07:53:26.617396Z"
    }
   },
   "outputs": [],
   "source": [
    "!python -m pip install ultralytics sahi==0.11.15 ffmpeg-python"
   ]
  },
  {
   "cell_type": "code",
   "execution_count": null,
   "id": "609770d6-238d-4624-bb17-487fdd48b625",
   "metadata": {
    "execution": {
     "iopub.execute_input": "2023-12-14T07:53:32.840473Z",
     "iopub.status.busy": "2023-12-14T07:53:32.839896Z",
     "iopub.status.idle": "2023-12-14T07:53:52.581074Z",
     "shell.execute_reply": "2023-12-14T07:53:52.580205Z",
     "shell.execute_reply.started": "2023-12-14T07:53:32.840441Z"
    }
   },
   "outputs": [],
   "source": [
    "from artifacts import download_artifact\n",
    "from pathlib import Path\n",
    "\n",
    "artifact, artifact_location = download_artifact(\"vacocam_model\", \"latest\")\n",
    "\n",
    "model_path = Path(artifact_location) / \"last.pt\""
   ]
  },
  {
   "cell_type": "code",
   "execution_count": 3,
   "id": "6f20abb4-dc12-47b3-9343-81dcd34f8fd4",
   "metadata": {
    "execution": {
     "iopub.execute_input": "2023-12-14T07:53:52.583958Z",
     "iopub.status.busy": "2023-12-14T07:53:52.583398Z",
     "iopub.status.idle": "2023-12-14T07:55:57.600007Z",
     "shell.execute_reply": "2023-12-14T07:55:57.598748Z",
     "shell.execute_reply.started": "2023-12-14T07:53:52.583922Z"
    }
   },
   "outputs": [
    {
     "name": "stdout",
     "output_type": "stream",
     "text": [
      "python detect.py --model=/notebooks/artifacts/vacocam_model:v22/last.pt --folder=\"/notebooks/import\"\n",
      "12/14/2023 07:53:55 - INFO - matplotlib.font_manager -   generated new fontManager\n",
      "finnyssh detect\n"
     ]
    }
   ],
   "source": [
    "folder = '\"/notebooks/import\"'\n",
    "\n",
    "command = f'python detect.py --model={model_path} --folder={folder}'\n",
    "\n",
    "print(command)\n",
    "\n",
    "!$command"
   ]
  },
  {
   "cell_type": "code",
   "execution_count": 4,
   "id": "5523dbf5-89eb-42db-977d-c592f88a33c0",
   "metadata": {
    "execution": {
     "iopub.execute_input": "2023-12-14T07:55:57.603169Z",
     "iopub.status.busy": "2023-12-14T07:55:57.602377Z",
     "iopub.status.idle": "2023-12-14T07:56:24.033846Z",
     "shell.execute_reply": "2023-12-14T07:56:24.033179Z",
     "shell.execute_reply.started": "2023-12-14T07:55:57.603133Z"
    }
   },
   "outputs": [
    {
     "data": {
      "text/plain": [
       "'/notebooks/import.zip'"
      ]
     },
     "execution_count": 4,
     "metadata": {},
     "output_type": "execute_result"
    }
   ],
   "source": [
    "import shutil\n",
    "\n",
    "shutil.make_archive('import', 'zip', './import', 'detect')"
   ]
  },
  {
   "cell_type": "code",
   "execution_count": 5,
   "id": "d969cfb5-7abc-4572-a82f-90d6060b946d",
   "metadata": {
    "execution": {
     "iopub.execute_input": "2023-12-14T07:56:24.035072Z",
     "iopub.status.busy": "2023-12-14T07:56:24.034830Z",
     "iopub.status.idle": "2023-12-14T07:56:25.101890Z",
     "shell.execute_reply": "2023-12-14T07:56:25.100422Z",
     "shell.execute_reply.started": "2023-12-14T07:56:24.035050Z"
    }
   },
   "outputs": [],
   "source": [
    "!rm -rf /notebooks/import/*"
   ]
  }
 ],
 "metadata": {
  "kernelspec": {
   "display_name": "Python 3 (ipykernel)",
   "language": "python",
   "name": "python3"
  },
  "language_info": {
   "codemirror_mode": {
    "name": "ipython",
    "version": 3
   },
   "file_extension": ".py",
   "mimetype": "text/x-python",
   "name": "python",
   "nbconvert_exporter": "python",
   "pygments_lexer": "ipython3",
   "version": "3.9.16"
  }
 },
 "nbformat": 4,
 "nbformat_minor": 5
}
