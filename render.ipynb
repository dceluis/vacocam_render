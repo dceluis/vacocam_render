{
 "cells": [
  {
   "cell_type": "code",
   "execution_count": null,
   "id": "18af0678-812f-42c2-99cc-9ec846684883",
   "metadata": {
    "execution": {
     "iopub.execute_input": "2023-12-09T22:18:55.613502Z",
     "iopub.status.busy": "2023-12-09T22:18:55.613070Z",
     "iopub.status.idle": "2023-12-09T22:19:04.168187Z",
     "shell.execute_reply": "2023-12-09T22:19:04.167372Z",
     "shell.execute_reply.started": "2023-12-09T22:18:55.613451Z"
    },
    "tags": []
   },
   "outputs": [],
   "source": [
    "%pip install ffmpeg-python sahi"
   ]
  },
  {
   "cell_type": "code",
   "execution_count": 12,
   "id": "4eeb8732-1aaf-42ed-a39c-0fece6b053c5",
   "metadata": {
    "execution": {
     "iopub.execute_input": "2023-12-09T22:19:04.173682Z",
     "iopub.status.busy": "2023-12-09T22:19:04.171547Z",
     "iopub.status.idle": "2023-12-09T22:19:04.181558Z",
     "shell.execute_reply": "2023-12-09T22:19:04.180214Z",
     "shell.execute_reply.started": "2023-12-09T22:19:04.173651Z"
    }
   },
   "outputs": [
    {
     "name": "stdout",
     "output_type": "stream",
     "text": [
      "['/home/luis/Videos/2023_12_10_interpromos_49_vs_56/2023-12-10 13h 14m 27s.mp4', '/home/luis/Videos/2023_12_10_interpromos_49_vs_56/2023-12-10 13h 34m 28s.mp4', '/home/luis/Videos/2023_12_10_interpromos_49_vs_56/2023-12-10 13h 54m 30s.mp4']\n"
     ]
    }
   ],
   "source": [
    "import os\n",
    "\n",
    "# Set the directory path\n",
    "directory_path = '/home/luis/Videos/2023_12_10_interpromos_49_vs_56'\n",
    "\n",
    "# List all files and directories in the specified path\n",
    "entries = os.listdir(directory_path)\n",
    "\n",
    "# Filter out directories and non-mp4 files, keep only mp4 files\n",
    "file_paths = sorted([os.path.join(directory_path, entry) for entry in entries if os.path.isfile(os.path.join(directory_path, entry)) and entry.endswith('.mp4')])\n",
    "\n",
    "print(file_paths)"
   ]
  },
  {
   "cell_type": "code",
   "execution_count": 1,
   "id": "fb223004-957d-4606-bfa3-454ffc76d7a6",
   "metadata": {
    "execution": {
     "iopub.execute_input": "2023-12-09T22:19:04.184398Z",
     "iopub.status.busy": "2023-12-09T22:19:04.182965Z"
    }
   },
   "outputs": [
    {
     "name": "stdout",
     "output_type": "stream",
     "text": [
      "usage: render.py [-h] [--max-frames MAX_FRAMES] [--framerate FRAMERATE]\n",
      "                 [--height HEIGHT] [--width WIDTH] [--max-zoom MAX_ZOOM]\n",
      "                 [--min-zoom MIN_ZOOM] [--max-area MAX_AREA]\n",
      "                 [--min-area MIN_AREA] [--preview] [--concat] [--ignore]\n",
      "                 [--declustered] [--vacocam] [--wandb] [--remove-source]\n",
      "                 videos [videos ...]\n",
      "render.py: error: argument --ignore: ignored explicit argument 'True'\n",
      "^C\n"
     ]
    }
   ],
   "source": [
    "file_paths = ['/home/luis/Videos/2023_12_10_interpromos_49_vs_56/2023-12-10 13h 34m 28s.mp4', '/home/luis/Videos/2023_12_10_interpromos_49_vs_56/2023-12-10 13h 54m 30s.mp4']\n",
    "args = ' '.join(f'\"{path}\"' for path in file_paths)\n",
    "\n",
    "command = f\"python render.py --width=1920 --height=1080 --ignore {args}\"\n",
    "\n",
    "#print(command)\n",
    "\n",
    "!$command"
   ]
  }
 ],
 "metadata": {
  "kernelspec": {
   "display_name": "Python 3 (ipykernel)",
   "language": "python",
   "name": "python3"
  },
  "language_info": {
   "codemirror_mode": {
    "name": "ipython",
    "version": 3
   },
   "file_extension": ".py",
   "mimetype": "text/x-python",
   "name": "python",
   "nbconvert_exporter": "python",
   "pygments_lexer": "ipython3",
   "version": "3.10.13"
  },
  "toc-showcode": false
 },
 "nbformat": 4,
 "nbformat_minor": 5
}
