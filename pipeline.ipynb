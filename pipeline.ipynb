{
 "cells": [
  {
   "cell_type": "code",
   "execution_count": null,
   "id": "a91b7d06-9342-4a43-b9f1-a3ae3761320d",
   "metadata": {
    "execution": {
     "iopub.execute_input": "2023-12-15T17:03:12.746740Z",
     "iopub.status.busy": "2023-12-15T17:03:12.746104Z",
     "iopub.status.idle": "2023-12-15T17:03:19.627027Z",
     "shell.execute_reply": "2023-12-15T17:03:19.626090Z",
     "shell.execute_reply.started": "2023-12-15T17:03:12.746716Z"
    }
   },
   "outputs": [],
   "source": [
    "!python -m pip install ultralytics sahi==0.11.15 ipython==8.5.0 ffmpeg-python wandb==0.16.1"
   ]
  },
  {
   "cell_type": "code",
   "execution_count": null,
   "id": "b6ac574f-7ff4-4dd2-9959-59695becd747",
   "metadata": {
    "execution": {
     "iopub.execute_input": "2023-12-15T06:31:30.242771Z",
     "iopub.status.busy": "2023-12-15T06:31:30.242330Z"
    }
   },
   "outputs": [],
   "source": [
    "command = f'detect.py --model=\"latest\" \"/notebooks/source/prerender.mp4\"'\n",
    "\n",
    "print(command)\n",
    "\n",
    "%run $command"
   ]
  },
  {
   "cell_type": "code",
   "execution_count": null,
   "id": "42e794a9",
   "metadata": {},
   "outputs": [],
   "source": [
    "command = f'track.py --tracking=\"declustered\" \"/notebooks/source/prerender.mp4\"'\n",
    "\n",
    "print(f\"%run {command}\")\n",
    "\n",
    "%run $command"
   ]
  },
  {
   "cell_type": "code",
   "execution_count": null,
   "id": "0e6ccb85",
   "metadata": {},
   "outputs": [],
   "source": [
    "command = f'track.py --tracking=\"vacocam\" \"/notebooks/source/prerender.mp4\"'\n",
    "\n",
    "print(f\"%run {command}\")\n",
    "\n",
    "%run $command"
   ]
  },
  {
   "cell_type": "code",
   "execution_count": null,
   "id": "e65016f9-f245-4fce-80b5-765cff23b8af",
   "metadata": {
    "execution": {
     "iopub.execute_input": "2023-12-15T17:03:36.282961Z",
     "iopub.status.busy": "2023-12-15T17:03:36.281958Z",
     "iopub.status.idle": "2023-12-15T18:14:32.327090Z",
     "shell.execute_reply": "2023-12-15T18:14:32.326240Z",
     "shell.execute_reply.started": "2023-12-15T17:03:36.282924Z"
    }
   },
   "outputs": [],
   "source": [
    "command = f'render.py --width=1920 --height=1080 --framerate=30 --max-zoom=1.9 --min-zoom=1.1 --max-area=400 --min-area=50 \"/notebooks/source/prerender.mp4\"'\n",
    "\n",
    "print(f\"%run {command}\")\n",
    "\n",
    "%run $command"
   ]
  }
 ],
 "metadata": {
  "kernelspec": {
   "display_name": "Python 3 (ipykernel)",
   "language": "python",
   "name": "python3"
  },
  "language_info": {
   "codemirror_mode": {
    "name": "ipython",
    "version": 3
   },
   "file_extension": ".py",
   "mimetype": "text/x-python",
   "name": "python",
   "nbconvert_exporter": "python",
   "pygments_lexer": "ipython3",
   "version": "3.9.16"
  }
 },
 "nbformat": 4,
 "nbformat_minor": 5
}
