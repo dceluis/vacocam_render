{
 "cells": [
  {
   "cell_type": "code",
   "execution_count": null,
   "id": "a91b7d06-9342-4a43-b9f1-a3ae3761320d",
   "metadata": {
    "execution": {
     "iopub.execute_input": "2023-12-15T17:03:12.746740Z",
     "iopub.status.busy": "2023-12-15T17:03:12.746104Z",
     "iopub.status.idle": "2023-12-15T17:03:19.627027Z",
     "shell.execute_reply": "2023-12-15T17:03:19.626090Z",
     "shell.execute_reply.started": "2023-12-15T17:03:12.746716Z"
    }
   },
   "outputs": [],
   "source": [
    "!python -m pip install ultralytics sahi==0.11.15 ipython==8.5.0 ffmpeg-python wandb==0.16.1"
   ]
  },
  {
   "cell_type": "code",
   "execution_count": null,
   "id": "b6ac574f-7ff4-4dd2-9959-59695becd747",
   "metadata": {
    "execution": {
     "iopub.execute_input": "2023-12-15T06:31:30.242771Z",
     "iopub.status.busy": "2023-12-15T06:31:30.242330Z"
    }
   },
   "outputs": [
    {
     "name": "stdout",
     "output_type": "stream",
     "text": [
      "python detect.py --model=\"latest\" \"/notebooks/source/prerender.mp4\"\n",
      "\u001b[34m\u001b[1mwandb\u001b[0m: Currently logged in as: \u001b[33mdceluis\u001b[0m. Use \u001b[1m`wandb login --relogin`\u001b[0m to force relogin\n",
      "\u001b[34m\u001b[1mwandb\u001b[0m: Tracking run with wandb version 0.16.1\n",
      "\u001b[34m\u001b[1mwandb\u001b[0m: Run data is saved locally in \u001b[35m\u001b[1m/notebooks/wandb/run-20231215_063132-lk9meso2\u001b[0m\n",
      "\u001b[34m\u001b[1mwandb\u001b[0m: Run \u001b[1m`wandb offline`\u001b[0m to turn off syncing.\n",
      "\u001b[34m\u001b[1mwandb\u001b[0m: Syncing run \u001b[33mconfused-shape-162\u001b[0m\n",
      "\u001b[34m\u001b[1mwandb\u001b[0m: ⭐️ View project at \u001b[34m\u001b[4mhttps://wandb.ai/dceluis/YOLOv8\u001b[0m\n",
      "\u001b[34m\u001b[1mwandb\u001b[0m: 🚀 View run at \u001b[34m\u001b[4mhttps://wandb.ai/dceluis/YOLOv8/runs/lk9meso2\u001b[0m\n",
      "  2%|▊                                  | 2553/112300 [03:18<2:19:02, 13.16it/s]"
     ]
    }
   ],
   "source": [
    "command = f'python detect.py --model=\"latest\" \"/notebooks/source/prerender.mp4\"'\n",
    "\n",
    "print(command)\n",
    "\n",
    "!$command"
   ]
  },
  {
   "cell_type": "code",
   "execution_count": 2,
   "id": "e65016f9-f245-4fce-80b5-765cff23b8af",
   "metadata": {
    "execution": {
     "iopub.execute_input": "2023-12-15T17:03:36.282961Z",
     "iopub.status.busy": "2023-12-15T17:03:36.281958Z",
     "iopub.status.idle": "2023-12-15T18:14:32.327090Z",
     "shell.execute_reply": "2023-12-15T18:14:32.326240Z",
     "shell.execute_reply.started": "2023-12-15T17:03:36.282924Z"
    }
   },
   "outputs": [
    {
     "name": "stdout",
     "output_type": "stream",
     "text": [
      "python render.py --width=1920 --height=1080 --framerate=30 --max-zoom=1.9 --min-zoom=1.1 --max-area=400 --min-area=50 \"/notebooks/source/prerender.mp4\"\n",
      "Rendering ['/notebooks/source/prerender.mp4'].\n",
      "ffmpeg version 4.2.7-0ubuntu0.1 Copyright (c) 2000-2022 the FFmpeg developers\n",
      "  built with gcc 9 (Ubuntu 9.4.0-1ubuntu1~20.04.1)\n",
      "  configuration: --prefix=/usr --extra-version=0ubuntu0.1 --toolchain=hardened --libdir=/usr/lib/x86_64-linux-gnu --incdir=/usr/include/x86_64-linux-gnu --arch=amd64 --enable-gpl --disable-stripping --enable-avresample --disable-filter=resample --enable-avisynth --enable-gnutls --enable-ladspa --enable-libaom --enable-libass --enable-libbluray --enable-libbs2b --enable-libcaca --enable-libcdio --enable-libcodec2 --enable-libflite --enable-libfontconfig --enable-libfreetype --enable-libfribidi --enable-libgme --enable-libgsm --enable-libjack --enable-libmp3lame --enable-libmysofa --enable-libopenjpeg --enable-libopenmpt --enable-libopus --enable-libpulse --enable-librsvg --enable-librubberband --enable-libshine --enable-libsnappy --enable-libsoxr --enable-libspeex --enable-libssh --enable-libtheora --enable-libtwolame --enable-libvidstab --enable-libvorbis --enable-libvpx --enable-libwavpack --enable-libwebp --enable-libx265 --enable-libxml2 --enable-libxvid --enable-libzmq --enable-libzvbi --enable-lv2 --enable-omx --enable-openal --enable-opencl --enable-opengl --enable-sdl2 --enable-libdc1394 --enable-libdrm --enable-libiec61883 --enable-nvenc --enable-chromaprint --enable-frei0r --enable-libx264 --enable-shared\n",
      "  libavutil      56. 31.100 / 56. 31.100\n",
      "  libavcodec     58. 54.100 / 58. 54.100\n",
      "  libavformat    58. 29.100 / 58. 29.100\n",
      "  libavdevice    58.  8.100 / 58.  8.100\n",
      "  libavfilter     7. 57.100 /  7. 57.100\n",
      "  libavresample   4.  0.  0 /  4.  0.  0\n",
      "  libswscale      5.  5.100 /  5.  5.100\n",
      "  libswresample   3.  5.100 /  3.  5.100\n",
      "  libpostproc    55.  5.100 / 55.  5.100\n",
      "Input #0, rawvideo, from 'pipe:':\n",
      "  Duration: N/A, start: 0.000000, bitrate: 1492992 kb/s\n",
      "    Stream #0:0: Video: rawvideo (BGR[24] / 0x18524742), bgr24, 1920x1080, 1492992 kb/s, 30 tbr, 30 tbn, 30 tbc\n",
      "Stream mapping:\n",
      "  Stream #0:0 -> #0:0 (rawvideo (native) -> h264 (libx264))\n",
      "\u001b[1;36m[libx264 @ 0x5627c6df7bc0] \u001b[0musing cpu capabilities: MMX2 SSE2Fast SSSE3 SSE4.2 AVX FMA3 BMI2 AVX2\n",
      "\u001b[1;36m[libx264 @ 0x5627c6df7bc0] \u001b[0mprofile High, level 5.0\n",
      "\u001b[1;36m[libx264 @ 0x5627c6df7bc0] \u001b[0m264 - core 155 r2917 0a84d98 - H.264/MPEG-4 AVC codec - Copyleft 2003-2018 - http://www.videolan.org/x264.html - options: cabac=1 ref=5 deblock=1:0:0 analyse=0x3:0x113 me=hex subme=8 psy=1 psy_rd=1.00:0.00 mixed_ref=1 me_range=16 chroma_me=1 trellis=2 8x8dct=1 cqm=0 deadzone=21,11 fast_pskip=1 chroma_qp_offset=-2 threads=12 lookahead_threads=2 sliced_threads=0 nr=0 decimate=1 interlaced=0 bluray_compat=0 constrained_intra=0 bframes=3 b_pyramid=2 b_adapt=1 b_bias=0 direct=3 weightb=1 open_gop=0 weightp=2 keyint=250 keyint_min=25 scenecut=40 intra_refresh=0 rc_lookahead=50 rc=crf mbtree=1 crf=20.0 qcomp=0.60 qpmin=0 qpmax=69 qpstep=4 ip_ratio=1.40 aq=1:1.00\n",
      "Output #0, mp4, to '/notebooks/source/render/prerender_tracked.mp4':\n",
      "  Metadata:\n",
      "    encoder         : Lavf58.29.100\n",
      "    Stream #0:0: Video: h264 (libx264) (avc1 / 0x31637661), yuv420p, 1920x1080, q=-1--1, 30 fps, 15360 tbn, 30 tbc\n",
      "    Metadata:\n",
      "      encoder         : Lavc58.54.100 libx264\n",
      "    Side data:\n",
      "      cpb: bitrate max/min/avg: 0/0/0 buffer size: 0 vbv_delay: -1\n",
      "frame=112300 fps= 26 q=-1.0 Lsize= 2511277kB time=01:02:23.23 bitrate=5495.9kbits/s speed=0.881x    \n",
      "video:2509937kB audio:0kB subtitle:0kB other streams:0kB global headers:0kB muxing overhead: 0.053395%\n",
      "\u001b[1;36m[libx264 @ 0x5627c6df7bc0] \u001b[0mframe I:450   Avg QP:16.97  size:151007\n",
      "\u001b[1;36m[libx264 @ 0x5627c6df7bc0] \u001b[0mframe P:29837 Avg QP:19.88  size: 55019\n",
      "\u001b[1;36m[libx264 @ 0x5627c6df7bc0] \u001b[0mframe B:82013 Avg QP:22.06  size: 10494\n",
      "\u001b[1;36m[libx264 @ 0x5627c6df7bc0] \u001b[0mconsecutive B-frames:  1.5%  2.2%  3.6% 92.7%\n",
      "\u001b[1;36m[libx264 @ 0x5627c6df7bc0] \u001b[0mmb I  I16..4:  6.9% 84.9%  8.3%\n",
      "\u001b[1;36m[libx264 @ 0x5627c6df7bc0] \u001b[0mmb P  I16..4:  2.9%  6.8%  0.2%  P16..4: 51.6% 20.8%  8.7%  0.0%  0.0%    skip: 9.0%\n",
      "\u001b[1;36m[libx264 @ 0x5627c6df7bc0] \u001b[0mmb B  I16..4:  0.3%  0.3%  0.0%  B16..8: 41.8%  3.6%  0.6%  direct: 4.2%  skip:49.1%  L0:43.0% L1:52.3% BI: 4.6%\n",
      "\u001b[1;36m[libx264 @ 0x5627c6df7bc0] \u001b[0m8x8 transform intra:68.8% inter:76.5%\n",
      "\u001b[1;36m[libx264 @ 0x5627c6df7bc0] \u001b[0mdirect mvs  spatial:100.0% temporal:0.0%\n",
      "\u001b[1;36m[libx264 @ 0x5627c6df7bc0] \u001b[0mcoded y,uvDC,uvAC intra: 43.0% 42.9% 12.2% inter: 19.0% 16.4% 0.2%\n",
      "\u001b[1;36m[libx264 @ 0x5627c6df7bc0] \u001b[0mi16 v,h,dc,p: 19% 27% 12% 42%\n",
      "\u001b[1;36m[libx264 @ 0x5627c6df7bc0] \u001b[0mi8 v,h,dc,ddl,ddr,vr,hd,vl,hu: 16% 15% 21%  6%  8%  8%  9%  7% 10%\n",
      "\u001b[1;36m[libx264 @ 0x5627c6df7bc0] \u001b[0mi4 v,h,dc,ddl,ddr,vr,hd,vl,hu: 19% 16% 12%  6% 10% 10% 10%  8%  9%\n",
      "\u001b[1;36m[libx264 @ 0x5627c6df7bc0] \u001b[0mi8c dc,h,v,p: 49% 27% 16%  8%\n",
      "\u001b[1;36m[libx264 @ 0x5627c6df7bc0] \u001b[0mWeighted P-Frames: Y:0.7% UV:0.3%\n",
      "\u001b[1;36m[libx264 @ 0x5627c6df7bc0] \u001b[0mref P L0: 53.2% 13.3% 21.2%  5.8%  6.3%  0.2%  0.0%\n",
      "\u001b[1;36m[libx264 @ 0x5627c6df7bc0] \u001b[0mref B L0: 89.0%  7.7%  2.5%  0.8%\n",
      "\u001b[1;36m[libx264 @ 0x5627c6df7bc0] \u001b[0mref B L1: 97.6%  2.4%\n",
      "\u001b[1;36m[libx264 @ 0x5627c6df7bc0] \u001b[0mkb/s:5492.80\n",
      "ffmpeg version 4.2.7-0ubuntu0.1 Copyright (c) 2000-2022 the FFmpeg developers\n",
      "  built with gcc 9 (Ubuntu 9.4.0-1ubuntu1~20.04.1)\n",
      "  configuration: --prefix=/usr --extra-version=0ubuntu0.1 --toolchain=hardened --libdir=/usr/lib/x86_64-linux-gnu --incdir=/usr/include/x86_64-linux-gnu --arch=amd64 --enable-gpl --disable-stripping --enable-avresample --disable-filter=resample --enable-avisynth --enable-gnutls --enable-ladspa --enable-libaom --enable-libass --enable-libbluray --enable-libbs2b --enable-libcaca --enable-libcdio --enable-libcodec2 --enable-libflite --enable-libfontconfig --enable-libfreetype --enable-libfribidi --enable-libgme --enable-libgsm --enable-libjack --enable-libmp3lame --enable-libmysofa --enable-libopenjpeg --enable-libopenmpt --enable-libopus --enable-libpulse --enable-librsvg --enable-librubberband --enable-libshine --enable-libsnappy --enable-libsoxr --enable-libspeex --enable-libssh --enable-libtheora --enable-libtwolame --enable-libvidstab --enable-libvorbis --enable-libvpx --enable-libwavpack --enable-libwebp --enable-libx265 --enable-libxml2 --enable-libxvid --enable-libzmq --enable-libzvbi --enable-lv2 --enable-omx --enable-openal --enable-opencl --enable-opengl --enable-sdl2 --enable-libdc1394 --enable-libdrm --enable-libiec61883 --enable-nvenc --enable-chromaprint --enable-frei0r --enable-libx264 --enable-shared\n",
      "  libavutil      56. 31.100 / 56. 31.100\n",
      "  libavcodec     58. 54.100 / 58. 54.100\n",
      "  libavformat    58. 29.100 / 58. 29.100\n",
      "  libavdevice    58.  8.100 / 58.  8.100\n",
      "  libavfilter     7. 57.100 /  7. 57.100\n",
      "  libavresample   4.  0.  0 /  4.  0.  0\n",
      "  libswscale      5.  5.100 /  5.  5.100\n",
      "  libswresample   3.  5.100 /  3.  5.100\n",
      "  libpostproc    55.  5.100 / 55.  5.100\n",
      "Input #0, mov,mp4,m4a,3gp,3g2,mj2, from '/notebooks/source/render/prerender_tracked.mp4':\n",
      "  Metadata:\n",
      "    major_brand     : isom\n",
      "    minor_version   : 512\n",
      "    compatible_brands: isomiso2avc1mp41\n",
      "    encoder         : Lavf58.29.100\n",
      "  Duration: 01:02:23.33, start: 0.000000, bitrate: 5495 kb/s\n",
      "    Stream #0:0(und): Video: h264 (High) (avc1 / 0x31637661), yuv420p, 1920x1080, 5492 kb/s, 30 fps, 30 tbr, 15360 tbn, 60 tbc (default)\n",
      "    Metadata:\n",
      "      handler_name    : VideoHandler\n",
      "Input #1, mov,mp4,m4a,3gp,3g2,mj2, from '/notebooks/source/prerender.mp4':\n",
      "  Metadata:\n",
      "    major_brand     : isom\n",
      "    minor_version   : 512\n",
      "    compatible_brands: isomiso2avc1mp41\n",
      "    encoder         : Lavf60.16.100\n",
      "  Duration: 01:02:23.34, start: 0.000000, bitrate: 17545 kb/s\n",
      "    Stream #1:0(und): Video: h264 (High) (avc1 / 0x31637661), yuv420p(tv, bt709), 1920x1080 [SAR 1:1 DAR 16:9], 17242 kb/s, 30 fps, 30 tbr, 15360 tbn, 60 tbc (default)\n",
      "    Metadata:\n",
      "      handler_name    : VideoHandler\n",
      "    Stream #1:1(und): Audio: aac (LC) (mp4a / 0x6134706D), 48000 Hz, stereo, fltp, 293 kb/s (default)\n",
      "    Metadata:\n",
      "      handler_name    : SoundHandler\n",
      "Output #0, mp4, to '/notebooks/source/render/prerender_tracked_audio.mp4':\n",
      "  Metadata:\n",
      "    major_brand     : isom\n",
      "    minor_version   : 512\n",
      "    compatible_brands: isomiso2avc1mp41\n",
      "    encoder         : Lavf58.29.100\n",
      "    Stream #0:0(und): Video: h264 (High) (avc1 / 0x31637661), yuv420p, 1920x1080, q=2-31, 5492 kb/s, 30 fps, 30 tbr, 15360 tbn, 15360 tbc (default)\n",
      "    Metadata:\n",
      "      handler_name    : VideoHandler\n",
      "    Stream #0:1(und): Audio: aac (LC) (mp4a / 0x6134706D), 48000 Hz, stereo, fltp, 293 kb/s (default)\n",
      "    Metadata:\n",
      "      handler_name    : SoundHandler\n",
      "Stream mapping:\n",
      "  Stream #0:0 -> #0:0 (copy)\n",
      "  Stream #1:1 -> #0:1 (copy)\n",
      "Press [q] to stop, [?] for help\n",
      "frame=112300 fps=42981 q=-1.0 Lsize= 2648136kB time=01:02:23.25 bitrate=5795.4kbits/s speed=1.43e+03x    \n",
      "video:2509937kB audio:134181kB subtitle:0kB other streams:0kB global headers:0kB muxing overhead: 0.151993%\n"
     ]
    }
   ],
   "source": [
    "command = f'python render.py --width=1920 --height=1080 --framerate=30 --max-zoom=1.9 --min-zoom=1.1 --max-area=400 --min-area=50 \"/notebooks/source/prerender.mp4\"'\n",
    "\n",
    "print(command)\n",
    "\n",
    "!$command"
   ]
  }
 ],
 "metadata": {
  "kernelspec": {
   "display_name": "Python 3 (ipykernel)",
   "language": "python",
   "name": "python3"
  },
  "language_info": {
   "codemirror_mode": {
    "name": "ipython",
    "version": 3
   },
   "file_extension": ".py",
   "mimetype": "text/x-python",
   "name": "python",
   "nbconvert_exporter": "python",
   "pygments_lexer": "ipython3",
   "version": "3.9.16"
  }
 },
 "nbformat": 4,
 "nbformat_minor": 5
}
