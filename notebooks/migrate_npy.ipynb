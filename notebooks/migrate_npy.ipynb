{
 "cells": [
  {
   "cell_type": "code",
   "execution_count": 20,
   "metadata": {},
   "outputs": [],
   "source": [
    "import numpy as np\n",
    "\n",
    "old_dtype = [('bbox', float, (4,)), ('confidence', float), ('class', int)]\n",
    "new_dtype = [('bbox', float, (4,)), ('confidence', float), ('class', int), ('cluster', int)]\n",
    "\n",
    "file_path = '../recipes/source/detect/soccer_detections.npy'\n",
    "\n",
    "loaded = np.load(file_path, allow_pickle=True)\n",
    "\n",
    "updated = np.zeros(len(loaded), dtype=object)\n",
    "\n",
    "for i, row in enumerate(loaded):\n",
    "    new_row = np.zeros(len(row), dtype=new_dtype)\n",
    "\n",
    "    new_row[\"bbox\"] = row[\"bbox\"]\n",
    "    new_row[\"confidence\"] = row[\"confidence\"]\n",
    "    new_row[\"class\"] = row[\"class\"]\n",
    "    new_row[\"cluster\"] = -1\n",
    "\n",
    "    updated[i] = new_row\n",
    "\n",
    "new_file_path = file_path.replace('.npy', '_migrated.npy')\n",
    "\n",
    "np.save(new_file_path, updated, allow_pickle=True)"
   ]
  },
  {
   "cell_type": "code",
   "execution_count": 8,
   "metadata": {},
   "outputs": [
    {
     "name": "stdout",
     "output_type": "stream",
     "text": [
      "Detections(xyxy=array([[1633.31707764,  517.52770996, 1644.32098389,  527.12487793],\n",
      "       [1085.34218597,  501.34685516, 1093.40332031,  508.6645813 ]]), mask=None, confidence=array([0.9322933 , 0.86066258]), class_id=array([0, 0]), tracker_id=None, data={}, cluster_id=array([0, 1]), point_of_interest=None, area_of_interest=None)\n"
     ]
    }
   ],
   "source": [
    "import numpy as np\n",
    "import sys\n",
    "sys.path.append('../')\n",
    "from core.detections import Detections\n",
    "\n",
    "file_path = '../recipes/source/track/soccer_detections_vacocam.npy'\n",
    "\n",
    "loaded = np.load(file_path, allow_pickle=True)\n",
    "\n",
    "dets = Detections.from_structured_array(loaded[0])\n",
    "\n",
    "print(dets)"
   ]
  }
 ],
 "metadata": {
  "kernelspec": {
   "display_name": "venv",
   "language": "python",
   "name": "python3"
  },
  "language_info": {
   "codemirror_mode": {
    "name": "ipython",
    "version": 3
   },
   "file_extension": ".py",
   "mimetype": "text/x-python",
   "name": "python",
   "nbconvert_exporter": "python",
   "pygments_lexer": "ipython3",
   "version": "3.9.16"
  }
 },
 "nbformat": 4,
 "nbformat_minor": 2
}
