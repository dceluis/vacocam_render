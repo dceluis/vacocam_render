{
 "cells": [
  {
   "cell_type": "code",
   "execution_count": null,
   "id": "a3cc1423-d4dd-42c0-abcf-ff5a55644b0d",
   "metadata": {
    "execution": {
     "iopub.execute_input": "2023-12-16T07:43:11.174920Z",
     "iopub.status.busy": "2023-12-16T07:43:11.174175Z",
     "iopub.status.idle": "2023-12-16T07:43:14.316408Z",
     "shell.execute_reply": "2023-12-16T07:43:14.315601Z",
     "shell.execute_reply.started": "2023-12-16T07:43:11.174876Z"
    }
   },
   "outputs": [],
   "source": [
    "!python -m pip install ultralytics sahi==0.11.15 ipython==8.5.0 ffmpeg-python wandb==0.16.1 scikit-learn supervision"
   ]
  },
  {
   "cell_type": "code",
   "execution_count": null,
   "id": "d0b157c4-4ee3-476d-94b6-48e83f48afb7",
   "metadata": {
    "execution": {
     "iopub.execute_input": "2023-12-16T07:43:14.318614Z",
     "iopub.status.busy": "2023-12-16T07:43:14.317942Z",
     "iopub.status.idle": "2023-12-16T07:51:13.438842Z",
     "shell.execute_reply": "2023-12-16T07:51:13.438239Z",
     "shell.execute_reply.started": "2023-12-16T07:43:14.318588Z"
    }
   },
   "outputs": [],
   "source": [
    "video_path = \"./source/prerender.mp4\"\n",
    "\n",
    "command = f'python render.py --preview --max-zoom=1.9 --min-zoom=1.1 --max-area=400 --min-area=50 --declustered --max-frames=12000 \"{video_path}\"'\n",
    "\n",
    "print(command)\n",
    "\n",
    "!$command"
   ]
  }
 ],
 "metadata": {
  "kernelspec": {
   "display_name": "Python 3 (ipykernel)",
   "language": "python",
   "name": "python3"
  },
  "language_info": {
   "codemirror_mode": {
    "name": "ipython",
    "version": 3
   },
   "file_extension": ".py",
   "mimetype": "text/x-python",
   "name": "python",
   "nbconvert_exporter": "python",
   "pygments_lexer": "ipython3",
   "version": "3.9.16"
  }
 },
 "nbformat": 4,
 "nbformat_minor": 5
}
